{
 "cells": [
  {
   "cell_type": "code",
   "execution_count": 1,
   "metadata": {
    "scrolled": true
   },
   "outputs": [
    {
     "name": "stdout",
     "output_type": "stream",
     "text": [
      "       age          job  marital  education default  balance housing loan  \\\n",
      "0       59       admin.  married  secondary      no     2343     yes   no   \n",
      "1       56       admin.  married  secondary      no       45      no   no   \n",
      "2       41   technician  married  secondary      no     1270     yes   no   \n",
      "3       55     services  married  secondary      no     2476     yes   no   \n",
      "4       54       admin.  married   tertiary      no      184      no   no   \n",
      "...    ...          ...      ...        ...     ...      ...     ...  ...   \n",
      "11157   33  blue-collar   single    primary      no        1     yes   no   \n",
      "11158   39     services  married  secondary      no      733      no   no   \n",
      "11159   32   technician   single  secondary      no       29      no   no   \n",
      "11160   43   technician  married  secondary      no        0      no  yes   \n",
      "11161   34   technician  married  secondary      no        0      no   no   \n",
      "\n",
      "        contact  day month  duration  campaign  pdays  previous poutcome  \\\n",
      "0       unknown    5   may      1042         1     -1         0  unknown   \n",
      "1       unknown    5   may      1467         1     -1         0  unknown   \n",
      "2       unknown    5   may      1389         1     -1         0  unknown   \n",
      "3       unknown    5   may       579         1     -1         0  unknown   \n",
      "4       unknown    5   may       673         2     -1         0  unknown   \n",
      "...         ...  ...   ...       ...       ...    ...       ...      ...   \n",
      "11157  cellular   20   apr       257         1     -1         0  unknown   \n",
      "11158   unknown   16   jun        83         4     -1         0  unknown   \n",
      "11159  cellular   19   aug       156         2     -1         0  unknown   \n",
      "11160  cellular    8   may         9         2    172         5  failure   \n",
      "11161  cellular    9   jul       628         1     -1         0  unknown   \n",
      "\n",
      "      deposit  \n",
      "0         yes  \n",
      "1         yes  \n",
      "2         yes  \n",
      "3         yes  \n",
      "4         yes  \n",
      "...       ...  \n",
      "11157      no  \n",
      "11158      no  \n",
      "11159      no  \n",
      "11160      no  \n",
      "11161      no  \n",
      "\n",
      "[11162 rows x 17 columns]\n"
     ]
    }
   ],
   "source": [
    "import pandas as pd\n",
    "import matplotlib.pylab as plt\n",
    "data=pd.read_csv(\"bank.csv\")\n",
    "print(data)"
   ]
  },
  {
   "cell_type": "code",
   "execution_count": 2,
   "metadata": {},
   "outputs": [
    {
     "name": "stdout",
     "output_type": "stream",
     "text": [
      "<class 'pandas.core.frame.DataFrame'>\n",
      "RangeIndex: 11162 entries, 0 to 11161\n",
      "Data columns (total 17 columns):\n",
      "age          11162 non-null int64\n",
      "job          11162 non-null object\n",
      "marital      11162 non-null object\n",
      "education    11162 non-null object\n",
      "default      11162 non-null object\n",
      "balance      11162 non-null int64\n",
      "housing      11162 non-null object\n",
      "loan         11162 non-null object\n",
      "contact      11162 non-null object\n",
      "day          11162 non-null int64\n",
      "month        11162 non-null object\n",
      "duration     11162 non-null int64\n",
      "campaign     11162 non-null int64\n",
      "pdays        11162 non-null int64\n",
      "previous     11162 non-null int64\n",
      "poutcome     11162 non-null object\n",
      "deposit      11162 non-null object\n",
      "dtypes: int64(7), object(10)\n",
      "memory usage: 1.4+ MB\n"
     ]
    }
   ],
   "source": [
    "data.info()"
   ]
  },
  {
   "cell_type": "code",
   "execution_count": 3,
   "metadata": {},
   "outputs": [
    {
     "data": {
      "text/html": [
       "<div>\n",
       "<style scoped>\n",
       "    .dataframe tbody tr th:only-of-type {\n",
       "        vertical-align: middle;\n",
       "    }\n",
       "\n",
       "    .dataframe tbody tr th {\n",
       "        vertical-align: top;\n",
       "    }\n",
       "\n",
       "    .dataframe thead th {\n",
       "        text-align: right;\n",
       "    }\n",
       "</style>\n",
       "<table border=\"1\" class=\"dataframe\">\n",
       "  <thead>\n",
       "    <tr style=\"text-align: right;\">\n",
       "      <th></th>\n",
       "      <th>age</th>\n",
       "      <th>job</th>\n",
       "      <th>marital</th>\n",
       "      <th>education</th>\n",
       "      <th>default</th>\n",
       "      <th>balance</th>\n",
       "      <th>housing</th>\n",
       "      <th>loan</th>\n",
       "      <th>contact</th>\n",
       "      <th>day</th>\n",
       "      <th>month</th>\n",
       "      <th>duration</th>\n",
       "      <th>campaign</th>\n",
       "      <th>pdays</th>\n",
       "      <th>previous</th>\n",
       "      <th>poutcome</th>\n",
       "      <th>deposit</th>\n",
       "    </tr>\n",
       "  </thead>\n",
       "  <tbody>\n",
       "    <tr>\n",
       "      <td>0</td>\n",
       "      <td>59</td>\n",
       "      <td>admin.</td>\n",
       "      <td>married</td>\n",
       "      <td>secondary</td>\n",
       "      <td>no</td>\n",
       "      <td>2343</td>\n",
       "      <td>yes</td>\n",
       "      <td>no</td>\n",
       "      <td>unknown</td>\n",
       "      <td>5</td>\n",
       "      <td>may</td>\n",
       "      <td>1042</td>\n",
       "      <td>1</td>\n",
       "      <td>-1</td>\n",
       "      <td>0</td>\n",
       "      <td>unknown</td>\n",
       "      <td>yes</td>\n",
       "    </tr>\n",
       "    <tr>\n",
       "      <td>1</td>\n",
       "      <td>56</td>\n",
       "      <td>admin.</td>\n",
       "      <td>married</td>\n",
       "      <td>secondary</td>\n",
       "      <td>no</td>\n",
       "      <td>45</td>\n",
       "      <td>no</td>\n",
       "      <td>no</td>\n",
       "      <td>unknown</td>\n",
       "      <td>5</td>\n",
       "      <td>may</td>\n",
       "      <td>1467</td>\n",
       "      <td>1</td>\n",
       "      <td>-1</td>\n",
       "      <td>0</td>\n",
       "      <td>unknown</td>\n",
       "      <td>yes</td>\n",
       "    </tr>\n",
       "    <tr>\n",
       "      <td>2</td>\n",
       "      <td>41</td>\n",
       "      <td>technician</td>\n",
       "      <td>married</td>\n",
       "      <td>secondary</td>\n",
       "      <td>no</td>\n",
       "      <td>1270</td>\n",
       "      <td>yes</td>\n",
       "      <td>no</td>\n",
       "      <td>unknown</td>\n",
       "      <td>5</td>\n",
       "      <td>may</td>\n",
       "      <td>1389</td>\n",
       "      <td>1</td>\n",
       "      <td>-1</td>\n",
       "      <td>0</td>\n",
       "      <td>unknown</td>\n",
       "      <td>yes</td>\n",
       "    </tr>\n",
       "    <tr>\n",
       "      <td>3</td>\n",
       "      <td>55</td>\n",
       "      <td>services</td>\n",
       "      <td>married</td>\n",
       "      <td>secondary</td>\n",
       "      <td>no</td>\n",
       "      <td>2476</td>\n",
       "      <td>yes</td>\n",
       "      <td>no</td>\n",
       "      <td>unknown</td>\n",
       "      <td>5</td>\n",
       "      <td>may</td>\n",
       "      <td>579</td>\n",
       "      <td>1</td>\n",
       "      <td>-1</td>\n",
       "      <td>0</td>\n",
       "      <td>unknown</td>\n",
       "      <td>yes</td>\n",
       "    </tr>\n",
       "    <tr>\n",
       "      <td>4</td>\n",
       "      <td>54</td>\n",
       "      <td>admin.</td>\n",
       "      <td>married</td>\n",
       "      <td>tertiary</td>\n",
       "      <td>no</td>\n",
       "      <td>184</td>\n",
       "      <td>no</td>\n",
       "      <td>no</td>\n",
       "      <td>unknown</td>\n",
       "      <td>5</td>\n",
       "      <td>may</td>\n",
       "      <td>673</td>\n",
       "      <td>2</td>\n",
       "      <td>-1</td>\n",
       "      <td>0</td>\n",
       "      <td>unknown</td>\n",
       "      <td>yes</td>\n",
       "    </tr>\n",
       "  </tbody>\n",
       "</table>\n",
       "</div>"
      ],
      "text/plain": [
       "   age         job  marital  education default  balance housing loan  contact  \\\n",
       "0   59      admin.  married  secondary      no     2343     yes   no  unknown   \n",
       "1   56      admin.  married  secondary      no       45      no   no  unknown   \n",
       "2   41  technician  married  secondary      no     1270     yes   no  unknown   \n",
       "3   55    services  married  secondary      no     2476     yes   no  unknown   \n",
       "4   54      admin.  married   tertiary      no      184      no   no  unknown   \n",
       "\n",
       "   day month  duration  campaign  pdays  previous poutcome deposit  \n",
       "0    5   may      1042         1     -1         0  unknown     yes  \n",
       "1    5   may      1467         1     -1         0  unknown     yes  \n",
       "2    5   may      1389         1     -1         0  unknown     yes  \n",
       "3    5   may       579         1     -1         0  unknown     yes  \n",
       "4    5   may       673         2     -1         0  unknown     yes  "
      ]
     },
     "execution_count": 3,
     "metadata": {},
     "output_type": "execute_result"
    }
   ],
   "source": [
    "data.head()"
   ]
  },
  {
   "cell_type": "code",
   "execution_count": 4,
   "metadata": {},
   "outputs": [
    {
     "data": {
      "text/html": [
       "<div>\n",
       "<style scoped>\n",
       "    .dataframe tbody tr th:only-of-type {\n",
       "        vertical-align: middle;\n",
       "    }\n",
       "\n",
       "    .dataframe tbody tr th {\n",
       "        vertical-align: top;\n",
       "    }\n",
       "\n",
       "    .dataframe thead th {\n",
       "        text-align: right;\n",
       "    }\n",
       "</style>\n",
       "<table border=\"1\" class=\"dataframe\">\n",
       "  <thead>\n",
       "    <tr style=\"text-align: right;\">\n",
       "      <th></th>\n",
       "      <th>age</th>\n",
       "      <th>job</th>\n",
       "      <th>marital</th>\n",
       "      <th>education</th>\n",
       "      <th>default</th>\n",
       "      <th>balance</th>\n",
       "      <th>housing</th>\n",
       "      <th>loan</th>\n",
       "      <th>contact</th>\n",
       "      <th>day</th>\n",
       "      <th>month</th>\n",
       "      <th>duration</th>\n",
       "      <th>campaign</th>\n",
       "      <th>pdays</th>\n",
       "      <th>previous</th>\n",
       "      <th>poutcome</th>\n",
       "      <th>deposit</th>\n",
       "    </tr>\n",
       "  </thead>\n",
       "  <tbody>\n",
       "    <tr>\n",
       "      <td>11157</td>\n",
       "      <td>33</td>\n",
       "      <td>blue-collar</td>\n",
       "      <td>single</td>\n",
       "      <td>primary</td>\n",
       "      <td>no</td>\n",
       "      <td>1</td>\n",
       "      <td>yes</td>\n",
       "      <td>no</td>\n",
       "      <td>cellular</td>\n",
       "      <td>20</td>\n",
       "      <td>apr</td>\n",
       "      <td>257</td>\n",
       "      <td>1</td>\n",
       "      <td>-1</td>\n",
       "      <td>0</td>\n",
       "      <td>unknown</td>\n",
       "      <td>no</td>\n",
       "    </tr>\n",
       "    <tr>\n",
       "      <td>11158</td>\n",
       "      <td>39</td>\n",
       "      <td>services</td>\n",
       "      <td>married</td>\n",
       "      <td>secondary</td>\n",
       "      <td>no</td>\n",
       "      <td>733</td>\n",
       "      <td>no</td>\n",
       "      <td>no</td>\n",
       "      <td>unknown</td>\n",
       "      <td>16</td>\n",
       "      <td>jun</td>\n",
       "      <td>83</td>\n",
       "      <td>4</td>\n",
       "      <td>-1</td>\n",
       "      <td>0</td>\n",
       "      <td>unknown</td>\n",
       "      <td>no</td>\n",
       "    </tr>\n",
       "    <tr>\n",
       "      <td>11159</td>\n",
       "      <td>32</td>\n",
       "      <td>technician</td>\n",
       "      <td>single</td>\n",
       "      <td>secondary</td>\n",
       "      <td>no</td>\n",
       "      <td>29</td>\n",
       "      <td>no</td>\n",
       "      <td>no</td>\n",
       "      <td>cellular</td>\n",
       "      <td>19</td>\n",
       "      <td>aug</td>\n",
       "      <td>156</td>\n",
       "      <td>2</td>\n",
       "      <td>-1</td>\n",
       "      <td>0</td>\n",
       "      <td>unknown</td>\n",
       "      <td>no</td>\n",
       "    </tr>\n",
       "    <tr>\n",
       "      <td>11160</td>\n",
       "      <td>43</td>\n",
       "      <td>technician</td>\n",
       "      <td>married</td>\n",
       "      <td>secondary</td>\n",
       "      <td>no</td>\n",
       "      <td>0</td>\n",
       "      <td>no</td>\n",
       "      <td>yes</td>\n",
       "      <td>cellular</td>\n",
       "      <td>8</td>\n",
       "      <td>may</td>\n",
       "      <td>9</td>\n",
       "      <td>2</td>\n",
       "      <td>172</td>\n",
       "      <td>5</td>\n",
       "      <td>failure</td>\n",
       "      <td>no</td>\n",
       "    </tr>\n",
       "    <tr>\n",
       "      <td>11161</td>\n",
       "      <td>34</td>\n",
       "      <td>technician</td>\n",
       "      <td>married</td>\n",
       "      <td>secondary</td>\n",
       "      <td>no</td>\n",
       "      <td>0</td>\n",
       "      <td>no</td>\n",
       "      <td>no</td>\n",
       "      <td>cellular</td>\n",
       "      <td>9</td>\n",
       "      <td>jul</td>\n",
       "      <td>628</td>\n",
       "      <td>1</td>\n",
       "      <td>-1</td>\n",
       "      <td>0</td>\n",
       "      <td>unknown</td>\n",
       "      <td>no</td>\n",
       "    </tr>\n",
       "  </tbody>\n",
       "</table>\n",
       "</div>"
      ],
      "text/plain": [
       "       age          job  marital  education default  balance housing loan  \\\n",
       "11157   33  blue-collar   single    primary      no        1     yes   no   \n",
       "11158   39     services  married  secondary      no      733      no   no   \n",
       "11159   32   technician   single  secondary      no       29      no   no   \n",
       "11160   43   technician  married  secondary      no        0      no  yes   \n",
       "11161   34   technician  married  secondary      no        0      no   no   \n",
       "\n",
       "        contact  day month  duration  campaign  pdays  previous poutcome  \\\n",
       "11157  cellular   20   apr       257         1     -1         0  unknown   \n",
       "11158   unknown   16   jun        83         4     -1         0  unknown   \n",
       "11159  cellular   19   aug       156         2     -1         0  unknown   \n",
       "11160  cellular    8   may         9         2    172         5  failure   \n",
       "11161  cellular    9   jul       628         1     -1         0  unknown   \n",
       "\n",
       "      deposit  \n",
       "11157      no  \n",
       "11158      no  \n",
       "11159      no  \n",
       "11160      no  \n",
       "11161      no  "
      ]
     },
     "execution_count": 4,
     "metadata": {},
     "output_type": "execute_result"
    }
   ],
   "source": [
    "data.tail()"
   ]
  },
  {
   "cell_type": "code",
   "execution_count": 5,
   "metadata": {},
   "outputs": [
    {
     "data": {
      "text/html": [
       "<div>\n",
       "<style scoped>\n",
       "    .dataframe tbody tr th:only-of-type {\n",
       "        vertical-align: middle;\n",
       "    }\n",
       "\n",
       "    .dataframe tbody tr th {\n",
       "        vertical-align: top;\n",
       "    }\n",
       "\n",
       "    .dataframe thead th {\n",
       "        text-align: right;\n",
       "    }\n",
       "</style>\n",
       "<table border=\"1\" class=\"dataframe\">\n",
       "  <thead>\n",
       "    <tr style=\"text-align: right;\">\n",
       "      <th></th>\n",
       "      <th>age</th>\n",
       "      <th>balance</th>\n",
       "      <th>day</th>\n",
       "      <th>duration</th>\n",
       "      <th>campaign</th>\n",
       "      <th>pdays</th>\n",
       "      <th>previous</th>\n",
       "    </tr>\n",
       "  </thead>\n",
       "  <tbody>\n",
       "    <tr>\n",
       "      <td>count</td>\n",
       "      <td>11162.000000</td>\n",
       "      <td>11162.000000</td>\n",
       "      <td>11162.000000</td>\n",
       "      <td>11162.000000</td>\n",
       "      <td>11162.000000</td>\n",
       "      <td>11162.000000</td>\n",
       "      <td>11162.000000</td>\n",
       "    </tr>\n",
       "    <tr>\n",
       "      <td>mean</td>\n",
       "      <td>41.231948</td>\n",
       "      <td>1528.538524</td>\n",
       "      <td>15.658036</td>\n",
       "      <td>371.993818</td>\n",
       "      <td>2.508421</td>\n",
       "      <td>51.330407</td>\n",
       "      <td>0.832557</td>\n",
       "    </tr>\n",
       "    <tr>\n",
       "      <td>std</td>\n",
       "      <td>11.913369</td>\n",
       "      <td>3225.413326</td>\n",
       "      <td>8.420740</td>\n",
       "      <td>347.128386</td>\n",
       "      <td>2.722077</td>\n",
       "      <td>108.758282</td>\n",
       "      <td>2.292007</td>\n",
       "    </tr>\n",
       "    <tr>\n",
       "      <td>min</td>\n",
       "      <td>18.000000</td>\n",
       "      <td>-6847.000000</td>\n",
       "      <td>1.000000</td>\n",
       "      <td>2.000000</td>\n",
       "      <td>1.000000</td>\n",
       "      <td>-1.000000</td>\n",
       "      <td>0.000000</td>\n",
       "    </tr>\n",
       "    <tr>\n",
       "      <td>25%</td>\n",
       "      <td>32.000000</td>\n",
       "      <td>122.000000</td>\n",
       "      <td>8.000000</td>\n",
       "      <td>138.000000</td>\n",
       "      <td>1.000000</td>\n",
       "      <td>-1.000000</td>\n",
       "      <td>0.000000</td>\n",
       "    </tr>\n",
       "    <tr>\n",
       "      <td>50%</td>\n",
       "      <td>39.000000</td>\n",
       "      <td>550.000000</td>\n",
       "      <td>15.000000</td>\n",
       "      <td>255.000000</td>\n",
       "      <td>2.000000</td>\n",
       "      <td>-1.000000</td>\n",
       "      <td>0.000000</td>\n",
       "    </tr>\n",
       "    <tr>\n",
       "      <td>75%</td>\n",
       "      <td>49.000000</td>\n",
       "      <td>1708.000000</td>\n",
       "      <td>22.000000</td>\n",
       "      <td>496.000000</td>\n",
       "      <td>3.000000</td>\n",
       "      <td>20.750000</td>\n",
       "      <td>1.000000</td>\n",
       "    </tr>\n",
       "    <tr>\n",
       "      <td>max</td>\n",
       "      <td>95.000000</td>\n",
       "      <td>81204.000000</td>\n",
       "      <td>31.000000</td>\n",
       "      <td>3881.000000</td>\n",
       "      <td>63.000000</td>\n",
       "      <td>854.000000</td>\n",
       "      <td>58.000000</td>\n",
       "    </tr>\n",
       "  </tbody>\n",
       "</table>\n",
       "</div>"
      ],
      "text/plain": [
       "                age       balance           day      duration      campaign  \\\n",
       "count  11162.000000  11162.000000  11162.000000  11162.000000  11162.000000   \n",
       "mean      41.231948   1528.538524     15.658036    371.993818      2.508421   \n",
       "std       11.913369   3225.413326      8.420740    347.128386      2.722077   \n",
       "min       18.000000  -6847.000000      1.000000      2.000000      1.000000   \n",
       "25%       32.000000    122.000000      8.000000    138.000000      1.000000   \n",
       "50%       39.000000    550.000000     15.000000    255.000000      2.000000   \n",
       "75%       49.000000   1708.000000     22.000000    496.000000      3.000000   \n",
       "max       95.000000  81204.000000     31.000000   3881.000000     63.000000   \n",
       "\n",
       "              pdays      previous  \n",
       "count  11162.000000  11162.000000  \n",
       "mean      51.330407      0.832557  \n",
       "std      108.758282      2.292007  \n",
       "min       -1.000000      0.000000  \n",
       "25%       -1.000000      0.000000  \n",
       "50%       -1.000000      0.000000  \n",
       "75%       20.750000      1.000000  \n",
       "max      854.000000     58.000000  "
      ]
     },
     "execution_count": 5,
     "metadata": {},
     "output_type": "execute_result"
    }
   ],
   "source": [
    "data.describe()"
   ]
  },
  {
   "cell_type": "code",
   "execution_count": 6,
   "metadata": {},
   "outputs": [
    {
     "data": {
      "text/plain": [
       "array([[<matplotlib.axes._subplots.AxesSubplot object at 0x000001DB376B8A48>,\n",
       "        <matplotlib.axes._subplots.AxesSubplot object at 0x000001DB3796F948>,\n",
       "        <matplotlib.axes._subplots.AxesSubplot object at 0x000001DB379A8508>],\n",
       "       [<matplotlib.axes._subplots.AxesSubplot object at 0x000001DB379E1608>,\n",
       "        <matplotlib.axes._subplots.AxesSubplot object at 0x000001DB37A1A708>,\n",
       "        <matplotlib.axes._subplots.AxesSubplot object at 0x000001DB37A537C8>],\n",
       "       [<matplotlib.axes._subplots.AxesSubplot object at 0x000001DB37A8B8C8>,\n",
       "        <matplotlib.axes._subplots.AxesSubplot object at 0x000001DB37AC39C8>,\n",
       "        <matplotlib.axes._subplots.AxesSubplot object at 0x000001DB37ACE5C8>]],\n",
       "      dtype=object)"
      ]
     },
     "execution_count": 6,
     "metadata": {},
     "output_type": "execute_result"
    },
    {
     "data": {
      "image/png": "[encoded data removed]",
      "text/plain": [
       "<Figure size 432x288 with 9 Axes>"
      ]
     },
     "metadata": {
      "needs_background": "light"
     },
     "output_type": "display_data"
    }
   ],
   "source": [
    "data.hist()"
   ]
  },
  {
   "cell_type": "code",
   "execution_count": 7,
   "metadata": {},
   "outputs": [
    {
     "data": {
      "text/plain": [
       "<matplotlib.axes._subplots.AxesSubplot at 0x1db37c11388>"
      ]
     },
     "execution_count": 7,
     "metadata": {},
     "output_type": "execute_result"
    },
    {
     "data": {
      "image/png": "[encoded data removed]",
      "text/plain": [
       "<Figure size 432x288 with 1 Axes>"
      ]
     },
     "metadata": {
      "needs_background": "light"
     },
     "output_type": "display_data"
    }
   ],
   "source": [
    "data.boxplot()"
   ]
  },
  {
   "cell_type": "code",
   "execution_count": 8,
   "metadata": {},
   "outputs": [
    {
     "ename": "AttributeError",
     "evalue": "'DataFrame' object has no attribute 'scatter'",
     "output_type": "error",
     "traceback": [
      "\u001b[1;31m---------------------------------------------------------------------------\u001b[0m",
      "\u001b[1;31mAttributeError\u001b[0m                            Traceback (most recent call last)",
      "\u001b[1;32m<ipython-input-8-af2f4b628209>\u001b[0m in \u001b[0;36m<module>\u001b[1;34m\u001b[0m\n\u001b[1;32m----> 1\u001b[1;33m \u001b[0mdata\u001b[0m\u001b[1;33m.\u001b[0m\u001b[0mscatter\u001b[0m\u001b[1;33m(\u001b[0m\u001b[1;33m)\u001b[0m\u001b[1;33m\u001b[0m\u001b[1;33m\u001b[0m\u001b[0m\n\u001b[0m",
      "\u001b[1;32m~\\Anaconda3\\lib\\site-packages\\pandas\\core\\generic.py\u001b[0m in \u001b[0;36m__getattr__\u001b[1;34m(self, name)\u001b[0m\n\u001b[0;32m   5177\u001b[0m             \u001b[1;32mif\u001b[0m \u001b[0mself\u001b[0m\u001b[1;33m.\u001b[0m\u001b[0m_info_axis\u001b[0m\u001b[1;33m.\u001b[0m\u001b[0m_can_hold_identifiers_and_holds_name\u001b[0m\u001b[1;33m(\u001b[0m\u001b[0mname\u001b[0m\u001b[1;33m)\u001b[0m\u001b[1;33m:\u001b[0m\u001b[1;33m\u001b[0m\u001b[1;33m\u001b[0m\u001b[0m\n\u001b[0;32m   5178\u001b[0m                 \u001b[1;32mreturn\u001b[0m \u001b[0mself\u001b[0m\u001b[1;33m[\u001b[0m\u001b[0mname\u001b[0m\u001b[1;33m]\u001b[0m\u001b[1;33m\u001b[0m\u001b[1;33m\u001b[0m\u001b[0m\n\u001b[1;32m-> 5179\u001b[1;33m             \u001b[1;32mreturn\u001b[0m \u001b[0mobject\u001b[0m\u001b[1;33m.\u001b[0m\u001b[0m__getattribute__\u001b[0m\u001b[1;33m(\u001b[0m\u001b[0mself\u001b[0m\u001b[1;33m,\u001b[0m \u001b[0mname\u001b[0m\u001b[1;33m)\u001b[0m\u001b[1;33m\u001b[0m\u001b[1;33m\u001b[0m\u001b[0m\n\u001b[0m\u001b[0;32m   5180\u001b[0m \u001b[1;33m\u001b[0m\u001b[0m\n\u001b[0;32m   5181\u001b[0m     \u001b[1;32mdef\u001b[0m \u001b[0m__setattr__\u001b[0m\u001b[1;33m(\u001b[0m\u001b[0mself\u001b[0m\u001b[1;33m,\u001b[0m \u001b[0mname\u001b[0m\u001b[1;33m,\u001b[0m \u001b[0mvalue\u001b[0m\u001b[1;33m)\u001b[0m\u001b[1;33m:\u001b[0m\u001b[1;33m\u001b[0m\u001b[1;33m\u001b[0m\u001b[0m\n",
      "\u001b[1;31mAttributeError\u001b[0m: 'DataFrame' object has no attribute 'scatter'"
     ]
    }
   ],
   "source": [
    "data.scatter()"
   ]
  },
  {
   "cell_type": "code",
   "execution_count": null,
   "metadata": {},
   "outputs": [],
   "source": [
    "data.balance.mean()"
   ]
  },
  {
   "cell_type": "code",
   "execution_count": null,
   "metadata": {},
   "outputs": [],
   "source": []
  },
  {
   "cell_type": "code",
   "execution_count": 10,
   "metadata": {},
   "outputs": [
    {
     "name": "stdout",
     "output_type": "stream",
     "text": [
      "       age          job  marital  education default  balance housing loan  \\\n",
      "0       59       admin.  married  secondary      no     2343     yes   no   \n",
      "1       56       admin.  married  secondary      no       45      no   no   \n",
      "2       41   technician  married  secondary      no     1270     yes   no   \n",
      "3       55     services  married  secondary      no     2476     yes   no   \n",
      "4       54       admin.  married   tertiary      no      184      no   no   \n",
      "...    ...          ...      ...        ...     ...      ...     ...  ...   \n",
      "11157   33  blue-collar   single    primary      no        1     yes   no   \n",
      "11158   39     services  married  secondary      no      733      no   no   \n",
      "11159   32   technician   single  secondary      no       29      no   no   \n",
      "11160   43   technician  married  secondary      no        0      no  yes   \n",
      "11161   34   technician  married  secondary      no        0      no   no   \n",
      "\n",
      "        contact  day month  duration  campaign  pdays  previous poutcome  \\\n",
      "0       unknown    5   may      1042         1     -1         0  unknown   \n",
      "1       unknown    5   may      1467         1     -1         0  unknown   \n",
      "2       unknown    5   may      1389         1     -1         0  unknown   \n",
      "3       unknown    5   may       579         1     -1         0  unknown   \n",
      "4       unknown    5   may       673         2     -1         0  unknown   \n",
      "...         ...  ...   ...       ...       ...    ...       ...      ...   \n",
      "11157  cellular   20   apr       257         1     -1         0  unknown   \n",
      "11158   unknown   16   jun        83         4     -1         0  unknown   \n",
      "11159  cellular   19   aug       156         2     -1         0  unknown   \n",
      "11160  cellular    8   may         9         2    172         5  failure   \n",
      "11161  cellular    9   jul       628         1     -1         0  unknown   \n",
      "\n",
      "      deposit  \n",
      "0         yes  \n",
      "1         yes  \n",
      "2         yes  \n",
      "3         yes  \n",
      "4         yes  \n",
      "...       ...  \n",
      "11157      no  \n",
      "11158      no  \n",
      "11159      no  \n",
      "11160      no  \n",
      "11161      no  \n",
      "\n",
      "[11162 rows x 17 columns]\n"
     ]
    }
   ],
   "source": [
    "import pandas as pd\n",
    "import matplotlib \n",
    "import matplotlib.pylab as plt\n",
    "data=pd.read_csv(\"bank.csv\")\n",
    "print(data)"
   ]
  },
  {
   "cell_type": "code",
   "execution_count": 11,
   "metadata": {},
   "outputs": [
    {
     "data": {
      "text/plain": [
       "41.231947679627304"
      ]
     },
     "execution_count": 11,
     "metadata": {},
     "output_type": "execute_result"
    }
   ],
   "source": [
    "data.age.mean()"
   ]
  },
  {
   "cell_type": "code",
   "execution_count": 12,
   "metadata": {},
   "outputs": [
    {
     "data": {
      "text/plain": [
       "15.658036194230425"
      ]
     },
     "execution_count": 12,
     "metadata": {},
     "output_type": "execute_result"
    }
   ],
   "source": [
    "data.day.mean()"
   ]
  },
  {
   "cell_type": "code",
   "execution_count": 13,
   "metadata": {},
   "outputs": [
    {
     "data": {
      "text/plain": [
       "371.99381831213043"
      ]
     },
     "execution_count": 13,
     "metadata": {},
     "output_type": "execute_result"
    }
   ],
   "source": [
    "data.duration.mean()"
   ]
  },
  {
   "cell_type": "code",
   "execution_count": 14,
   "metadata": {},
   "outputs": [
    {
     "data": {
      "text/plain": [
       "2.508421429851281"
      ]
     },
     "execution_count": 14,
     "metadata": {},
     "output_type": "execute_result"
    }
   ],
   "source": [
    "data.campaign.mean()"
   ]
  },
  {
   "cell_type": "code",
   "execution_count": 15,
   "metadata": {},
   "outputs": [
    {
     "data": {
      "text/plain": [
       "51.33040673714388"
      ]
     },
     "execution_count": 15,
     "metadata": {},
     "output_type": "execute_result"
    }
   ],
   "source": [
    "data.pdays.mean()"
   ]
  },
  {
   "cell_type": "code",
   "execution_count": 16,
   "metadata": {},
   "outputs": [
    {
     "data": {
      "text/plain": [
       "0.8325568894463358"
      ]
     },
     "execution_count": 16,
     "metadata": {},
     "output_type": "execute_result"
    }
   ],
   "source": [
    "data.previous.mean()"
   ]
  },
  {
   "cell_type": "code",
   "execution_count": 17,
   "metadata": {},
   "outputs": [
    {
     "name": "stdout",
     "output_type": "stream",
     "text": [
      "       age          job  marital  education default  balance housing loan  \\\n",
      "0       59       admin.  married  secondary      no     2343     yes   no   \n",
      "1       56       admin.  married  secondary      no       45      no   no   \n",
      "2       41   technician  married  secondary      no     1270     yes   no   \n",
      "3       55     services  married  secondary      no     2476     yes   no   \n",
      "4       54       admin.  married   tertiary      no      184      no   no   \n",
      "...    ...          ...      ...        ...     ...      ...     ...  ...   \n",
      "11157   33  blue-collar   single    primary      no        1     yes   no   \n",
      "11158   39     services  married  secondary      no      733      no   no   \n",
      "11159   32   technician   single  secondary      no       29      no   no   \n",
      "11160   43   technician  married  secondary      no        0      no  yes   \n",
      "11161   34   technician  married  secondary      no        0      no   no   \n",
      "\n",
      "        contact  day month  duration  campaign  pdays  previous poutcome  \\\n",
      "0       unknown    5   may      1042         1     -1         0  unknown   \n",
      "1       unknown    5   may      1467         1     -1         0  unknown   \n",
      "2       unknown    5   may      1389         1     -1         0  unknown   \n",
      "3       unknown    5   may       579         1     -1         0  unknown   \n",
      "4       unknown    5   may       673         2     -1         0  unknown   \n",
      "...         ...  ...   ...       ...       ...    ...       ...      ...   \n",
      "11157  cellular   20   apr       257         1     -1         0  unknown   \n",
      "11158   unknown   16   jun        83         4     -1         0  unknown   \n",
      "11159  cellular   19   aug       156         2     -1         0  unknown   \n",
      "11160  cellular    8   may         9         2    172         5  failure   \n",
      "11161  cellular    9   jul       628         1     -1         0  unknown   \n",
      "\n",
      "      deposit  \n",
      "0         yes  \n",
      "1         yes  \n",
      "2         yes  \n",
      "3         yes  \n",
      "4         yes  \n",
      "...       ...  \n",
      "11157      no  \n",
      "11158      no  \n",
      "11159      no  \n",
      "11160      no  \n",
      "11161      no  \n",
      "\n",
      "[11162 rows x 17 columns]\n"
     ]
    }
   ],
   "source": [
    "import pandas as pd\n",
    "#import numpy as ny\n",
    "import matplotlib.pylab as plt\n",
    "data=pd.read_csv(\"bank.csv\")\n",
    "print(data)"
   ]
  },
  {
   "cell_type": "code",
   "execution_count": 18,
   "metadata": {},
   "outputs": [
    {
     "data": {
      "text/plain": [
       "550.0"
      ]
     },
     "execution_count": 18,
     "metadata": {},
     "output_type": "execute_result"
    }
   ],
   "source": [
    "data.balance.median()"
   ]
  },
  {
   "cell_type": "code",
   "execution_count": 19,
   "metadata": {},
   "outputs": [
    {
     "data": {
      "text/plain": [
       "39.0"
      ]
     },
     "execution_count": 19,
     "metadata": {},
     "output_type": "execute_result"
    }
   ],
   "source": [
    "data.age.median()"
   ]
  },
  {
   "cell_type": "code",
   "execution_count": null,
   "metadata": {},
   "outputs": [],
   "source": []
  },
  {
   "cell_type": "code",
   "execution_count": 20,
   "metadata": {},
   "outputs": [
    {
     "data": {
      "text/plain": [
       "15.0"
      ]
     },
     "execution_count": 20,
     "metadata": {},
     "output_type": "execute_result"
    }
   ],
   "source": [
    "data.day.median()"
   ]
  },
  {
   "cell_type": "code",
   "execution_count": 21,
   "metadata": {},
   "outputs": [
    {
     "data": {
      "text/plain": [
       "255.0"
      ]
     },
     "execution_count": 21,
     "metadata": {},
     "output_type": "execute_result"
    }
   ],
   "source": [
    "data.duration.median()"
   ]
  },
  {
   "cell_type": "code",
   "execution_count": 22,
   "metadata": {},
   "outputs": [
    {
     "data": {
      "text/plain": [
       "2.0"
      ]
     },
     "execution_count": 22,
     "metadata": {},
     "output_type": "execute_result"
    }
   ],
   "source": [
    "data.campaign.median()"
   ]
  },
  {
   "cell_type": "code",
   "execution_count": 23,
   "metadata": {},
   "outputs": [
    {
     "data": {
      "text/plain": [
       "-1.0"
      ]
     },
     "execution_count": 23,
     "metadata": {},
     "output_type": "execute_result"
    }
   ],
   "source": [
    "data.pdays.median()"
   ]
  },
  {
   "cell_type": "code",
   "execution_count": 24,
   "metadata": {},
   "outputs": [
    {
     "data": {
      "text/plain": [
       "0.0"
      ]
     },
     "execution_count": 24,
     "metadata": {},
     "output_type": "execute_result"
    }
   ],
   "source": [
    "data.previous.median()"
   ]
  },
  {
   "cell_type": "code",
   "execution_count": 25,
   "metadata": {},
   "outputs": [
    {
     "data": {
      "image/png": "[encoded data removed]",
      "text/plain": [
       "<Figure size 432x288 with 1 Axes>"
      ]
     },
     "metadata": {
      "needs_background": "light"
     },
     "output_type": "display_data"
    }
   ],
   "source": [
    "data.plot(kind=\"scatter\",x=\"age\",y=\"balance\",alpha=0.5,color=\"red\")\n",
    "plt.xlabel(\"age\")\n",
    "plt.ylabel(\"balance\")\n",
    "plt.title(\"age-balance scatter plot\")\n",
    "plt.show()"
   ]
  },
  {
   "cell_type": "code",
   "execution_count": 26,
   "metadata": {},
   "outputs": [
    {
     "data": {
      "image/png": "[encoded data removed]",
      "text/plain": [
       "<Figure size 432x288 with 1 Axes>"
      ]
     },
     "metadata": {
      "needs_background": "light"
     },
     "output_type": "display_data"
    }
   ],
   "source": [
    "x=data[\"age\"]\n",
    "y=data[\"balance\"]\n",
    "plt.bar(x,y,color=\"green\",width=0.15,edgecolor=\"white\",label=\"var1\")\n",
    "plt.xlabel(\"age\")\n",
    "plt.ylabel(\"balance\")\n",
    "plt.legend()\n",
    "plt.show()"
   ]
  },
  {
   "cell_type": "code",
   "execution_count": 27,
   "metadata": {},
   "outputs": [
    {
     "data": {
      "image/png": "[encoded data removed]",
      "text/plain": [
       "<Figure size 432x288 with 1 Axes>"
      ]
     },
     "metadata": {
      "needs_background": "light"
     },
     "output_type": "display_data"
    }
   ],
   "source": [
    "import numpy as np\n",
    "import matplotlib.pylab as plt\n",
    "barwidth=0.10\n",
    "bars1=[\"education\"]\n",
    "bars2=[\"job\"]\n",
    "bars3=[\"marital\"]\n",
    "bars4=[\"balance\"]\n",
    "\n",
    "r1=np.arange(len(bars1))\n",
    "r2=[x + barwidth for x in r1]\n",
    "r3=[x + barwidth for x in r2]\n",
    "r4=[x + barwidth for x in r3]\n",
    "\n",
    "plt.bar(r1,bars1,color=\"#7f6d5f\",width=barwidth,edgecolor=\"white\",label=\"var1\")\n",
    "plt.bar(r2,bars2,color=\"#557f2d\",width=barwidth,edgecolor=\"white\",label=\"var2\")\n",
    "plt.bar(r3,bars3,color=\"#2d7f5e\",width=barwidth,edgecolor=\"white\",label=\"var3\")\n",
    "plt.bar(r4,bars4,color=\"#2d7dfe\",width=barwidth,edgecolor=\"white\",label=\"var4\")\n",
    "\n",
    "plt.xlabel(\"group\",fontweight=\"bold\")\n",
    "plt.xticks([r + barwidth for r in range(len(bars1))])\n",
    "plt.legend()\n",
    "plt.show()"
   ]
  },
  {
   "cell_type": "code",
   "execution_count": 28,
   "metadata": {},
   "outputs": [
    {
     "data": {
      "image/png": "[encoded data removed]",
      "text/plain": [
       "<Figure size 432x288 with 1 Axes>"
      ]
     },
     "metadata": {
      "needs_background": "light"
     },
     "output_type": "display_data"
    }
   ],
   "source": [
    "x=data[\"age\"]\n",
    "bins=[0,5,10,15,20,25,30,35,40]\n",
    "plt.hist(x,bins,color=\"green\",histtype=\"bar\",label=\"bank\")\n",
    "plt.xlabel(\"age\")\n",
    "plt.ylabel(\"balance\")\n",
    "plt.legend()\n",
    "plt.show()"
   ]
  },
  {
   "cell_type": "code",
   "execution_count": null,
   "metadata": {},
   "outputs": [],
   "source": []
  },
  {
   "cell_type": "markdown",
   "metadata": {},
   "source": []
  },
  {
   "cell_type": "code",
   "execution_count": 29,
   "metadata": {},
   "outputs": [
    {
     "name": "stdout",
     "output_type": "stream",
     "text": [
      "       age          job  marital  education default  balance housing loan  \\\n",
      "0       59       admin.  married  secondary      no     2343     yes   no   \n",
      "1       56       admin.  married  secondary      no       45      no   no   \n",
      "2       41   technician  married  secondary      no     1270     yes   no   \n",
      "3       55     services  married  secondary      no     2476     yes   no   \n",
      "4       54       admin.  married   tertiary      no      184      no   no   \n",
      "...    ...          ...      ...        ...     ...      ...     ...  ...   \n",
      "11157   33  blue-collar   single    primary      no        1     yes   no   \n",
      "11158   39     services  married  secondary      no      733      no   no   \n",
      "11159   32   technician   single  secondary      no       29      no   no   \n",
      "11160   43   technician  married  secondary      no        0      no  yes   \n",
      "11161   34   technician  married  secondary      no        0      no   no   \n",
      "\n",
      "        contact  day month  duration  campaign  pdays  previous poutcome  \\\n",
      "0       unknown    5   may      1042         1     -1         0  unknown   \n",
      "1       unknown    5   may      1467         1     -1         0  unknown   \n",
      "2       unknown    5   may      1389         1     -1         0  unknown   \n",
      "3       unknown    5   may       579         1     -1         0  unknown   \n",
      "4       unknown    5   may       673         2     -1         0  unknown   \n",
      "...         ...  ...   ...       ...       ...    ...       ...      ...   \n",
      "11157  cellular   20   apr       257         1     -1         0  unknown   \n",
      "11158   unknown   16   jun        83         4     -1         0  unknown   \n",
      "11159  cellular   19   aug       156         2     -1         0  unknown   \n",
      "11160  cellular    8   may         9         2    172         5  failure   \n",
      "11161  cellular    9   jul       628         1     -1         0  unknown   \n",
      "\n",
      "      deposit  \n",
      "0         yes  \n",
      "1         yes  \n",
      "2         yes  \n",
      "3         yes  \n",
      "4         yes  \n",
      "...       ...  \n",
      "11157      no  \n",
      "11158      no  \n",
      "11159      no  \n",
      "11160      no  \n",
      "11161      no  \n",
      "\n",
      "[11162 rows x 17 columns]\n"
     ]
    }
   ],
   "source": [
    "import pandas as pd\n",
    "import matplotlib.pylab as plt\n",
    "data=pd.read_csv(\"bank.csv\")\n",
    "print(data)"
   ]
  },
  {
   "cell_type": "code",
   "execution_count": 30,
   "metadata": {},
   "outputs": [
    {
     "name": "stdout",
     "output_type": "stream",
     "text": [
      "       age          job  marital  education default  balance housing loan  \\\n",
      "0       59       admin.  married  secondary      no     2343     yes   no   \n",
      "1       56       admin.  married  secondary      no       45      no   no   \n",
      "2       41   technician  married  secondary      no     1270     yes   no   \n",
      "3       55     services  married  secondary      no     2476     yes   no   \n",
      "4       54       admin.  married   tertiary      no      184      no   no   \n",
      "...    ...          ...      ...        ...     ...      ...     ...  ...   \n",
      "11157   33  blue-collar   single    primary      no        1     yes   no   \n",
      "11158   39     services  married  secondary      no      733      no   no   \n",
      "11159   32   technician   single  secondary      no       29      no   no   \n",
      "11160   43   technician  married  secondary      no        0      no  yes   \n",
      "11161   34   technician  married  secondary      no        0      no   no   \n",
      "\n",
      "        contact  day month  duration  campaign  pdays  previous poutcome  \\\n",
      "0       unknown    5   may      1042         1     -1         0  unknown   \n",
      "1       unknown    5   may      1467         1     -1         0  unknown   \n",
      "2       unknown    5   may      1389         1     -1         0  unknown   \n",
      "3       unknown    5   may       579         1     -1         0  unknown   \n",
      "4       unknown    5   may       673         2     -1         0  unknown   \n",
      "...         ...  ...   ...       ...       ...    ...       ...      ...   \n",
      "11157  cellular   20   apr       257         1     -1         0  unknown   \n",
      "11158   unknown   16   jun        83         4     -1         0  unknown   \n",
      "11159  cellular   19   aug       156         2     -1         0  unknown   \n",
      "11160  cellular    8   may         9         2    172         5  failure   \n",
      "11161  cellular    9   jul       628         1     -1         0  unknown   \n",
      "\n",
      "      deposit  \n",
      "0         yes  \n",
      "1         yes  \n",
      "2         yes  \n",
      "3         yes  \n",
      "4         yes  \n",
      "...       ...  \n",
      "11157      no  \n",
      "11158      no  \n",
      "11159      no  \n",
      "11160      no  \n",
      "11161      no  \n",
      "\n",
      "[11162 rows x 17 columns]\n"
     ]
    }
   ],
   "source": [
    "import pandas as pd\n",
    "import matplotlib.pylab as plt\n",
    "data=pd.read_csv(\"bank.csv\")\n",
    "print(data)"
   ]
  },
  {
   "cell_type": "code",
   "execution_count": 31,
   "metadata": {},
   "outputs": [
    {
     "data": {
      "text/html": [
       "<div>\n",
       "<style scoped>\n",
       "    .dataframe tbody tr th:only-of-type {\n",
       "        vertical-align: middle;\n",
       "    }\n",
       "\n",
       "    .dataframe tbody tr th {\n",
       "        vertical-align: top;\n",
       "    }\n",
       "\n",
       "    .dataframe thead th {\n",
       "        text-align: right;\n",
       "    }\n",
       "</style>\n",
       "<table border=\"1\" class=\"dataframe\">\n",
       "  <thead>\n",
       "    <tr style=\"text-align: right;\">\n",
       "      <th></th>\n",
       "      <th>age</th>\n",
       "      <th>balance</th>\n",
       "      <th>day</th>\n",
       "      <th>duration</th>\n",
       "      <th>campaign</th>\n",
       "      <th>pdays</th>\n",
       "      <th>previous</th>\n",
       "    </tr>\n",
       "  </thead>\n",
       "  <tbody>\n",
       "    <tr>\n",
       "      <td>count</td>\n",
       "      <td>11162.000000</td>\n",
       "      <td>11162.000000</td>\n",
       "      <td>11162.000000</td>\n",
       "      <td>11162.000000</td>\n",
       "      <td>11162.000000</td>\n",
       "      <td>11162.000000</td>\n",
       "      <td>11162.000000</td>\n",
       "    </tr>\n",
       "    <tr>\n",
       "      <td>mean</td>\n",
       "      <td>41.231948</td>\n",
       "      <td>1528.538524</td>\n",
       "      <td>15.658036</td>\n",
       "      <td>371.993818</td>\n",
       "      <td>2.508421</td>\n",
       "      <td>51.330407</td>\n",
       "      <td>0.832557</td>\n",
       "    </tr>\n",
       "    <tr>\n",
       "      <td>std</td>\n",
       "      <td>11.913369</td>\n",
       "      <td>3225.413326</td>\n",
       "      <td>8.420740</td>\n",
       "      <td>347.128386</td>\n",
       "      <td>2.722077</td>\n",
       "      <td>108.758282</td>\n",
       "      <td>2.292007</td>\n",
       "    </tr>\n",
       "    <tr>\n",
       "      <td>min</td>\n",
       "      <td>18.000000</td>\n",
       "      <td>-6847.000000</td>\n",
       "      <td>1.000000</td>\n",
       "      <td>2.000000</td>\n",
       "      <td>1.000000</td>\n",
       "      <td>-1.000000</td>\n",
       "      <td>0.000000</td>\n",
       "    </tr>\n",
       "    <tr>\n",
       "      <td>25%</td>\n",
       "      <td>32.000000</td>\n",
       "      <td>122.000000</td>\n",
       "      <td>8.000000</td>\n",
       "      <td>138.000000</td>\n",
       "      <td>1.000000</td>\n",
       "      <td>-1.000000</td>\n",
       "      <td>0.000000</td>\n",
       "    </tr>\n",
       "    <tr>\n",
       "      <td>50%</td>\n",
       "      <td>39.000000</td>\n",
       "      <td>550.000000</td>\n",
       "      <td>15.000000</td>\n",
       "      <td>255.000000</td>\n",
       "      <td>2.000000</td>\n",
       "      <td>-1.000000</td>\n",
       "      <td>0.000000</td>\n",
       "    </tr>\n",
       "    <tr>\n",
       "      <td>75%</td>\n",
       "      <td>49.000000</td>\n",
       "      <td>1708.000000</td>\n",
       "      <td>22.000000</td>\n",
       "      <td>496.000000</td>\n",
       "      <td>3.000000</td>\n",
       "      <td>20.750000</td>\n",
       "      <td>1.000000</td>\n",
       "    </tr>\n",
       "    <tr>\n",
       "      <td>max</td>\n",
       "      <td>95.000000</td>\n",
       "      <td>81204.000000</td>\n",
       "      <td>31.000000</td>\n",
       "      <td>3881.000000</td>\n",
       "      <td>63.000000</td>\n",
       "      <td>854.000000</td>\n",
       "      <td>58.000000</td>\n",
       "    </tr>\n",
       "  </tbody>\n",
       "</table>\n",
       "</div>"
      ],
      "text/plain": [
       "                age       balance           day      duration      campaign  \\\n",
       "count  11162.000000  11162.000000  11162.000000  11162.000000  11162.000000   \n",
       "mean      41.231948   1528.538524     15.658036    371.993818      2.508421   \n",
       "std       11.913369   3225.413326      8.420740    347.128386      2.722077   \n",
       "min       18.000000  -6847.000000      1.000000      2.000000      1.000000   \n",
       "25%       32.000000    122.000000      8.000000    138.000000      1.000000   \n",
       "50%       39.000000    550.000000     15.000000    255.000000      2.000000   \n",
       "75%       49.000000   1708.000000     22.000000    496.000000      3.000000   \n",
       "max       95.000000  81204.000000     31.000000   3881.000000     63.000000   \n",
       "\n",
       "              pdays      previous  \n",
       "count  11162.000000  11162.000000  \n",
       "mean      51.330407      0.832557  \n",
       "std      108.758282      2.292007  \n",
       "min       -1.000000      0.000000  \n",
       "25%       -1.000000      0.000000  \n",
       "50%       -1.000000      0.000000  \n",
       "75%       20.750000      1.000000  \n",
       "max      854.000000     58.000000  "
      ]
     },
     "execution_count": 31,
     "metadata": {},
     "output_type": "execute_result"
    }
   ],
   "source": [
    "data.describe()"
   ]
  },
  {
   "cell_type": "code",
   "execution_count": 32,
   "metadata": {},
   "outputs": [
    {
     "data": {
      "text/plain": [
       "<matplotlib.axes._subplots.AxesSubplot at 0x1db3cbca948>"
      ]
     },
     "execution_count": 32,
     "metadata": {},
     "output_type": "execute_result"
    },
    {
     "data": {
      "image/png": "[encoded data removed]",
      "text/plain": [
       "<Figure size 1440x720 with 1 Axes>"
      ]
     },
     "metadata": {
      "needs_background": "light"
     },
     "output_type": "display_data"
    }
   ],
   "source": [
    "import seaborn as sn\n",
    "import matplotlib.pylab as plt\n",
    "import pandas as pd\n",
    "data=pd.read_csv(\"bank.csv\")\n",
    "plt.rcParams[\"figure.figsize\"]=[20,10]\n",
    "sn.boxplot(x=data[\"age\"],y=data[\"balance\"])"
   ]
  },
  {
   "cell_type": "code",
   "execution_count": 33,
   "metadata": {},
   "outputs": [
    {
     "data": {
      "image/png": "[encoded data removed]",
      "text/plain": [
       "<Figure size 1440x720 with 1 Axes>"
      ]
     },
     "metadata": {
      "needs_background": "light"
     },
     "output_type": "display_data"
    }
   ],
   "source": [
    "df=data[data.age.isin(data.age.value_counts().head(10).index)]\n",
    "sn.boxplot(x=\"age\",y=\"balance\",data=df)\n",
    "plt.show()"
   ]
  },
  {
   "cell_type": "code",
   "execution_count": 34,
   "metadata": {},
   "outputs": [
    {
     "data": {
      "text/plain": [
       "<matplotlib.axes._subplots.AxesSubplot at 0x1db3ca33148>"
      ]
     },
     "execution_count": 34,
     "metadata": {},
     "output_type": "execute_result"
    },
    {
     "data": {
      "image/png": "[encoded data removed]",
      "text/plain": [
       "<Figure size 1440x720 with 1 Axes>"
      ]
     },
     "metadata": {
      "needs_background": "light"
     },
     "output_type": "display_data"
    }
   ],
   "source": [
    "plot_example=data[[\"age\",\"balance\"]]\n",
    "plot_example.plot()"
   ]
  },
  {
   "cell_type": "code",
   "execution_count": 35,
   "metadata": {},
   "outputs": [
    {
     "data": {
      "text/plain": [
       "<matplotlib.axes._subplots.AxesSubplot at 0x1db3c120508>"
      ]
     },
     "execution_count": 35,
     "metadata": {},
     "output_type": "execute_result"
    },
    {
     "data": {
      "image/png": "[encoded data removed]",
      "text/plain": [
       "<Figure size 1440x720 with 1 Axes>"
      ]
     },
     "metadata": {
      "needs_background": "light"
     },
     "output_type": "display_data"
    }
   ],
   "source": [
    "data.plot.scatter(x=\"age\",y=\"balance\")"
   ]
  },
  {
   "cell_type": "code",
   "execution_count": null,
   "metadata": {},
   "outputs": [],
   "source": []
  },
  {
   "cell_type": "code",
   "execution_count": 36,
   "metadata": {},
   "outputs": [
    {
     "name": "stdout",
     "output_type": "stream",
     "text": [
      "       age          job  marital  education default  balance housing loan  \\\n",
      "0       59       admin.  married  secondary      no     2343     yes   no   \n",
      "1       56       admin.  married  secondary      no       45      no   no   \n",
      "2       41   technician  married  secondary      no     1270     yes   no   \n",
      "3       55     services  married  secondary      no     2476     yes   no   \n",
      "4       54       admin.  married   tertiary      no      184      no   no   \n",
      "...    ...          ...      ...        ...     ...      ...     ...  ...   \n",
      "11157   33  blue-collar   single    primary      no        1     yes   no   \n",
      "11158   39     services  married  secondary      no      733      no   no   \n",
      "11159   32   technician   single  secondary      no       29      no   no   \n",
      "11160   43   technician  married  secondary      no        0      no  yes   \n",
      "11161   34   technician  married  secondary      no        0      no   no   \n",
      "\n",
      "        contact  day month  duration  campaign  pdays  previous poutcome  \\\n",
      "0       unknown    5   may      1042         1     -1         0  unknown   \n",
      "1       unknown    5   may      1467         1     -1         0  unknown   \n",
      "2       unknown    5   may      1389         1     -1         0  unknown   \n",
      "3       unknown    5   may       579         1     -1         0  unknown   \n",
      "4       unknown    5   may       673         2     -1         0  unknown   \n",
      "...         ...  ...   ...       ...       ...    ...       ...      ...   \n",
      "11157  cellular   20   apr       257         1     -1         0  unknown   \n",
      "11158   unknown   16   jun        83         4     -1         0  unknown   \n",
      "11159  cellular   19   aug       156         2     -1         0  unknown   \n",
      "11160  cellular    8   may         9         2    172         5  failure   \n",
      "11161  cellular    9   jul       628         1     -1         0  unknown   \n",
      "\n",
      "      deposit  \n",
      "0         yes  \n",
      "1         yes  \n",
      "2         yes  \n",
      "3         yes  \n",
      "4         yes  \n",
      "...       ...  \n",
      "11157      no  \n",
      "11158      no  \n",
      "11159      no  \n",
      "11160      no  \n",
      "11161      no  \n",
      "\n",
      "[11162 rows x 17 columns]\n"
     ]
    }
   ],
   "source": [
    "import pandas as pd\n",
    "import matplotlib.pylab as plt\n",
    "data=pd.read_csv(\"bank.csv\")\n",
    "print(data)"
   ]
  },
  {
   "cell_type": "code",
   "execution_count": 37,
   "metadata": {},
   "outputs": [
    {
     "data": {
      "text/plain": [
       "(11162, 17)"
      ]
     },
     "execution_count": 37,
     "metadata": {},
     "output_type": "execute_result"
    }
   ],
   "source": [
    "data.shape"
   ]
  },
  {
   "cell_type": "code",
   "execution_count": 38,
   "metadata": {},
   "outputs": [
    {
     "name": "stdout",
     "output_type": "stream",
     "text": [
      "Age-mean 41.231947679627304\n",
      "balance-mean 1528.5385235620856\n",
      "day-mean 15.658036194230425\n",
      "duration-mean 371.99381831213043\n"
     ]
    }
   ],
   "source": [
    "import matplotlib.pylab as plt\n",
    "import pandas as pd\n",
    "import numpy as np\n",
    "data=pd.read_csv(\"bank.csv\")\n",
    "#print(data)\n",
    "print(\"Age-mean\",np.mean(data[\"age\"]))\n",
    "print(\"balance-mean\",np.mean(data[\"balance\"]))\n",
    "print(\"day-mean\",np.mean(data[\"day\"]))\n",
    "print(\"duration-mean\",np.mean(data[\"duration\"]))"
   ]
  },
  {
   "cell_type": "code",
   "execution_count": 39,
   "metadata": {},
   "outputs": [
    {
     "name": "stdout",
     "output_type": "stream",
     "text": [
      "Age-median 39.0\n",
      "balance-median 550.0\n",
      "day-median 15.0\n",
      "duration-median 255.0\n"
     ]
    }
   ],
   "source": [
    "print(\"Age-median\",np.median(data[\"age\"]))\n",
    "print(\"balance-median\",np.median(data[\"balance\"]))\n",
    "print(\"day-median\",np.median(data[\"day\"]))\n",
    "print(\"duration-median\",np.median(data[\"duration\"]))"
   ]
  },
  {
   "cell_type": "code",
   "execution_count": 40,
   "metadata": {},
   "outputs": [
    {
     "name": "stdout",
     "output_type": "stream",
     "text": [
      "Age-variance 141.91565019328286\n",
      "balance-variance 10402359.09567621\n",
      "day-variance 70.90250171594464\n",
      "duration-variance 120487.32078242896\n"
     ]
    }
   ],
   "source": [
    "print(\"Age-variance\",np.var(data[\"age\"]))\n",
    "print(\"balance-variance\",np.var(data[\"balance\"]))\n",
    "print(\"day-variance\",np.var(data[\"day\"]))\n",
    "print(\"duration-variance\",np.var(data[\"duration\"]))"
   ]
  },
  {
   "cell_type": "code",
   "execution_count": 41,
   "metadata": {},
   "outputs": [
    {
     "name": "stdout",
     "output_type": "stream",
     "text": [
      "Age-SD 11.912835522799886\n",
      "balance-SD 3225.2688408373356\n",
      "day-SD 8.420362326880277\n",
      "duration-SD 347.1128358076505\n"
     ]
    }
   ],
   "source": [
    "print(\"Age-SD\",np.std(data[\"age\"]))\n",
    "print(\"balance-SD\",np.std(data[\"balance\"]))\n",
    "print(\"day-SD\",np.std(data[\"day\"]))\n",
    "print(\"duration-SD\",np.std(data[\"duration\"]))"
   ]
  },
  {
   "cell_type": "code",
   "execution_count": 42,
   "metadata": {},
   "outputs": [
    {
     "name": "stdout",
     "output_type": "stream",
     "text": [
      "       age          job  marital  education default  balance housing loan  \\\n",
      "0       59       admin.  married  secondary      no     2343     yes   no   \n",
      "1       56       admin.  married  secondary      no       45      no   no   \n",
      "2       41   technician  married  secondary      no     1270     yes   no   \n",
      "3       55     services  married  secondary      no     2476     yes   no   \n",
      "4       54       admin.  married   tertiary      no      184      no   no   \n",
      "...    ...          ...      ...        ...     ...      ...     ...  ...   \n",
      "11157   33  blue-collar   single    primary      no        1     yes   no   \n",
      "11158   39     services  married  secondary      no      733      no   no   \n",
      "11159   32   technician   single  secondary      no       29      no   no   \n",
      "11160   43   technician  married  secondary      no        0      no  yes   \n",
      "11161   34   technician  married  secondary      no        0      no   no   \n",
      "\n",
      "        contact  day month  duration  campaign  pdays  previous poutcome  \\\n",
      "0       unknown    5   may      1042         1     -1         0  unknown   \n",
      "1       unknown    5   may      1467         1     -1         0  unknown   \n",
      "2       unknown    5   may      1389         1     -1         0  unknown   \n",
      "3       unknown    5   may       579         1     -1         0  unknown   \n",
      "4       unknown    5   may       673         2     -1         0  unknown   \n",
      "...         ...  ...   ...       ...       ...    ...       ...      ...   \n",
      "11157  cellular   20   apr       257         1     -1         0  unknown   \n",
      "11158   unknown   16   jun        83         4     -1         0  unknown   \n",
      "11159  cellular   19   aug       156         2     -1         0  unknown   \n",
      "11160  cellular    8   may         9         2    172         5  failure   \n",
      "11161  cellular    9   jul       628         1     -1         0  unknown   \n",
      "\n",
      "      deposit  \n",
      "0         yes  \n",
      "1         yes  \n",
      "2         yes  \n",
      "3         yes  \n",
      "4         yes  \n",
      "...       ...  \n",
      "11157      no  \n",
      "11158      no  \n",
      "11159      no  \n",
      "11160      no  \n",
      "11161      no  \n",
      "\n",
      "[11162 rows x 17 columns]\n"
     ]
    }
   ],
   "source": [
    "import pandas as pd\n",
    "import matplotlib.pylab as plt\n",
    "data=pd.read_csv(\"bank.csv\")\n",
    "print(data)"
   ]
  },
  {
   "cell_type": "code",
   "execution_count": 43,
   "metadata": {},
   "outputs": [
    {
     "name": "stdout",
     "output_type": "stream",
     "text": [
      "       age      job   marital  education default  balance housing loan  \\\n",
      "1162    75  retired  divorced    primary      no     3881     yes   no   \n",
      "1236    85  retired   married    primary      no    12114      no   no   \n",
      "1243    90  retired  divorced  secondary      no        1      no   no   \n",
      "1274    85  retired  divorced    primary      no     7613      no   no   \n",
      "1320    83  retired  divorced    primary      no     1097      no   no   \n",
      "...    ...      ...       ...        ...     ...      ...     ...  ...   \n",
      "10438   77  retired   married    primary      no     1492      no   no   \n",
      "10562   88  retired   married    primary      no      648      no   no   \n",
      "10570   77  unknown   married    unknown      no      397      no   no   \n",
      "10618   78  retired   married    primary      no      680      no   no   \n",
      "10843   86  retired  divorced    unknown      no      157      no   no   \n",
      "\n",
      "         contact  day month  duration  campaign  pdays  previous poutcome  \\\n",
      "1162    cellular    4   feb       136         3     -1         0  unknown   \n",
      "1236   telephone   12   feb       165         2     -1         0  unknown   \n",
      "1243    cellular   13   feb       152         3     -1         0  unknown   \n",
      "1274    cellular   18   feb       355         3     -1         0  unknown   \n",
      "1320   telephone    5   mar       181         1     -1         0  unknown   \n",
      "...          ...  ...   ...       ...       ...    ...       ...      ...   \n",
      "10438  telephone    1   sep       663         1    208         2    other   \n",
      "10562  telephone    3   sep       318         1     -1         0  unknown   \n",
      "10570  telephone    8   nov       207         1    185         3  success   \n",
      "10618  telephone   24   may       838         1     89         9  failure   \n",
      "10843  telephone    7   sep       147         1     -1         0  unknown   \n",
      "\n",
      "      deposit  \n",
      "1162      yes  \n",
      "1236      yes  \n",
      "1243      yes  \n",
      "1274      yes  \n",
      "1320      yes  \n",
      "...       ...  \n",
      "10438      no  \n",
      "10562      no  \n",
      "10570      no  \n",
      "10618      no  \n",
      "10843      no  \n",
      "\n",
      "[171 rows x 17 columns]\n"
     ]
    }
   ],
   "source": [
    "import numpy as np\n",
    "def find_outlier(ds,col):\n",
    "    quart1=ds[col].quantile(0.25)\n",
    "    quart3=ds[col].quantile(0.75)\n",
    "    IQR=quart3-quart1\n",
    "    low_val=quart1-1.5*IQR\n",
    "    high_val=quart3+1.5*IQR\n",
    "    ds=ds.loc[(ds[col]<low_val) | (ds[col]>high_val)]\n",
    "    return ds\n",
    "\n",
    "outliers=find_outlier(data,'age')\n",
    "print(outliers)"
   ]
  },
  {
   "cell_type": "code",
   "execution_count": 44,
   "metadata": {},
   "outputs": [
    {
     "name": "stdout",
     "output_type": "stream",
     "text": [
      "       age          job   marital  education default  balance housing loan  \\\n",
      "9       28     services    single  secondary      no     5090     yes   no   \n",
      "60      51  blue-collar   married  secondary      no     7180     yes   no   \n",
      "61      41  blue-collar  divorced  secondary      no     5291     yes   no   \n",
      "69      44   technician   married   tertiary      no     4580     yes   no   \n",
      "71      29   management   married   tertiary      no    10576      no   no   \n",
      "...    ...          ...       ...        ...     ...      ...     ...  ...   \n",
      "11073   34  blue-collar   married    primary      no     6718      no   no   \n",
      "11077   54      retired  divorced   tertiary      no     6102     yes  yes   \n",
      "11085   60   technician   married    primary      no     4243     yes   no   \n",
      "11086   42       admin.   married  secondary      no     6445     yes   no   \n",
      "11101   54  blue-collar   married    primary      no     6242     yes   no   \n",
      "\n",
      "        contact  day month  duration  campaign  pdays  previous poutcome  \\\n",
      "9       unknown    6   may      1297         3     -1         0  unknown   \n",
      "60      unknown   14   may       927         1     -1         0  unknown   \n",
      "61      unknown   14   may      1423         3     -1         0  unknown   \n",
      "69      unknown   15   may       911         2     -1         0  unknown   \n",
      "71      unknown   15   may      1224         2     -1         0  unknown   \n",
      "...         ...  ...   ...       ...       ...    ...       ...      ...   \n",
      "11073  cellular   13   jan       278         4     97         1    other   \n",
      "11077   unknown   21   may        86         6     -1         0  unknown   \n",
      "11085  cellular    4   feb       387         1    251         1  failure   \n",
      "11086   unknown    2   jun        20         8     -1         0  unknown   \n",
      "11101  cellular    7   may       162         1     -1         0  unknown   \n",
      "\n",
      "      deposit  \n",
      "9         yes  \n",
      "60        yes  \n",
      "61        yes  \n",
      "69        yes  \n",
      "71        yes  \n",
      "...       ...  \n",
      "11073      no  \n",
      "11077      no  \n",
      "11085      no  \n",
      "11086      no  \n",
      "11101      no  \n",
      "\n",
      "[1055 rows x 17 columns]\n"
     ]
    }
   ],
   "source": [
    "import numpy as np\n",
    "def find_outlier(ds,col):\n",
    "    quart1=ds[col].quantile(0.25)\n",
    "    quart3=ds[col].quantile(0.75)\n",
    "    IQR=quart3-quart1\n",
    "    low_val=quart1-1.5*IQR\n",
    "    high_val=quart3+1.5*IQR\n",
    "    ds=ds.loc[(ds[col]<low_val) | (ds[col]>high_val)]\n",
    "    return ds\n",
    "\n",
    "outliers=find_outlier(data,'balance')\n",
    "print(outliers)"
   ]
  },
  {
   "cell_type": "code",
   "execution_count": 45,
   "metadata": {},
   "outputs": [
    {
     "name": "stdout",
     "output_type": "stream",
     "text": [
      "       age      job   marital  education default  balance housing loan  \\\n",
      "1162    75  retired  divorced    primary      no     3881     yes   no   \n",
      "1236    85  retired   married    primary      no    12114      no   no   \n",
      "1243    90  retired  divorced  secondary      no        1      no   no   \n",
      "1274    85  retired  divorced    primary      no     7613      no   no   \n",
      "1320    83  retired  divorced    primary      no     1097      no   no   \n",
      "...    ...      ...       ...        ...     ...      ...     ...  ...   \n",
      "10438   77  retired   married    primary      no     1492      no   no   \n",
      "10562   88  retired   married    primary      no      648      no   no   \n",
      "10570   77  unknown   married    unknown      no      397      no   no   \n",
      "10618   78  retired   married    primary      no      680      no   no   \n",
      "10843   86  retired  divorced    unknown      no      157      no   no   \n",
      "\n",
      "         contact  day month  duration  campaign  pdays  previous poutcome  \\\n",
      "1162    cellular    4   feb       136         3     -1         0  unknown   \n",
      "1236   telephone   12   feb       165         2     -1         0  unknown   \n",
      "1243    cellular   13   feb       152         3     -1         0  unknown   \n",
      "1274    cellular   18   feb       355         3     -1         0  unknown   \n",
      "1320   telephone    5   mar       181         1     -1         0  unknown   \n",
      "...          ...  ...   ...       ...       ...    ...       ...      ...   \n",
      "10438  telephone    1   sep       663         1    208         2    other   \n",
      "10562  telephone    3   sep       318         1     -1         0  unknown   \n",
      "10570  telephone    8   nov       207         1    185         3  success   \n",
      "10618  telephone   24   may       838         1     89         9  failure   \n",
      "10843  telephone    7   sep       147         1     -1         0  unknown   \n",
      "\n",
      "      deposit  \n",
      "1162      yes  \n",
      "1236      yes  \n",
      "1243      yes  \n",
      "1274      yes  \n",
      "1320      yes  \n",
      "...       ...  \n",
      "10438      no  \n",
      "10562      no  \n",
      "10570      no  \n",
      "10618      no  \n",
      "10843      no  \n",
      "\n",
      "[171 rows x 17 columns]\n"
     ]
    }
   ],
   "source": [
    "import numpy as np\n",
    "def find_outlier(ds,col):\n",
    "    quart1=ds[col].quantile(0.25)\n",
    "    quart3=ds[col].quantile(0.75)\n",
    "    IQR=quart3-quart1\n",
    "    low_val=quart1-1.5*IQR\n",
    "    high_val=quart3+1.5*IQR\n",
    "    ds=ds.loc[(ds[col]<low_val) | (ds[col]>high_val)]\n",
    "    return ds\n",
    "\n",
    "outliers=find_outlier(data,'age')\n",
    "print(outliers)"
   ]
  },
  {
   "cell_type": "code",
   "execution_count": 46,
   "metadata": {},
   "outputs": [
    {
     "name": "stdout",
     "output_type": "stream",
     "text": [
      "       age          job   marital  education default  balance housing loan  \\\n",
      "0       59       admin.   married  secondary      no     2343     yes   no   \n",
      "1       56       admin.   married  secondary      no       45      no   no   \n",
      "2       41   technician   married  secondary      no     1270     yes   no   \n",
      "6       56   management   married   tertiary      no      830     yes  yes   \n",
      "9       28     services    single  secondary      no     5090     yes   no   \n",
      "...    ...          ...       ...        ...     ...      ...     ...  ...   \n",
      "10647   31   technician    single  secondary      no      433      no   no   \n",
      "10788   41  blue-collar   married  secondary      no     4910     yes   no   \n",
      "10798   67   technician   married  secondary      no        0      no   no   \n",
      "10802   58   management  divorced   tertiary      no      577      no   no   \n",
      "11008   56     services   married    unknown      no      616      no   no   \n",
      "\n",
      "        contact  day month  duration  campaign  pdays  previous poutcome  \\\n",
      "0       unknown    5   may      1042         1     -1         0  unknown   \n",
      "1       unknown    5   may      1467         1     -1         0  unknown   \n",
      "2       unknown    5   may      1389         1     -1         0  unknown   \n",
      "6       unknown    6   may      1201         1     -1         0  unknown   \n",
      "9       unknown    6   may      1297         3     -1         0  unknown   \n",
      "...         ...  ...   ...       ...       ...    ...       ...      ...   \n",
      "10647  cellular   11   aug      1504         2     -1         0  unknown   \n",
      "10788  cellular    3   apr      1090         1     -1         0  unknown   \n",
      "10798  cellular   13   aug      1152         2    188         1  success   \n",
      "10802   unknown   15   may      1244         3     -1         0  unknown   \n",
      "11008   unknown   18   jun      1812         1     -1         0  unknown   \n",
      "\n",
      "      deposit  \n",
      "0         yes  \n",
      "1         yes  \n",
      "2         yes  \n",
      "6         yes  \n",
      "9         yes  \n",
      "...       ...  \n",
      "10647      no  \n",
      "10788      no  \n",
      "10798      no  \n",
      "10802      no  \n",
      "11008      no  \n",
      "\n",
      "[636 rows x 17 columns]\n"
     ]
    }
   ],
   "source": [
    "import numpy as np\n",
    "def find_outlier(ds,col):\n",
    "    quart1=ds[col].quantile(0.25)\n",
    "    quart3=ds[col].quantile(0.75)\n",
    "    IQR=quart3-quart1\n",
    "    low_val=quart1-1.5*IQR\n",
    "    high_val=quart3+1.5*IQR\n",
    "    ds=ds.loc[(ds[col]<low_val) | (ds[col]>high_val)]\n",
    "    return ds\n",
    "\n",
    "outliers=find_outlier(data,'duration')\n",
    "print(outliers)"
   ]
  },
  {
   "cell_type": "code",
   "execution_count": 47,
   "metadata": {},
   "outputs": [
    {
     "data": {
      "image/png": "[encoded data removed]",
      "text/plain": [
       "<Figure size 1440x720 with 1 Axes>"
      ]
     },
     "metadata": {
      "needs_background": "light"
     },
     "output_type": "display_data"
    }
   ],
   "source": [
    "df=data[data.age.isin(data.age.value_counts().head(10).index)]\n",
    "sn.boxplot(x=\"deposit\",y=\"previous\",data=df)\n",
    "plt.show()"
   ]
  },
  {
   "cell_type": "code",
   "execution_count": 48,
   "metadata": {},
   "outputs": [
    {
     "data": {
      "image/png": "[encoded data removed]",
      "text/plain": [
       "<Figure size 1440x720 with 1 Axes>"
      ]
     },
     "metadata": {
      "needs_background": "light"
     },
     "output_type": "display_data"
    }
   ],
   "source": [
    "df=data[data.age.isin(data.age.value_counts().head(10).index)]\n",
    "sn.boxplot(x=\"deposit\",y=\"age\",data=df)\n",
    "plt.show()"
   ]
  },
  {
   "cell_type": "code",
   "execution_count": 49,
   "metadata": {},
   "outputs": [
    {
     "data": {
      "image/png": "[encoded data removed]",
      "text/plain": [
       "<Figure size 1440x720 with 1 Axes>"
      ]
     },
     "metadata": {
      "needs_background": "light"
     },
     "output_type": "display_data"
    }
   ],
   "source": [
    "df=data[data.age.isin(data.age.value_counts().head(10).index)]\n",
    "sn.boxplot(x=\"deposit\",y=\"balance\",data=df)\n",
    "plt.show()"
   ]
  },
  {
   "cell_type": "code",
   "execution_count": 50,
   "metadata": {},
   "outputs": [
    {
     "data": {
      "image/png": "[encoded data removed]",
      "text/plain": [
       "<Figure size 1440x720 with 1 Axes>"
      ]
     },
     "metadata": {
      "needs_background": "light"
     },
     "output_type": "display_data"
    }
   ],
   "source": [
    "df=data[data.age.isin(data.age.value_counts().head(10).index)]\n",
    "sn.boxplot(x=\"deposit\",y=\"day\",data=df)\n",
    "plt.show()"
   ]
  },
  {
   "cell_type": "code",
   "execution_count": 51,
   "metadata": {},
   "outputs": [
    {
     "data": {
      "image/png": "[encoded data removed]",
      "text/plain": [
       "<Figure size 1440x720 with 1 Axes>"
      ]
     },
     "metadata": {
      "needs_background": "light"
     },
     "output_type": "display_data"
    }
   ],
   "source": [
    "df=data[data.age.isin(data.age.value_counts().head(10).index)]\n",
    "sn.boxplot(x=\"deposit\",y=\"duration\",data=df)\n",
    "plt.show()"
   ]
  },
  {
   "cell_type": "code",
   "execution_count": 52,
   "metadata": {},
   "outputs": [
    {
     "data": {
      "image/png": "[encoded data removed]",
      "text/plain": [
       "<Figure size 1440x720 with 1 Axes>"
      ]
     },
     "metadata": {
      "needs_background": "light"
     },
     "output_type": "display_data"
    }
   ],
   "source": [
    "df=data[data.age.isin(data.age.value_counts().head(10).index)]\n",
    "sn.boxplot(x=\"deposit\",y=\"campaign\",data=df)\n",
    "plt.show()"
   ]
  },
  {
   "cell_type": "code",
   "execution_count": 53,
   "metadata": {},
   "outputs": [
    {
     "data": {
      "image/png": "[encoded data removed]",
      "text/plain": [
       "<Figure size 1440x720 with 1 Axes>"
      ]
     },
     "metadata": {
      "needs_background": "light"
     },
     "output_type": "display_data"
    }
   ],
   "source": [
    "df=data[data.age.isin(data.age.value_counts().head(10).index)]\n",
    "sn.boxplot(x=\"deposit\",y=\"previous\",data=df)\n",
    "plt.show()"
   ]
  },
  {
   "cell_type": "code",
   "execution_count": 54,
   "metadata": {},
   "outputs": [
    {
     "data": {
      "image/png": "[encoded data removed]",
      "text/plain": [
       "<Figure size 1440x720 with 1 Axes>"
      ]
     },
     "metadata": {
      "needs_background": "light"
     },
     "output_type": "display_data"
    }
   ],
   "source": [
    "x=data[\"age\"]\n",
    "bins=[0,5,10,15,20,25,30,35,40]\n",
    "plt.hist(x,bins,color=\"blue\",histtype=\"bar\",label=\"bank\")\n",
    "plt.xlabel(\"deposit\")\n",
    "plt.ylabel(\"balance\")\n",
    "plt.legend()\n",
    "plt.show()"
   ]
  },
  {
   "cell_type": "markdown",
   "metadata": {},
   "source": []
  },
  {
   "cell_type": "code",
   "execution_count": 58,
   "metadata": {},
   "outputs": [
    {
     "name": "stdout",
     "output_type": "stream",
     "text": [
      "       age          job  marital  education default  balance housing loan  \\\n",
      "0       59       admin.  married  secondary      no     2343     yes   no   \n",
      "1       56       admin.  married  secondary      no       45      no   no   \n",
      "2       41   technician  married  secondary      no     1270     yes   no   \n",
      "3       55     services  married  secondary      no     2476     yes   no   \n",
      "4       54       admin.  married   tertiary      no      184      no   no   \n",
      "...    ...          ...      ...        ...     ...      ...     ...  ...   \n",
      "11157   33  blue-collar   single    primary      no        1     yes   no   \n",
      "11158   39     services  married  secondary      no      733      no   no   \n",
      "11159   32   technician   single  secondary      no       29      no   no   \n",
      "11160   43   technician  married  secondary      no        0      no  yes   \n",
      "11161   34   technician  married  secondary      no        0      no   no   \n",
      "\n",
      "        contact  day month  duration  campaign  pdays  previous poutcome  \\\n",
      "0       unknown    5   may      1042         1     -1         0  unknown   \n",
      "1       unknown    5   may      1467         1     -1         0  unknown   \n",
      "2       unknown    5   may      1389         1     -1         0  unknown   \n",
      "3       unknown    5   may       579         1     -1         0  unknown   \n",
      "4       unknown    5   may       673         2     -1         0  unknown   \n",
      "...         ...  ...   ...       ...       ...    ...       ...      ...   \n",
      "11157  cellular   20   apr       257         1     -1         0  unknown   \n",
      "11158   unknown   16   jun        83         4     -1         0  unknown   \n",
      "11159  cellular   19   aug       156         2     -1         0  unknown   \n",
      "11160  cellular    8   may         9         2    172         5  failure   \n",
      "11161  cellular    9   jul       628         1     -1         0  unknown   \n",
      "\n",
      "      deposit  \n",
      "0         yes  \n",
      "1         yes  \n",
      "2         yes  \n",
      "3         yes  \n",
      "4         yes  \n",
      "...       ...  \n",
      "11157      no  \n",
      "11158      no  \n",
      "11159      no  \n",
      "11160      no  \n",
      "11161      no  \n",
      "\n",
      "[11162 rows x 17 columns]\n"
     ]
    },
    {
     "data": {
      "text/html": [
       "<div>\n",
       "<style scoped>\n",
       "    .dataframe tbody tr th:only-of-type {\n",
       "        vertical-align: middle;\n",
       "    }\n",
       "\n",
       "    .dataframe tbody tr th {\n",
       "        vertical-align: top;\n",
       "    }\n",
       "\n",
       "    .dataframe thead th {\n",
       "        text-align: right;\n",
       "    }\n",
       "</style>\n",
       "<table border=\"1\" class=\"dataframe\">\n",
       "  <thead>\n",
       "    <tr style=\"text-align: right;\">\n",
       "      <th></th>\n",
       "      <th>age</th>\n",
       "      <th>job</th>\n",
       "      <th>marital</th>\n",
       "      <th>education</th>\n",
       "      <th>default</th>\n",
       "      <th>balance</th>\n",
       "      <th>housing</th>\n",
       "      <th>loan</th>\n",
       "      <th>contact</th>\n",
       "      <th>day</th>\n",
       "      <th>month</th>\n",
       "      <th>duration</th>\n",
       "      <th>campaign</th>\n",
       "      <th>pdays</th>\n",
       "      <th>previous</th>\n",
       "      <th>poutcome</th>\n",
       "      <th>deposit</th>\n",
       "    </tr>\n",
       "  </thead>\n",
       "  <tbody>\n",
       "    <tr>\n",
       "      <td>0</td>\n",
       "      <td>59</td>\n",
       "      <td>admin.</td>\n",
       "      <td>married</td>\n",
       "      <td>secondary</td>\n",
       "      <td>no</td>\n",
       "      <td>2343</td>\n",
       "      <td>yes</td>\n",
       "      <td>no</td>\n",
       "      <td>unknown</td>\n",
       "      <td>5</td>\n",
       "      <td>may</td>\n",
       "      <td>1042</td>\n",
       "      <td>1</td>\n",
       "      <td>-1</td>\n",
       "      <td>0</td>\n",
       "      <td>unknown</td>\n",
       "      <td>yes</td>\n",
       "    </tr>\n",
       "    <tr>\n",
       "      <td>1</td>\n",
       "      <td>56</td>\n",
       "      <td>admin.</td>\n",
       "      <td>married</td>\n",
       "      <td>secondary</td>\n",
       "      <td>no</td>\n",
       "      <td>45</td>\n",
       "      <td>no</td>\n",
       "      <td>no</td>\n",
       "      <td>unknown</td>\n",
       "      <td>5</td>\n",
       "      <td>may</td>\n",
       "      <td>1467</td>\n",
       "      <td>1</td>\n",
       "      <td>-1</td>\n",
       "      <td>0</td>\n",
       "      <td>unknown</td>\n",
       "      <td>yes</td>\n",
       "    </tr>\n",
       "    <tr>\n",
       "      <td>2</td>\n",
       "      <td>41</td>\n",
       "      <td>technician</td>\n",
       "      <td>married</td>\n",
       "      <td>secondary</td>\n",
       "      <td>no</td>\n",
       "      <td>1270</td>\n",
       "      <td>yes</td>\n",
       "      <td>no</td>\n",
       "      <td>unknown</td>\n",
       "      <td>5</td>\n",
       "      <td>may</td>\n",
       "      <td>1389</td>\n",
       "      <td>1</td>\n",
       "      <td>-1</td>\n",
       "      <td>0</td>\n",
       "      <td>unknown</td>\n",
       "      <td>yes</td>\n",
       "    </tr>\n",
       "    <tr>\n",
       "      <td>3</td>\n",
       "      <td>55</td>\n",
       "      <td>services</td>\n",
       "      <td>married</td>\n",
       "      <td>secondary</td>\n",
       "      <td>no</td>\n",
       "      <td>2476</td>\n",
       "      <td>yes</td>\n",
       "      <td>no</td>\n",
       "      <td>unknown</td>\n",
       "      <td>5</td>\n",
       "      <td>may</td>\n",
       "      <td>579</td>\n",
       "      <td>1</td>\n",
       "      <td>-1</td>\n",
       "      <td>0</td>\n",
       "      <td>unknown</td>\n",
       "      <td>yes</td>\n",
       "    </tr>\n",
       "    <tr>\n",
       "      <td>4</td>\n",
       "      <td>54</td>\n",
       "      <td>admin.</td>\n",
       "      <td>married</td>\n",
       "      <td>tertiary</td>\n",
       "      <td>no</td>\n",
       "      <td>184</td>\n",
       "      <td>no</td>\n",
       "      <td>no</td>\n",
       "      <td>unknown</td>\n",
       "      <td>5</td>\n",
       "      <td>may</td>\n",
       "      <td>673</td>\n",
       "      <td>2</td>\n",
       "      <td>-1</td>\n",
       "      <td>0</td>\n",
       "      <td>unknown</td>\n",
       "      <td>yes</td>\n",
       "    </tr>\n",
       "  </tbody>\n",
       "</table>\n",
       "</div>"
      ],
      "text/plain": [
       "   age         job  marital  education default  balance housing loan  contact  \\\n",
       "0   59      admin.  married  secondary      no     2343     yes   no  unknown   \n",
       "1   56      admin.  married  secondary      no       45      no   no  unknown   \n",
       "2   41  technician  married  secondary      no     1270     yes   no  unknown   \n",
       "3   55    services  married  secondary      no     2476     yes   no  unknown   \n",
       "4   54      admin.  married   tertiary      no      184      no   no  unknown   \n",
       "\n",
       "   day month  duration  campaign  pdays  previous poutcome deposit  \n",
       "0    5   may      1042         1     -1         0  unknown     yes  \n",
       "1    5   may      1467         1     -1         0  unknown     yes  \n",
       "2    5   may      1389         1     -1         0  unknown     yes  \n",
       "3    5   may       579         1     -1         0  unknown     yes  \n",
       "4    5   may       673         2     -1         0  unknown     yes  "
      ]
     },
     "execution_count": 58,
     "metadata": {},
     "output_type": "execute_result"
    }
   ],
   "source": [
    "import pandas as pd\n",
    "import matplotlib.pylab as plt\n",
    "import numpy as np\n",
    "data=pd.read_csv(\"bank.csv\")\n",
    "print(data)\n",
    "data.head()"
   ]
  },
  {
   "cell_type": "code",
   "execution_count": 59,
   "metadata": {},
   "outputs": [
    {
     "data": {
      "text/plain": [
       "age           int64\n",
       "job          object\n",
       "marital      object\n",
       "education    object\n",
       "default      object\n",
       "balance       int64\n",
       "housing      object\n",
       "loan         object\n",
       "contact      object\n",
       "day           int64\n",
       "month        object\n",
       "duration      int64\n",
       "campaign      int64\n",
       "pdays         int64\n",
       "previous      int64\n",
       "poutcome     object\n",
       "deposit      object\n",
       "dtype: object"
      ]
     },
     "execution_count": 59,
     "metadata": {},
     "output_type": "execute_result"
    }
   ],
   "source": [
    "data.dtypes"
   ]
  },
  {
   "cell_type": "code",
   "execution_count": 60,
   "metadata": {},
   "outputs": [],
   "source": [
    "cleanup_nums={\"deposit\":{\"yes\":1,\"no\":0}}"
   ]
  },
  {
   "cell_type": "code",
   "execution_count": 61,
   "metadata": {},
   "outputs": [
    {
     "name": "stdout",
     "output_type": "stream",
     "text": [
      "       age          job  marital  education default  balance housing loan  \\\n",
      "0       59       admin.  married  secondary      no     2343     yes   no   \n",
      "1       56       admin.  married  secondary      no       45      no   no   \n",
      "2       41   technician  married  secondary      no     1270     yes   no   \n",
      "3       55     services  married  secondary      no     2476     yes   no   \n",
      "4       54       admin.  married   tertiary      no      184      no   no   \n",
      "...    ...          ...      ...        ...     ...      ...     ...  ...   \n",
      "11157   33  blue-collar   single    primary      no        1     yes   no   \n",
      "11158   39     services  married  secondary      no      733      no   no   \n",
      "11159   32   technician   single  secondary      no       29      no   no   \n",
      "11160   43   technician  married  secondary      no        0      no  yes   \n",
      "11161   34   technician  married  secondary      no        0      no   no   \n",
      "\n",
      "        contact  day month  duration  campaign  pdays  previous poutcome  \\\n",
      "0       unknown    5   may      1042         1     -1         0  unknown   \n",
      "1       unknown    5   may      1467         1     -1         0  unknown   \n",
      "2       unknown    5   may      1389         1     -1         0  unknown   \n",
      "3       unknown    5   may       579         1     -1         0  unknown   \n",
      "4       unknown    5   may       673         2     -1         0  unknown   \n",
      "...         ...  ...   ...       ...       ...    ...       ...      ...   \n",
      "11157  cellular   20   apr       257         1     -1         0  unknown   \n",
      "11158   unknown   16   jun        83         4     -1         0  unknown   \n",
      "11159  cellular   19   aug       156         2     -1         0  unknown   \n",
      "11160  cellular    8   may         9         2    172         5  failure   \n",
      "11161  cellular    9   jul       628         1     -1         0  unknown   \n",
      "\n",
      "       deposit  \n",
      "0            1  \n",
      "1            1  \n",
      "2            1  \n",
      "3            1  \n",
      "4            1  \n",
      "...        ...  \n",
      "11157        0  \n",
      "11158        0  \n",
      "11159        0  \n",
      "11160        0  \n",
      "11161        0  \n",
      "\n",
      "[11162 rows x 17 columns]\n"
     ]
    }
   ],
   "source": [
    "data.replace(cleanup_nums,inplace=True)\n",
    "print(data)"
   ]
  },
  {
   "cell_type": "code",
   "execution_count": null,
   "metadata": {},
   "outputs": [],
   "source": []
  },
  {
   "cell_type": "code",
   "execution_count": 2,
   "metadata": {},
   "outputs": [
    {
     "name": "stdout",
     "output_type": "stream",
     "text": [
      "       age          job  marital  education default  balance housing loan  \\\n",
      "0       59       admin.  married  secondary      no     2343     yes   no   \n",
      "1       56       admin.  married  secondary      no       45      no   no   \n",
      "2       41   technician  married  secondary      no     1270     yes   no   \n",
      "3       55     services  married  secondary      no     2476     yes   no   \n",
      "4       54       admin.  married   tertiary      no      184      no   no   \n",
      "...    ...          ...      ...        ...     ...      ...     ...  ...   \n",
      "11157   33  blue-collar   single    primary      no        1     yes   no   \n",
      "11158   39     services  married  secondary      no      733      no   no   \n",
      "11159   32   technician   single  secondary      no       29      no   no   \n",
      "11160   43   technician  married  secondary      no        0      no  yes   \n",
      "11161   34   technician  married  secondary      no        0      no   no   \n",
      "\n",
      "        contact  day month  duration  campaign  pdays  previous poutcome  \\\n",
      "0       unknown    5   may      1042         1     -1         0  unknown   \n",
      "1       unknown    5   may      1467         1     -1         0  unknown   \n",
      "2       unknown    5   may      1389         1     -1         0  unknown   \n",
      "3       unknown    5   may       579         1     -1         0  unknown   \n",
      "4       unknown    5   may       673         2     -1         0  unknown   \n",
      "...         ...  ...   ...       ...       ...    ...       ...      ...   \n",
      "11157  cellular   20   apr       257         1     -1         0  unknown   \n",
      "11158   unknown   16   jun        83         4     -1         0  unknown   \n",
      "11159  cellular   19   aug       156         2     -1         0  unknown   \n",
      "11160  cellular    8   may         9         2    172         5  failure   \n",
      "11161  cellular    9   jul       628         1     -1         0  unknown   \n",
      "\n",
      "      deposit  \n",
      "0         yes  \n",
      "1         yes  \n",
      "2         yes  \n",
      "3         yes  \n",
      "4         yes  \n",
      "...       ...  \n",
      "11157      no  \n",
      "11158      no  \n",
      "11159      no  \n",
      "11160      no  \n",
      "11161      no  \n",
      "\n",
      "[11162 rows x 17 columns]\n"
     ]
    }
   ],
   "source": [
    "import pandas as pd\n",
    "import matplotlib.pylab as plt\n",
    "import numpy as np\n",
    "data=pd.read_csv(\"bank.csv\")\n",
    "print(data)"
   ]
  },
  {
   "cell_type": "code",
   "execution_count": 6,
   "metadata": {},
   "outputs": [
    {
     "name": "stdout",
     "output_type": "stream",
     "text": [
      "       age          job  marital  education default  balance housing loan  \\\n",
      "0       59       admin.  married  secondary      no     2343     yes   no   \n",
      "1       56       admin.  married  secondary      no       45      no   no   \n",
      "2       41   technician  married  secondary      no     1270     yes   no   \n",
      "3       55     services  married  secondary      no     2476     yes   no   \n",
      "4       54       admin.  married   tertiary      no      184      no   no   \n",
      "...    ...          ...      ...        ...     ...      ...     ...  ...   \n",
      "11157   33  blue-collar   single    primary      no        1     yes   no   \n",
      "11158   39     services  married  secondary      no      733      no   no   \n",
      "11159   32   technician   single  secondary      no       29      no   no   \n",
      "11160   43   technician  married  secondary      no        0      no  yes   \n",
      "11161   34   technician  married  secondary      no        0      no   no   \n",
      "\n",
      "        contact  day month  duration  campaign  pdays  previous poutcome  \\\n",
      "0       unknown    5   may      1042         1     -1         0  unknown   \n",
      "1       unknown    5   may      1467         1     -1         0  unknown   \n",
      "2       unknown    5   may      1389         1     -1         0  unknown   \n",
      "3       unknown    5   may       579         1     -1         0  unknown   \n",
      "4       unknown    5   may       673         2     -1         0  unknown   \n",
      "...         ...  ...   ...       ...       ...    ...       ...      ...   \n",
      "11157  cellular   20   apr       257         1     -1         0  unknown   \n",
      "11158   unknown   16   jun        83         4     -1         0  unknown   \n",
      "11159  cellular   19   aug       156         2     -1         0  unknown   \n",
      "11160  cellular    8   may         9         2    172         5  failure   \n",
      "11161  cellular    9   jul       628         1     -1         0  unknown   \n",
      "\n",
      "      deposit  \n",
      "0         yes  \n",
      "1         yes  \n",
      "2         yes  \n",
      "3         yes  \n",
      "4         yes  \n",
      "...       ...  \n",
      "11157      no  \n",
      "11158      no  \n",
      "11159      no  \n",
      "11160      no  \n",
      "11161      no  \n",
      "\n",
      "[11162 rows x 17 columns]\n"
     ]
    }
   ],
   "source": [
    "import pandas as pd\n",
    "import matplotlib.pylab as plt\n",
    "import numpy as np\n",
    "data=pd.read_csv(\"bank.csv\")\n",
    "print(data)"
   ]
  },
  {
   "cell_type": "code",
   "execution_count": 3,
   "metadata": {},
   "outputs": [
    {
     "data": {
      "image/png": "[encoded data removed]",
      "text/plain": [
       "<Figure size 432x288 with 1 Axes>"
      ]
     },
     "metadata": {
      "needs_background": "light"
     },
     "output_type": "display_data"
    }
   ],
   "source": [
    "import numpy as np\n",
    "import matplotlib.pylab as plt\n",
    "barwidth=0.10\n",
    "bars1=data[\"age\"]\n",
    "bars2=data[\"deposit\"]\n",
    "#bars3=[\"marital\"]\n",
    "#bars4=[\"balance\"]\n",
    "\n",
    "r1=np.arange(len(bars1))\n",
    "r2=[x + barwidth for x in r1]\n",
    "#r3=[x + barwidth for x in r2]\n",
    "#r4=[x + barwidth for x in r3]\n",
    "\n",
    "plt.bar(r1,bars1,color=\"#7f6d5f\",width=barwidth,edgecolor=\"white\",label=\"var1\")\n",
    "plt.bar(r2,bars2,color=\"#557f2d\",width=barwidth,edgecolor=\"white\",label=\"var2\")\n",
    "#plt.bar(r3,bars3,color=\"#2d7f5e\",width=barwidth,edgecolor=\"white\",label=\"var3\")\n",
    "#plt.bar(r4,bars4,color=\"#2d7dfe\",width=barwidth,edgecolor=\"white\",label=\"var4\")\n",
    "\n",
    "plt.xlabel(\"group\",fontweight=\"bold\")\n",
    "plt.xticks([r + barwidth for r in range(len(bars1))])\n",
    "plt.legend()\n",
    "plt.show()"
   ]
  },
  {
   "cell_type": "code",
   "execution_count": 7,
   "metadata": {},
   "outputs": [
    {
     "name": "stdout",
     "output_type": "stream",
     "text": [
      "       age          job  marital  education default  balance housing loan  \\\n",
      "0       59       admin.  married  secondary      no     2343     yes   no   \n",
      "1       56       admin.  married  secondary      no       45      no   no   \n",
      "2       41   technician  married  secondary      no     1270     yes   no   \n",
      "3       55     services  married  secondary      no     2476     yes   no   \n",
      "4       54       admin.  married   tertiary      no      184      no   no   \n",
      "...    ...          ...      ...        ...     ...      ...     ...  ...   \n",
      "11157   33  blue-collar   single    primary      no        1     yes   no   \n",
      "11158   39     services  married  secondary      no      733      no   no   \n",
      "11159   32   technician   single  secondary      no       29      no   no   \n",
      "11160   43   technician  married  secondary      no        0      no  yes   \n",
      "11161   34   technician  married  secondary      no        0      no   no   \n",
      "\n",
      "        contact  day month  duration  campaign  pdays  previous poutcome  \\\n",
      "0       unknown    5   may      1042         1     -1         0  unknown   \n",
      "1       unknown    5   may      1467         1     -1         0  unknown   \n",
      "2       unknown    5   may      1389         1     -1         0  unknown   \n",
      "3       unknown    5   may       579         1     -1         0  unknown   \n",
      "4       unknown    5   may       673         2     -1         0  unknown   \n",
      "...         ...  ...   ...       ...       ...    ...       ...      ...   \n",
      "11157  cellular   20   apr       257         1     -1         0  unknown   \n",
      "11158   unknown   16   jun        83         4     -1         0  unknown   \n",
      "11159  cellular   19   aug       156         2     -1         0  unknown   \n",
      "11160  cellular    8   may         9         2    172         5  failure   \n",
      "11161  cellular    9   jul       628         1     -1         0  unknown   \n",
      "\n",
      "      deposit  \n",
      "0         yes  \n",
      "1         yes  \n",
      "2         yes  \n",
      "3         yes  \n",
      "4         yes  \n",
      "...       ...  \n",
      "11157      no  \n",
      "11158      no  \n",
      "11159      no  \n",
      "11160      no  \n",
      "11161      no  \n",
      "\n",
      "[11162 rows x 17 columns]\n"
     ]
    },
    {
     "data": {
      "text/html": [
       "<div>\n",
       "<style scoped>\n",
       "    .dataframe tbody tr th:only-of-type {\n",
       "        vertical-align: middle;\n",
       "    }\n",
       "\n",
       "    .dataframe tbody tr th {\n",
       "        vertical-align: top;\n",
       "    }\n",
       "\n",
       "    .dataframe thead th {\n",
       "        text-align: right;\n",
       "    }\n",
       "</style>\n",
       "<table border=\"1\" class=\"dataframe\">\n",
       "  <thead>\n",
       "    <tr style=\"text-align: right;\">\n",
       "      <th></th>\n",
       "      <th>age</th>\n",
       "      <th>job</th>\n",
       "      <th>marital</th>\n",
       "      <th>education</th>\n",
       "      <th>default</th>\n",
       "      <th>balance</th>\n",
       "      <th>housing</th>\n",
       "      <th>loan</th>\n",
       "      <th>contact</th>\n",
       "      <th>day</th>\n",
       "      <th>month</th>\n",
       "      <th>duration</th>\n",
       "      <th>campaign</th>\n",
       "      <th>pdays</th>\n",
       "      <th>previous</th>\n",
       "      <th>poutcome</th>\n",
       "      <th>deposit</th>\n",
       "    </tr>\n",
       "  </thead>\n",
       "  <tbody>\n",
       "    <tr>\n",
       "      <td>0</td>\n",
       "      <td>59</td>\n",
       "      <td>admin.</td>\n",
       "      <td>married</td>\n",
       "      <td>secondary</td>\n",
       "      <td>no</td>\n",
       "      <td>2343</td>\n",
       "      <td>yes</td>\n",
       "      <td>no</td>\n",
       "      <td>unknown</td>\n",
       "      <td>5</td>\n",
       "      <td>may</td>\n",
       "      <td>1042</td>\n",
       "      <td>1</td>\n",
       "      <td>-1</td>\n",
       "      <td>0</td>\n",
       "      <td>unknown</td>\n",
       "      <td>yes</td>\n",
       "    </tr>\n",
       "    <tr>\n",
       "      <td>1</td>\n",
       "      <td>56</td>\n",
       "      <td>admin.</td>\n",
       "      <td>married</td>\n",
       "      <td>secondary</td>\n",
       "      <td>no</td>\n",
       "      <td>45</td>\n",
       "      <td>no</td>\n",
       "      <td>no</td>\n",
       "      <td>unknown</td>\n",
       "      <td>5</td>\n",
       "      <td>may</td>\n",
       "      <td>1467</td>\n",
       "      <td>1</td>\n",
       "      <td>-1</td>\n",
       "      <td>0</td>\n",
       "      <td>unknown</td>\n",
       "      <td>yes</td>\n",
       "    </tr>\n",
       "    <tr>\n",
       "      <td>2</td>\n",
       "      <td>41</td>\n",
       "      <td>technician</td>\n",
       "      <td>married</td>\n",
       "      <td>secondary</td>\n",
       "      <td>no</td>\n",
       "      <td>1270</td>\n",
       "      <td>yes</td>\n",
       "      <td>no</td>\n",
       "      <td>unknown</td>\n",
       "      <td>5</td>\n",
       "      <td>may</td>\n",
       "      <td>1389</td>\n",
       "      <td>1</td>\n",
       "      <td>-1</td>\n",
       "      <td>0</td>\n",
       "      <td>unknown</td>\n",
       "      <td>yes</td>\n",
       "    </tr>\n",
       "    <tr>\n",
       "      <td>3</td>\n",
       "      <td>55</td>\n",
       "      <td>services</td>\n",
       "      <td>married</td>\n",
       "      <td>secondary</td>\n",
       "      <td>no</td>\n",
       "      <td>2476</td>\n",
       "      <td>yes</td>\n",
       "      <td>no</td>\n",
       "      <td>unknown</td>\n",
       "      <td>5</td>\n",
       "      <td>may</td>\n",
       "      <td>579</td>\n",
       "      <td>1</td>\n",
       "      <td>-1</td>\n",
       "      <td>0</td>\n",
       "      <td>unknown</td>\n",
       "      <td>yes</td>\n",
       "    </tr>\n",
       "    <tr>\n",
       "      <td>4</td>\n",
       "      <td>54</td>\n",
       "      <td>admin.</td>\n",
       "      <td>married</td>\n",
       "      <td>tertiary</td>\n",
       "      <td>no</td>\n",
       "      <td>184</td>\n",
       "      <td>no</td>\n",
       "      <td>no</td>\n",
       "      <td>unknown</td>\n",
       "      <td>5</td>\n",
       "      <td>may</td>\n",
       "      <td>673</td>\n",
       "      <td>2</td>\n",
       "      <td>-1</td>\n",
       "      <td>0</td>\n",
       "      <td>unknown</td>\n",
       "      <td>yes</td>\n",
       "    </tr>\n",
       "  </tbody>\n",
       "</table>\n",
       "</div>"
      ],
      "text/plain": [
       "   age         job  marital  education default  balance housing loan  contact  \\\n",
       "0   59      admin.  married  secondary      no     2343     yes   no  unknown   \n",
       "1   56      admin.  married  secondary      no       45      no   no  unknown   \n",
       "2   41  technician  married  secondary      no     1270     yes   no  unknown   \n",
       "3   55    services  married  secondary      no     2476     yes   no  unknown   \n",
       "4   54      admin.  married   tertiary      no      184      no   no  unknown   \n",
       "\n",
       "   day month  duration  campaign  pdays  previous poutcome deposit  \n",
       "0    5   may      1042         1     -1         0  unknown     yes  \n",
       "1    5   may      1467         1     -1         0  unknown     yes  \n",
       "2    5   may      1389         1     -1         0  unknown     yes  \n",
       "3    5   may       579         1     -1         0  unknown     yes  \n",
       "4    5   may       673         2     -1         0  unknown     yes  "
      ]
     },
     "execution_count": 7,
     "metadata": {},
     "output_type": "execute_result"
    }
   ],
   "source": [
    "import pandas as pd\n",
    "import matplotlib.pylab as plt\n",
    "import numpy as np\n",
    "data=pd.read_csv(\"bank.csv\")\n",
    "print(data)\n",
    "data.head()"
   ]
  },
  {
   "cell_type": "code",
   "execution_count": 8,
   "metadata": {},
   "outputs": [],
   "source": [
    "cleanup_nums={\"deposit\":{\"yes\":1,\"no\":0}}"
   ]
  },
  {
   "cell_type": "code",
   "execution_count": 9,
   "metadata": {},
   "outputs": [
    {
     "name": "stdout",
     "output_type": "stream",
     "text": [
      "       age          job  marital  education default  balance housing loan  \\\n",
      "0       59       admin.  married  secondary      no     2343     yes   no   \n",
      "1       56       admin.  married  secondary      no       45      no   no   \n",
      "2       41   technician  married  secondary      no     1270     yes   no   \n",
      "3       55     services  married  secondary      no     2476     yes   no   \n",
      "4       54       admin.  married   tertiary      no      184      no   no   \n",
      "...    ...          ...      ...        ...     ...      ...     ...  ...   \n",
      "11157   33  blue-collar   single    primary      no        1     yes   no   \n",
      "11158   39     services  married  secondary      no      733      no   no   \n",
      "11159   32   technician   single  secondary      no       29      no   no   \n",
      "11160   43   technician  married  secondary      no        0      no  yes   \n",
      "11161   34   technician  married  secondary      no        0      no   no   \n",
      "\n",
      "        contact  day month  duration  campaign  pdays  previous poutcome  \\\n",
      "0       unknown    5   may      1042         1     -1         0  unknown   \n",
      "1       unknown    5   may      1467         1     -1         0  unknown   \n",
      "2       unknown    5   may      1389         1     -1         0  unknown   \n",
      "3       unknown    5   may       579         1     -1         0  unknown   \n",
      "4       unknown    5   may       673         2     -1         0  unknown   \n",
      "...         ...  ...   ...       ...       ...    ...       ...      ...   \n",
      "11157  cellular   20   apr       257         1     -1         0  unknown   \n",
      "11158   unknown   16   jun        83         4     -1         0  unknown   \n",
      "11159  cellular   19   aug       156         2     -1         0  unknown   \n",
      "11160  cellular    8   may         9         2    172         5  failure   \n",
      "11161  cellular    9   jul       628         1     -1         0  unknown   \n",
      "\n",
      "       deposit  \n",
      "0            1  \n",
      "1            1  \n",
      "2            1  \n",
      "3            1  \n",
      "4            1  \n",
      "...        ...  \n",
      "11157        0  \n",
      "11158        0  \n",
      "11159        0  \n",
      "11160        0  \n",
      "11161        0  \n",
      "\n",
      "[11162 rows x 17 columns]\n"
     ]
    }
   ],
   "source": [
    "data.replace(cleanup_nums,inplace=True)\n",
    "print(data)"
   ]
  },
  {
   "cell_type": "code",
   "execution_count": 10,
   "metadata": {},
   "outputs": [
    {
     "name": "stdout",
     "output_type": "stream",
     "text": [
      "0        59\n",
      "1        56\n",
      "2        41\n",
      "3        55\n",
      "4        54\n",
      "         ..\n",
      "11157    33\n",
      "11158    39\n",
      "11159    32\n",
      "11160    43\n",
      "11161    34\n",
      "Name: age, Length: 11162, dtype: int64\n",
      "0        2343\n",
      "1          45\n",
      "2        1270\n",
      "3        2476\n",
      "4         184\n",
      "         ... \n",
      "11157       1\n",
      "11158     733\n",
      "11159      29\n",
      "11160       0\n",
      "11161       0\n",
      "Name: balance, Length: 11162, dtype: int64\n"
     ]
    },
    {
     "name": "stderr",
     "output_type": "stream",
     "text": [
      "C:\\Users\\admin\\Anaconda3\\lib\\site-packages\\ipykernel_launcher.py:17: MatplotlibDeprecationWarning: \n",
      "The 'normed' kwarg was deprecated in Matplotlib 2.1 and will be removed in 3.1. Use 'density' instead.\n"
     ]
    },
    {
     "data": {
      "image/png": "[encoded data removed]",
      "text/plain": [
       "<Figure size 432x288 with 1 Axes>"
      ]
     },
     "metadata": {
      "needs_background": "light"
     },
     "output_type": "display_data"
    }
   ],
   "source": [
    "import matplotlib.pylab as plt\n",
    "import matplotlib.mlab as mlab\n",
    "import pandas as pd\n",
    "data=pd.read_csv(\"bank.csv\")\n",
    "cleanup_nums={\"deposit\":{\"yes\":1,\"no\":0}}\n",
    "data.replace(cleanup_nums,inplace=True)\n",
    "#print(data)\n",
    "x=data[\"age\"]\n",
    "y=data[\"balance\"]\n",
    "#x = np.array(x)\n",
    "#y = np.array(y)\n",
    "#x= np.reshape(x,(-1,1))\n",
    "#y = np.reshape(y,(-1,1))\n",
    "print(x)\n",
    "print(y)\n",
    "num_bins = 10\n",
    "n,bins,patches = plt.hist(x, num_bins,normed=1,facecolor='blue', alpha=0.5)\n",
    "#y=mlab.normpdf(bins, )\n",
    "#plt.hist(x,bins=10,histtype=\"bar\")\n",
    "#plt.plot(bins, y, 'r--')\n",
    "plt.xlabel(\"age\")\n",
    "plt.ylabel(\"balance\")\n",
    "plt.show()"
   ]
  },
  {
   "cell_type": "code",
   "execution_count": 11,
   "metadata": {},
   "outputs": [
    {
     "data": {
      "text/plain": [
       "array([[<matplotlib.axes._subplots.AxesSubplot object at 0x00000208E5AA7688>]],\n",
       "      dtype=object)"
      ]
     },
     "execution_count": 11,
     "metadata": {},
     "output_type": "execute_result"
    },
    {
     "data": {
      "image/png": "[encoded data removed]",
      "text/plain": [
       "<Figure size 432x288 with 1 Axes>"
      ]
     },
     "metadata": {
      "needs_background": "light"
     },
     "output_type": "display_data"
    }
   ],
   "source": [
    "data.hist(\"balance\")"
   ]
  },
  {
   "cell_type": "code",
   "execution_count": 12,
   "metadata": {},
   "outputs": [
    {
     "name": "stdout",
     "output_type": "stream",
     "text": [
      "       age          job  marital  education default  balance housing loan  \\\n",
      "0       59       admin.  married  secondary      no     2343     yes   no   \n",
      "1       56       admin.  married  secondary      no       45      no   no   \n",
      "2       41   technician  married  secondary      no     1270     yes   no   \n",
      "3       55     services  married  secondary      no     2476     yes   no   \n",
      "4       54       admin.  married   tertiary      no      184      no   no   \n",
      "...    ...          ...      ...        ...     ...      ...     ...  ...   \n",
      "11157   33  blue-collar   single    primary      no        1     yes   no   \n",
      "11158   39     services  married  secondary      no      733      no   no   \n",
      "11159   32   technician   single  secondary      no       29      no   no   \n",
      "11160   43   technician  married  secondary      no        0      no  yes   \n",
      "11161   34   technician  married  secondary      no        0      no   no   \n",
      "\n",
      "        contact  day month  duration  campaign  pdays  previous poutcome  \\\n",
      "0       unknown    5   may      1042         1     -1         0  unknown   \n",
      "1       unknown    5   may      1467         1     -1         0  unknown   \n",
      "2       unknown    5   may      1389         1     -1         0  unknown   \n",
      "3       unknown    5   may       579         1     -1         0  unknown   \n",
      "4       unknown    5   may       673         2     -1         0  unknown   \n",
      "...         ...  ...   ...       ...       ...    ...       ...      ...   \n",
      "11157  cellular   20   apr       257         1     -1         0  unknown   \n",
      "11158   unknown   16   jun        83         4     -1         0  unknown   \n",
      "11159  cellular   19   aug       156         2     -1         0  unknown   \n",
      "11160  cellular    8   may         9         2    172         5  failure   \n",
      "11161  cellular    9   jul       628         1     -1         0  unknown   \n",
      "\n",
      "      deposit  \n",
      "0         yes  \n",
      "1         yes  \n",
      "2         yes  \n",
      "3         yes  \n",
      "4         yes  \n",
      "...       ...  \n",
      "11157      no  \n",
      "11158      no  \n",
      "11159      no  \n",
      "11160      no  \n",
      "11161      no  \n",
      "\n",
      "[11162 rows x 17 columns]\n"
     ]
    }
   ],
   "source": [
    "import matplotlib.pylab as plt\n",
    "import numpy as np\n",
    "import pandas as pd\n",
    "data=pd.read_csv(\"bank.csv\")\n",
    "print(data)"
   ]
  },
  {
   "cell_type": "code",
   "execution_count": 13,
   "metadata": {},
   "outputs": [],
   "source": [
    "cleanup_nums={\"deposit\":{\"yes\":1,\"no\":0}}"
   ]
  },
  {
   "cell_type": "code",
   "execution_count": 14,
   "metadata": {},
   "outputs": [
    {
     "name": "stdout",
     "output_type": "stream",
     "text": [
      "       age          job  marital  education default  balance housing loan  \\\n",
      "0       59       admin.  married  secondary      no     2343     yes   no   \n",
      "1       56       admin.  married  secondary      no       45      no   no   \n",
      "2       41   technician  married  secondary      no     1270     yes   no   \n",
      "3       55     services  married  secondary      no     2476     yes   no   \n",
      "4       54       admin.  married   tertiary      no      184      no   no   \n",
      "...    ...          ...      ...        ...     ...      ...     ...  ...   \n",
      "11157   33  blue-collar   single    primary      no        1     yes   no   \n",
      "11158   39     services  married  secondary      no      733      no   no   \n",
      "11159   32   technician   single  secondary      no       29      no   no   \n",
      "11160   43   technician  married  secondary      no        0      no  yes   \n",
      "11161   34   technician  married  secondary      no        0      no   no   \n",
      "\n",
      "        contact  day month  duration  campaign  pdays  previous poutcome  \\\n",
      "0       unknown    5   may      1042         1     -1         0  unknown   \n",
      "1       unknown    5   may      1467         1     -1         0  unknown   \n",
      "2       unknown    5   may      1389         1     -1         0  unknown   \n",
      "3       unknown    5   may       579         1     -1         0  unknown   \n",
      "4       unknown    5   may       673         2     -1         0  unknown   \n",
      "...         ...  ...   ...       ...       ...    ...       ...      ...   \n",
      "11157  cellular   20   apr       257         1     -1         0  unknown   \n",
      "11158   unknown   16   jun        83         4     -1         0  unknown   \n",
      "11159  cellular   19   aug       156         2     -1         0  unknown   \n",
      "11160  cellular    8   may         9         2    172         5  failure   \n",
      "11161  cellular    9   jul       628         1     -1         0  unknown   \n",
      "\n",
      "       deposit  \n",
      "0            1  \n",
      "1            1  \n",
      "2            1  \n",
      "3            1  \n",
      "4            1  \n",
      "...        ...  \n",
      "11157        0  \n",
      "11158        0  \n",
      "11159        0  \n",
      "11160        0  \n",
      "11161        0  \n",
      "\n",
      "[11162 rows x 17 columns]\n"
     ]
    }
   ],
   "source": [
    "data.replace(cleanup_nums,inplace=True)\n",
    "print(data)"
   ]
  },
  {
   "cell_type": "code",
   "execution_count": 16,
   "metadata": {},
   "outputs": [
    {
     "ename": "KeyError",
     "evalue": "'Columns not found: 18, 19, 20, 21, 22, 23, 24, 25, 26, 27, 28, 29, 30, 31, 32, 33, 34, 35, 36, 37, 38, 39, 40, 41, 42, 43, 44, 45, 46, 47, 48, 49, 50, 51, 52, 53, 54, 55, 56, 57, 58, 59, 60, 61, 62, 63, 64, 65, 66, 67, 68, 69, 70, 71, 72, 73, 74, 75, 76, 77, 78, 79, 80, 81, 82, 83, 84, 85, 86, 87, 88, 89, 90, 92, 93, 95'",
     "output_type": "error",
     "traceback": [
      "\u001b[1;31m---------------------------------------------------------------------------\u001b[0m",
      "\u001b[1;31mKeyError\u001b[0m                                  Traceback (most recent call last)",
      "\u001b[1;32m<ipython-input-16-cdfb762c4fdc>\u001b[0m in \u001b[0;36m<module>\u001b[1;34m\u001b[0m\n\u001b[0;32m      5\u001b[0m \u001b[0mx\u001b[0m\u001b[1;33m=\u001b[0m\u001b[0mdata\u001b[0m\u001b[1;33m[\u001b[0m\u001b[1;34m\"age\"\u001b[0m\u001b[1;33m]\u001b[0m\u001b[1;33m\u001b[0m\u001b[1;33m\u001b[0m\u001b[0m\n\u001b[0;32m      6\u001b[0m \u001b[0my\u001b[0m\u001b[1;33m=\u001b[0m\u001b[0mdata\u001b[0m\u001b[1;33m[\u001b[0m\u001b[1;34m\"balance\"\u001b[0m\u001b[1;33m]\u001b[0m\u001b[1;33m\u001b[0m\u001b[1;33m\u001b[0m\u001b[0m\n\u001b[1;32m----> 7\u001b[1;33m \u001b[0mdata\u001b[0m\u001b[1;33m.\u001b[0m\u001b[0mhist\u001b[0m\u001b[1;33m(\u001b[0m\u001b[0mx\u001b[0m\u001b[1;33m,\u001b[0m\u001b[0my\u001b[0m\u001b[1;33m,\u001b[0m\u001b[0mhisttype\u001b[0m\u001b[1;33m=\u001b[0m\u001b[1;34m'bar'\u001b[0m\u001b[1;33m)\u001b[0m\u001b[1;33m\u001b[0m\u001b[1;33m\u001b[0m\u001b[0m\n\u001b[0m\u001b[0;32m      8\u001b[0m \u001b[0mplt\u001b[0m\u001b[1;33m.\u001b[0m\u001b[0mxlabel\u001b[0m\u001b[1;33m(\u001b[0m\u001b[1;34m'age'\u001b[0m\u001b[1;33m)\u001b[0m\u001b[1;33m\u001b[0m\u001b[1;33m\u001b[0m\u001b[0m\n\u001b[0;32m      9\u001b[0m \u001b[0mplt\u001b[0m\u001b[1;33m.\u001b[0m\u001b[0mylabel\u001b[0m\u001b[1;33m(\u001b[0m\u001b[1;34m'balance'\u001b[0m\u001b[1;33m)\u001b[0m\u001b[1;33m\u001b[0m\u001b[1;33m\u001b[0m\u001b[0m\n",
      "\u001b[1;32m~\\Anaconda3\\lib\\site-packages\\pandas\\plotting\\_core.py\u001b[0m in \u001b[0;36mhist_frame\u001b[1;34m(data, column, by, grid, xlabelsize, xrot, ylabelsize, yrot, ax, sharex, sharey, figsize, layout, bins, **kwds)\u001b[0m\n\u001b[0;32m    197\u001b[0m         \u001b[0mlayout\u001b[0m\u001b[1;33m=\u001b[0m\u001b[0mlayout\u001b[0m\u001b[1;33m,\u001b[0m\u001b[1;33m\u001b[0m\u001b[1;33m\u001b[0m\u001b[0m\n\u001b[0;32m    198\u001b[0m         \u001b[0mbins\u001b[0m\u001b[1;33m=\u001b[0m\u001b[0mbins\u001b[0m\u001b[1;33m,\u001b[0m\u001b[1;33m\u001b[0m\u001b[1;33m\u001b[0m\u001b[0m\n\u001b[1;32m--> 199\u001b[1;33m         \u001b[1;33m**\u001b[0m\u001b[0mkwds\u001b[0m\u001b[1;33m\u001b[0m\u001b[1;33m\u001b[0m\u001b[0m\n\u001b[0m\u001b[0;32m    200\u001b[0m     )\n\u001b[0;32m    201\u001b[0m \u001b[1;33m\u001b[0m\u001b[0m\n",
      "\u001b[1;32m~\\Anaconda3\\lib\\site-packages\\pandas\\plotting\\_matplotlib\\hist.py\u001b[0m in \u001b[0;36mhist_frame\u001b[1;34m(data, column, by, grid, xlabelsize, xrot, ylabelsize, yrot, ax, sharex, sharey, figsize, layout, bins, **kwds)\u001b[0m\n\u001b[0;32m    383\u001b[0m             \u001b[0mylabelsize\u001b[0m\u001b[1;33m=\u001b[0m\u001b[0mylabelsize\u001b[0m\u001b[1;33m,\u001b[0m\u001b[1;33m\u001b[0m\u001b[1;33m\u001b[0m\u001b[0m\n\u001b[0;32m    384\u001b[0m             \u001b[0myrot\u001b[0m\u001b[1;33m=\u001b[0m\u001b[0myrot\u001b[0m\u001b[1;33m,\u001b[0m\u001b[1;33m\u001b[0m\u001b[1;33m\u001b[0m\u001b[0m\n\u001b[1;32m--> 385\u001b[1;33m             \u001b[1;33m**\u001b[0m\u001b[0mkwds\u001b[0m\u001b[1;33m\u001b[0m\u001b[1;33m\u001b[0m\u001b[0m\n\u001b[0m\u001b[0;32m    386\u001b[0m         )\n\u001b[0;32m    387\u001b[0m         \u001b[1;32mreturn\u001b[0m \u001b[0maxes\u001b[0m\u001b[1;33m\u001b[0m\u001b[1;33m\u001b[0m\u001b[0m\n",
      "\u001b[1;32m~\\Anaconda3\\lib\\site-packages\\pandas\\plotting\\_matplotlib\\hist.py\u001b[0m in \u001b[0;36m_grouped_hist\u001b[1;34m(data, column, by, ax, bins, figsize, layout, sharex, sharey, rot, grid, xlabelsize, xrot, ylabelsize, yrot, **kwargs)\u001b[0m\n\u001b[0;32m    269\u001b[0m         \u001b[0mfigsize\u001b[0m\u001b[1;33m=\u001b[0m\u001b[0mfigsize\u001b[0m\u001b[1;33m,\u001b[0m\u001b[1;33m\u001b[0m\u001b[1;33m\u001b[0m\u001b[0m\n\u001b[0;32m    270\u001b[0m         \u001b[0mlayout\u001b[0m\u001b[1;33m=\u001b[0m\u001b[0mlayout\u001b[0m\u001b[1;33m,\u001b[0m\u001b[1;33m\u001b[0m\u001b[1;33m\u001b[0m\u001b[0m\n\u001b[1;32m--> 271\u001b[1;33m         \u001b[0mrot\u001b[0m\u001b[1;33m=\u001b[0m\u001b[0mrot\u001b[0m\u001b[1;33m,\u001b[0m\u001b[1;33m\u001b[0m\u001b[1;33m\u001b[0m\u001b[0m\n\u001b[0m\u001b[0;32m    272\u001b[0m     )\n\u001b[0;32m    273\u001b[0m \u001b[1;33m\u001b[0m\u001b[0m\n",
      "\u001b[1;32m~\\Anaconda3\\lib\\site-packages\\pandas\\plotting\\_matplotlib\\hist.py\u001b[0m in \u001b[0;36m_grouped_plot\u001b[1;34m(plotf, data, column, by, numeric_only, figsize, sharex, sharey, layout, rot, ax, **kwargs)\u001b[0m\n\u001b[0;32m    193\u001b[0m     \u001b[0mgrouped\u001b[0m \u001b[1;33m=\u001b[0m \u001b[0mdata\u001b[0m\u001b[1;33m.\u001b[0m\u001b[0mgroupby\u001b[0m\u001b[1;33m(\u001b[0m\u001b[0mby\u001b[0m\u001b[1;33m)\u001b[0m\u001b[1;33m\u001b[0m\u001b[1;33m\u001b[0m\u001b[0m\n\u001b[0;32m    194\u001b[0m     \u001b[1;32mif\u001b[0m \u001b[0mcolumn\u001b[0m \u001b[1;32mis\u001b[0m \u001b[1;32mnot\u001b[0m \u001b[1;32mNone\u001b[0m\u001b[1;33m:\u001b[0m\u001b[1;33m\u001b[0m\u001b[1;33m\u001b[0m\u001b[0m\n\u001b[1;32m--> 195\u001b[1;33m         \u001b[0mgrouped\u001b[0m \u001b[1;33m=\u001b[0m \u001b[0mgrouped\u001b[0m\u001b[1;33m[\u001b[0m\u001b[0mcolumn\u001b[0m\u001b[1;33m]\u001b[0m\u001b[1;33m\u001b[0m\u001b[1;33m\u001b[0m\u001b[0m\n\u001b[0m\u001b[0;32m    196\u001b[0m \u001b[1;33m\u001b[0m\u001b[0m\n\u001b[0;32m    197\u001b[0m     \u001b[0mnaxes\u001b[0m \u001b[1;33m=\u001b[0m \u001b[0mlen\u001b[0m\u001b[1;33m(\u001b[0m\u001b[0mgrouped\u001b[0m\u001b[1;33m)\u001b[0m\u001b[1;33m\u001b[0m\u001b[1;33m\u001b[0m\u001b[0m\n",
      "\u001b[1;32m~\\Anaconda3\\lib\\site-packages\\pandas\\core\\base.py\u001b[0m in \u001b[0;36m__getitem__\u001b[1;34m(self, key)\u001b[0m\n\u001b[0;32m    255\u001b[0m                 \u001b[0mbad_keys\u001b[0m \u001b[1;33m=\u001b[0m \u001b[0mlist\u001b[0m\u001b[1;33m(\u001b[0m\u001b[0mset\u001b[0m\u001b[1;33m(\u001b[0m\u001b[0mkey\u001b[0m\u001b[1;33m)\u001b[0m\u001b[1;33m.\u001b[0m\u001b[0mdifference\u001b[0m\u001b[1;33m(\u001b[0m\u001b[0mself\u001b[0m\u001b[1;33m.\u001b[0m\u001b[0mobj\u001b[0m\u001b[1;33m.\u001b[0m\u001b[0mcolumns\u001b[0m\u001b[1;33m)\u001b[0m\u001b[1;33m)\u001b[0m\u001b[1;33m\u001b[0m\u001b[1;33m\u001b[0m\u001b[0m\n\u001b[0;32m    256\u001b[0m                 raise KeyError(\n\u001b[1;32m--> 257\u001b[1;33m                     \u001b[1;34m\"Columns not found: {missing}\"\u001b[0m\u001b[1;33m.\u001b[0m\u001b[0mformat\u001b[0m\u001b[1;33m(\u001b[0m\u001b[0mmissing\u001b[0m\u001b[1;33m=\u001b[0m\u001b[0mstr\u001b[0m\u001b[1;33m(\u001b[0m\u001b[0mbad_keys\u001b[0m\u001b[1;33m)\u001b[0m\u001b[1;33m[\u001b[0m\u001b[1;36m1\u001b[0m\u001b[1;33m:\u001b[0m\u001b[1;33m-\u001b[0m\u001b[1;36m1\u001b[0m\u001b[1;33m]\u001b[0m\u001b[1;33m)\u001b[0m\u001b[1;33m\u001b[0m\u001b[1;33m\u001b[0m\u001b[0m\n\u001b[0m\u001b[0;32m    258\u001b[0m                 )\n\u001b[0;32m    259\u001b[0m             \u001b[1;32mreturn\u001b[0m \u001b[0mself\u001b[0m\u001b[1;33m.\u001b[0m\u001b[0m_gotitem\u001b[0m\u001b[1;33m(\u001b[0m\u001b[0mlist\u001b[0m\u001b[1;33m(\u001b[0m\u001b[0mkey\u001b[0m\u001b[1;33m)\u001b[0m\u001b[1;33m,\u001b[0m \u001b[0mndim\u001b[0m\u001b[1;33m=\u001b[0m\u001b[1;36m2\u001b[0m\u001b[1;33m)\u001b[0m\u001b[1;33m\u001b[0m\u001b[1;33m\u001b[0m\u001b[0m\n",
      "\u001b[1;31mKeyError\u001b[0m: 'Columns not found: 18, 19, 20, 21, 22, 23, 24, 25, 26, 27, 28, 29, 30, 31, 32, 33, 34, 35, 36, 37, 38, 39, 40, 41, 42, 43, 44, 45, 46, 47, 48, 49, 50, 51, 52, 53, 54, 55, 56, 57, 58, 59, 60, 61, 62, 63, 64, 65, 66, 67, 68, 69, 70, 71, 72, 73, 74, 75, 76, 77, 78, 79, 80, 81, 82, 83, 84, 85, 86, 87, 88, 89, 90, 92, 93, 95'"
     ]
    }
   ],
   "source": [
    "import matplotlib.pyplot as plt\n",
    "import pandas as pd\n",
    "\n",
    "data = pd.read_csv('bank.csv')\n",
    "x=data[\"age\"]\n",
    "y=data[\"balance\"]\n",
    "data.hist(x,y,histtype='bar')\n",
    "plt.xlabel('age')\n",
    "plt.ylabel('balance')\n",
    "plt.title('Title')\n",
    "plt.show()"
   ]
  },
  {
   "cell_type": "code",
   "execution_count": 17,
   "metadata": {},
   "outputs": [
    {
     "name": "stdout",
     "output_type": "stream",
     "text": [
      "0        59\n",
      "1        56\n",
      "2        41\n",
      "3        55\n",
      "4        54\n",
      "         ..\n",
      "11157    33\n",
      "11158    39\n",
      "11159    32\n",
      "11160    43\n",
      "11161    34\n",
      "Name: age, Length: 11162, dtype: int64\n",
      "0        1\n",
      "1        1\n",
      "2        1\n",
      "3        1\n",
      "4        1\n",
      "        ..\n",
      "11157    0\n",
      "11158    0\n",
      "11159    0\n",
      "11160    0\n",
      "11161    0\n",
      "Name: deposit, Length: 11162, dtype: int64\n"
     ]
    },
    {
     "name": "stderr",
     "output_type": "stream",
     "text": [
      "C:\\Users\\admin\\Anaconda3\\lib\\site-packages\\ipykernel_launcher.py:11: MatplotlibDeprecationWarning: \n",
      "The 'normed' kwarg was deprecated in Matplotlib 2.1 and will be removed in 3.1. Use 'density' instead.\n",
      "  # This is added back by InteractiveShellApp.init_path()\n"
     ]
    },
    {
     "data": {
      "image/png": "[encoded data removed]",
      "text/plain": [
       "<Figure size 432x288 with 1 Axes>"
      ]
     },
     "metadata": {
      "needs_background": "light"
     },
     "output_type": "display_data"
    }
   ],
   "source": [
    "import matplotlib.pylab as plt\n",
    "import pandas as pd\n",
    "data=pd.read_csv(\"bank.csv\")\n",
    "cleanup_nums={\"deposit\":{\"yes\":1,\"no\":0}}\n",
    "data.replace(cleanup_nums,inplace=True)\n",
    "x=data[\"age\"]\n",
    "y=data[\"deposit\"]\n",
    "print(x)\n",
    "print(y)\n",
    "num_bins = 10\n",
    "n,bins,patches = plt.hist(x, num_bins,normed=1,facecolor='blue', alpha=0.5)\n",
    "plt.xlabel(\"age\")\n",
    "plt.ylabel(\"deposit\")\n",
    "plt.show()"
   ]
  },
  {
   "cell_type": "code",
   "execution_count": 18,
   "metadata": {},
   "outputs": [
    {
     "data": {
      "text/plain": [
       "array([[<matplotlib.axes._subplots.AxesSubplot object at 0x00000208E795DD08>]],\n",
       "      dtype=object)"
      ]
     },
     "execution_count": 18,
     "metadata": {},
     "output_type": "execute_result"
    },
    {
     "data": {
      "image/png": "[encoded data removed]",
      "text/plain": [
       "<Figure size 432x288 with 1 Axes>"
      ]
     },
     "metadata": {
      "needs_background": "light"
     },
     "output_type": "display_data"
    }
   ],
   "source": [
    "data.hist(\"age\")"
   ]
  },
  {
   "cell_type": "markdown",
   "metadata": {},
   "source": []
  },
  {
   "cell_type": "code",
   "execution_count": 19,
   "metadata": {},
   "outputs": [
    {
     "data": {
      "text/plain": [
       "array([[<matplotlib.axes._subplots.AxesSubplot object at 0x00000208E7F40708>]],\n",
       "      dtype=object)"
      ]
     },
     "execution_count": 19,
     "metadata": {},
     "output_type": "execute_result"
    },
    {
     "data": {
      "image/png": "[encoded data removed]",
      "text/plain": [
       "<Figure size 432x288 with 1 Axes>"
      ]
     },
     "metadata": {
      "needs_background": "light"
     },
     "output_type": "display_data"
    }
   ],
   "source": [
    "data.hist(\"deposit\")"
   ]
  },
  {
   "cell_type": "code",
   "execution_count": 20,
   "metadata": {},
   "outputs": [
    {
     "data": {
      "text/plain": [
       "array([[<matplotlib.axes._subplots.AxesSubplot object at 0x00000208E836D4C8>]],\n",
       "      dtype=object)"
      ]
     },
     "execution_count": 20,
     "metadata": {},
     "output_type": "execute_result"
    },
    {
     "data": {
      "image/png": "[encoded data removed]",
      "text/plain": [
       "<Figure size 432x288 with 1 Axes>"
      ]
     },
     "metadata": {
      "needs_background": "light"
     },
     "output_type": "display_data"
    }
   ],
   "source": [
    "data.hist(\"pdays\")"
   ]
  },
  {
   "cell_type": "code",
   "execution_count": 21,
   "metadata": {},
   "outputs": [
    {
     "name": "stdout",
     "output_type": "stream",
     "text": [
      "0        2343\n",
      "1          45\n",
      "2        1270\n",
      "3        2476\n",
      "4         184\n",
      "         ... \n",
      "11157       1\n",
      "11158     733\n",
      "11159      29\n",
      "11160       0\n",
      "11161       0\n",
      "Name: balance, Length: 11162, dtype: int64\n",
      "0        1\n",
      "1        1\n",
      "2        1\n",
      "3        1\n",
      "4        1\n",
      "        ..\n",
      "11157    0\n",
      "11158    0\n",
      "11159    0\n",
      "11160    0\n",
      "11161    0\n",
      "Name: deposit, Length: 11162, dtype: int64\n"
     ]
    },
    {
     "name": "stderr",
     "output_type": "stream",
     "text": [
      "C:\\Users\\admin\\Anaconda3\\lib\\site-packages\\ipykernel_launcher.py:11: MatplotlibDeprecationWarning: \n",
      "The 'normed' kwarg was deprecated in Matplotlib 2.1 and will be removed in 3.1. Use 'density' instead.\n",
      "  # This is added back by InteractiveShellApp.init_path()\n"
     ]
    },
    {
     "data": {
      "image/png": "[encoded data removed]",
      "text/plain": [
       "<Figure size 432x288 with 1 Axes>"
      ]
     },
     "metadata": {
      "needs_background": "light"
     },
     "output_type": "display_data"
    }
   ],
   "source": [
    "import matplotlib.pylab as plt\n",
    "import pandas as pd\n",
    "data=pd.read_csv(\"bank.csv\")\n",
    "cleanup_nums={\"deposit\":{\"yes\":1,\"no\":0}}\n",
    "data.replace(cleanup_nums,inplace=True)\n",
    "x=data[\"balance\"]\n",
    "y=data[\"deposit\"]\n",
    "print(x)\n",
    "print(y)\n",
    "num_bins = 10\n",
    "n,bins,patches = plt.hist(x, num_bins,normed=1,facecolor='blue', alpha=0.5)\n",
    "plt.xlabel(\"balance\")\n",
    "plt.ylabel(\"deposit\")\n",
    "plt.show()"
   ]
  },
  {
   "cell_type": "code",
   "execution_count": 22,
   "metadata": {},
   "outputs": [
    {
     "name": "stdout",
     "output_type": "stream",
     "text": [
      "0        1042\n",
      "1        1467\n",
      "2        1389\n",
      "3         579\n",
      "4         673\n",
      "         ... \n",
      "11157     257\n",
      "11158      83\n",
      "11159     156\n",
      "11160       9\n",
      "11161     628\n",
      "Name: duration, Length: 11162, dtype: int64\n",
      "0        1\n",
      "1        1\n",
      "2        1\n",
      "3        1\n",
      "4        1\n",
      "        ..\n",
      "11157    0\n",
      "11158    0\n",
      "11159    0\n",
      "11160    0\n",
      "11161    0\n",
      "Name: deposit, Length: 11162, dtype: int64\n"
     ]
    },
    {
     "name": "stderr",
     "output_type": "stream",
     "text": [
      "C:\\Users\\admin\\Anaconda3\\lib\\site-packages\\ipykernel_launcher.py:11: MatplotlibDeprecationWarning: \n",
      "The 'normed' kwarg was deprecated in Matplotlib 2.1 and will be removed in 3.1. Use 'density' instead.\n",
      "  # This is added back by InteractiveShellApp.init_path()\n"
     ]
    },
    {
     "data": {
      "image/png": "[encoded data removed]",
      "text/plain": [
       "<Figure size 432x288 with 1 Axes>"
      ]
     },
     "metadata": {
      "needs_background": "light"
     },
     "output_type": "display_data"
    }
   ],
   "source": [
    "import matplotlib.pylab as plt\n",
    "import pandas as pd\n",
    "data=pd.read_csv(\"bank.csv\")\n",
    "cleanup_nums={\"deposit\":{\"yes\":1,\"no\":0}}\n",
    "data.replace(cleanup_nums,inplace=True)\n",
    "x=data[\"duration\"]\n",
    "y=data[\"deposit\"]\n",
    "print(x)\n",
    "print(y)\n",
    "num_bins = 10\n",
    "n,bins,patches = plt.hist(x, num_bins,normed=1,facecolor='green', alpha=0.5)\n",
    "plt.xlabel(\"duration\")\n",
    "plt.ylabel(\"deposit\")\n",
    "plt.show()"
   ]
  },
  {
   "cell_type": "code",
   "execution_count": 23,
   "metadata": {},
   "outputs": [
    {
     "data": {
      "text/plain": [
       "array([[<matplotlib.axes._subplots.AxesSubplot object at 0x00000208E89F5F48>,\n",
       "        <matplotlib.axes._subplots.AxesSubplot object at 0x00000208F5C80F08>,\n",
       "        <matplotlib.axes._subplots.AxesSubplot object at 0x00000208F5BDB708>],\n",
       "       [<matplotlib.axes._subplots.AxesSubplot object at 0x00000208F5BB8148>,\n",
       "        <matplotlib.axes._subplots.AxesSubplot object at 0x00000208F5B19B88>,\n",
       "        <matplotlib.axes._subplots.AxesSubplot object at 0x00000208F5AF7C88>],\n",
       "       [<matplotlib.axes._subplots.AxesSubplot object at 0x00000208F5A4F188>,\n",
       "        <matplotlib.axes._subplots.AxesSubplot object at 0x00000208F5A31E88>,\n",
       "        <matplotlib.axes._subplots.AxesSubplot object at 0x00000208F5F2CE48>]],\n",
       "      dtype=object)"
      ]
     },
     "execution_count": 23,
     "metadata": {},
     "output_type": "execute_result"
    },
    {
     "data": {
      "image/png": "[encoded data removed]",
      "text/plain": [
       "<Figure size 432x288 with 9 Axes>"
      ]
     },
     "metadata": {
      "needs_background": "light"
     },
     "output_type": "display_data"
    }
   ],
   "source": [
    "data.hist()"
   ]
  },
  {
   "cell_type": "code",
   "execution_count": 24,
   "metadata": {},
   "outputs": [
    {
     "data": {
      "image/png": "[encoded data removed]",
      "text/plain": [
       "<Figure size 432x288 with 1 Axes>"
      ]
     },
     "metadata": {
      "needs_background": "light"
     },
     "output_type": "display_data"
    }
   ],
   "source": [
    "import matplotlib.pyplot as plt\n",
    "import numpy as np\n",
    "import pandas as pd\n",
    "\n",
    "data = pd.read_csv(\"bank.csv\")\n",
    "plt.bar(data[\"age\"],data[\"balance\"])\n",
    "plt.xlabel(\"age\")\n",
    "plt.ylabel(\"balance\")\n",
    "plt.show()"
   ]
  },
  {
   "cell_type": "code",
   "execution_count": 3,
   "metadata": {
    "scrolled": true
   },
   "outputs": [
    {
     "data": {
      "image/png": "[encoded data removed]",
      "text/plain": [
       "<Figure size 432x288 with 1 Axes>"
      ]
     },
     "metadata": {
      "needs_background": "light"
     },
     "output_type": "display_data"
    }
   ],
   "source": [
    "import matplotlib.pyplot as plt\n",
    "import numpy as np\n",
    "import pandas as pd\n",
    "data = pd.read_csv(\"bank.csv\")\n",
    "cleanup_nums={\"deposit\":{\"yes\":1,\"no\":0}}\n",
    "data.replace(cleanup_nums,inplace=True)\n",
    "plt.bar(data[\"deposit\"],data[\"age\"])\n",
    "plt.xlabel(\"deposit\")\n",
    "plt.ylabel(\"age\")\n",
    "plt.show()"
   ]
  },
  {
   "cell_type": "code",
   "execution_count": 18,
   "metadata": {},
   "outputs": [
    {
     "data": {
      "image/png": "[encoded data removed]",
      "text/plain": [
       "<Figure size 432x288 with 1 Axes>"
      ]
     },
     "metadata": {
      "needs_background": "light"
     },
     "output_type": "display_data"
    }
   ],
   "source": [
    "import matplotlib.pyplot as plt\n",
    "import numpy as np\n",
    "import pandas as pd\n",
    "data = pd.read_csv(\"bank.csv\")\n",
    "cleanup_nums={\"deposit\":{\"yes\":1,\"no\":0}}\n",
    "data.replace(cleanup_nums,inplace=True)\n",
    "plt.bar(data[\"deposit\"],data[\"balance\"])\n",
    "plt.xlabel(\"deposit\")\n",
    "plt.ylabel(\"balance\")\n",
    "plt.show()"
   ]
  },
  {
   "cell_type": "code",
   "execution_count": 10,
   "metadata": {},
   "outputs": [
    {
     "data": {
      "text/plain": [
       "(11162, 17)"
      ]
     },
     "execution_count": 10,
     "metadata": {},
     "output_type": "execute_result"
    }
   ],
   "source": [
    "data.shape"
   ]
  },
  {
   "cell_type": "code",
   "execution_count": 11,
   "metadata": {},
   "outputs": [
    {
     "name": "stdout",
     "output_type": "stream",
     "text": [
      "       age          job  marital  education default  balance housing loan  \\\n",
      "0       59       admin.  married  secondary      no     2343     yes   no   \n",
      "1       56       admin.  married  secondary      no       45      no   no   \n",
      "2       41   technician  married  secondary      no     1270     yes   no   \n",
      "3       55     services  married  secondary      no     2476     yes   no   \n",
      "4       54       admin.  married   tertiary      no      184      no   no   \n",
      "...    ...          ...      ...        ...     ...      ...     ...  ...   \n",
      "11157   33  blue-collar   single    primary      no        1     yes   no   \n",
      "11158   39     services  married  secondary      no      733      no   no   \n",
      "11159   32   technician   single  secondary      no       29      no   no   \n",
      "11160   43   technician  married  secondary      no        0      no  yes   \n",
      "11161   34   technician  married  secondary      no        0      no   no   \n",
      "\n",
      "        contact  day month  duration  campaign  pdays  previous poutcome  \\\n",
      "0       unknown    5   may      1042         1     -1         0  unknown   \n",
      "1       unknown    5   may      1467         1     -1         0  unknown   \n",
      "2       unknown    5   may      1389         1     -1         0  unknown   \n",
      "3       unknown    5   may       579         1     -1         0  unknown   \n",
      "4       unknown    5   may       673         2     -1         0  unknown   \n",
      "...         ...  ...   ...       ...       ...    ...       ...      ...   \n",
      "11157  cellular   20   apr       257         1     -1         0  unknown   \n",
      "11158   unknown   16   jun        83         4     -1         0  unknown   \n",
      "11159  cellular   19   aug       156         2     -1         0  unknown   \n",
      "11160  cellular    8   may         9         2    172         5  failure   \n",
      "11161  cellular    9   jul       628         1     -1         0  unknown   \n",
      "\n",
      "      deposit  \n",
      "0         yes  \n",
      "1         yes  \n",
      "2         yes  \n",
      "3         yes  \n",
      "4         yes  \n",
      "...       ...  \n",
      "11157      no  \n",
      "11158      no  \n",
      "11159      no  \n",
      "11160      no  \n",
      "11161      no  \n",
      "\n",
      "[11162 rows x 17 columns]\n"
     ]
    }
   ],
   "source": [
    "import pandas as pd\n",
    "data=pd.read_csv(\"bank.csv\")\n",
    "print(data)"
   ]
  },
  {
   "cell_type": "code",
   "execution_count": 22,
   "metadata": {},
   "outputs": [
    {
     "name": "stdout",
     "output_type": "stream",
     "text": [
      "       age          job  marital  education default  balance housing loan  \\\n",
      "0       59       admin.  married  secondary      no     2343     yes   no   \n",
      "1       56       admin.  married  secondary      no       45      no   no   \n",
      "2       41   technician  married  secondary      no     1270     yes   no   \n",
      "3       55     services  married  secondary      no     2476     yes   no   \n",
      "4       54       admin.  married   tertiary      no      184      no   no   \n",
      "...    ...          ...      ...        ...     ...      ...     ...  ...   \n",
      "11157   33  blue-collar   single    primary      no        1     yes   no   \n",
      "11158   39     services  married  secondary      no      733      no   no   \n",
      "11159   32   technician   single  secondary      no       29      no   no   \n",
      "11160   43   technician  married  secondary      no        0      no  yes   \n",
      "11161   34   technician  married  secondary      no        0      no   no   \n",
      "\n",
      "        contact  day month  duration  campaign  pdays  previous poutcome  \\\n",
      "0       unknown    5   may      1042         1     -1         0  unknown   \n",
      "1       unknown    5   may      1467         1     -1         0  unknown   \n",
      "2       unknown    5   may      1389         1     -1         0  unknown   \n",
      "3       unknown    5   may       579         1     -1         0  unknown   \n",
      "4       unknown    5   may       673         2     -1         0  unknown   \n",
      "...         ...  ...   ...       ...       ...    ...       ...      ...   \n",
      "11157  cellular   20   apr       257         1     -1         0  unknown   \n",
      "11158   unknown   16   jun        83         4     -1         0  unknown   \n",
      "11159  cellular   19   aug       156         2     -1         0  unknown   \n",
      "11160  cellular    8   may         9         2    172         5  failure   \n",
      "11161  cellular    9   jul       628         1     -1         0  unknown   \n",
      "\n",
      "      deposit  \n",
      "0         yes  \n",
      "1         yes  \n",
      "2         yes  \n",
      "3         yes  \n",
      "4         yes  \n",
      "...       ...  \n",
      "11157      no  \n",
      "11158      no  \n",
      "11159      no  \n",
      "11160      no  \n",
      "11161      no  \n",
      "\n",
      "[11162 rows x 17 columns]\n"
     ]
    }
   ],
   "source": [
    "import pandas as pd\n",
    "data=pd.read_csv(\"bank.csv\")\n",
    "print(data)"
   ]
  },
  {
   "cell_type": "code",
   "execution_count": 20,
   "metadata": {},
   "outputs": [],
   "source": [
    "cleanup_nums={\"loan\":{\"yes\":1,\"no\":0}}"
   ]
  },
  {
   "cell_type": "code",
   "execution_count": 21,
   "metadata": {},
   "outputs": [
    {
     "name": "stdout",
     "output_type": "stream",
     "text": [
      "       age          job  marital  education default  balance housing  loan  \\\n",
      "0       59       admin.  married  secondary      no     2343     yes     0   \n",
      "1       56       admin.  married  secondary      no       45      no     0   \n",
      "2       41   technician  married  secondary      no     1270     yes     0   \n",
      "3       55     services  married  secondary      no     2476     yes     0   \n",
      "4       54       admin.  married   tertiary      no      184      no     0   \n",
      "...    ...          ...      ...        ...     ...      ...     ...   ...   \n",
      "11157   33  blue-collar   single    primary      no        1     yes     0   \n",
      "11158   39     services  married  secondary      no      733      no     0   \n",
      "11159   32   technician   single  secondary      no       29      no     0   \n",
      "11160   43   technician  married  secondary      no        0      no     1   \n",
      "11161   34   technician  married  secondary      no        0      no     0   \n",
      "\n",
      "        contact  day month  duration  campaign  pdays  previous poutcome  \\\n",
      "0       unknown    5   may      1042         1     -1         0  unknown   \n",
      "1       unknown    5   may      1467         1     -1         0  unknown   \n",
      "2       unknown    5   may      1389         1     -1         0  unknown   \n",
      "3       unknown    5   may       579         1     -1         0  unknown   \n",
      "4       unknown    5   may       673         2     -1         0  unknown   \n",
      "...         ...  ...   ...       ...       ...    ...       ...      ...   \n",
      "11157  cellular   20   apr       257         1     -1         0  unknown   \n",
      "11158   unknown   16   jun        83         4     -1         0  unknown   \n",
      "11159  cellular   19   aug       156         2     -1         0  unknown   \n",
      "11160  cellular    8   may         9         2    172         5  failure   \n",
      "11161  cellular    9   jul       628         1     -1         0  unknown   \n",
      "\n",
      "      deposit  \n",
      "0         yes  \n",
      "1         yes  \n",
      "2         yes  \n",
      "3         yes  \n",
      "4         yes  \n",
      "...       ...  \n",
      "11157      no  \n",
      "11158      no  \n",
      "11159      no  \n",
      "11160      no  \n",
      "11161      no  \n",
      "\n",
      "[11162 rows x 17 columns]\n"
     ]
    }
   ],
   "source": [
    "data.replace(cleanup_nums,inplace=True)\n",
    "print(data)"
   ]
  },
  {
   "cell_type": "code",
   "execution_count": 23,
   "metadata": {},
   "outputs": [
    {
     "name": "stdout",
     "output_type": "stream",
     "text": [
      "       age          job  marital  education default  balance housing loan  \\\n",
      "0       59       admin.  married  secondary      no     2343     yes   no   \n",
      "1       56       admin.  married  secondary      no       45      no   no   \n",
      "2       41   technician  married  secondary      no     1270     yes   no   \n",
      "3       55     services  married  secondary      no     2476     yes   no   \n",
      "4       54       admin.  married   tertiary      no      184      no   no   \n",
      "...    ...          ...      ...        ...     ...      ...     ...  ...   \n",
      "11157   33  blue-collar   single    primary      no        1     yes   no   \n",
      "11158   39     services  married  secondary      no      733      no   no   \n",
      "11159   32   technician   single  secondary      no       29      no   no   \n",
      "11160   43   technician  married  secondary      no        0      no  yes   \n",
      "11161   34   technician  married  secondary      no        0      no   no   \n",
      "\n",
      "        contact  day month  duration  campaign  pdays  previous poutcome  \\\n",
      "0       unknown    5   may      1042         1     -1         0  unknown   \n",
      "1       unknown    5   may      1467         1     -1         0  unknown   \n",
      "2       unknown    5   may      1389         1     -1         0  unknown   \n",
      "3       unknown    5   may       579         1     -1         0  unknown   \n",
      "4       unknown    5   may       673         2     -1         0  unknown   \n",
      "...         ...  ...   ...       ...       ...    ...       ...      ...   \n",
      "11157  cellular   20   apr       257         1     -1         0  unknown   \n",
      "11158   unknown   16   jun        83         4     -1         0  unknown   \n",
      "11159  cellular   19   aug       156         2     -1         0  unknown   \n",
      "11160  cellular    8   may         9         2    172         5  failure   \n",
      "11161  cellular    9   jul       628         1     -1         0  unknown   \n",
      "\n",
      "      deposit  \n",
      "0         yes  \n",
      "1         yes  \n",
      "2         yes  \n",
      "3         yes  \n",
      "4         yes  \n",
      "...       ...  \n",
      "11157      no  \n",
      "11158      no  \n",
      "11159      no  \n",
      "11160      no  \n",
      "11161      no  \n",
      "\n",
      "[11162 rows x 17 columns]\n"
     ]
    }
   ],
   "source": [
    "import pandas as pd\n",
    "import matplotlib.pylab as plt\n",
    "data=pd.read_csv(\"bank.csv\")\n",
    "print(data)"
   ]
  },
  {
   "cell_type": "code",
   "execution_count": 24,
   "metadata": {},
   "outputs": [],
   "source": [
    "cleanup_nums={\"loan\":{\"yes\":1,\"no\":0}}"
   ]
  },
  {
   "cell_type": "code",
   "execution_count": 25,
   "metadata": {},
   "outputs": [
    {
     "name": "stdout",
     "output_type": "stream",
     "text": [
      "       age          job  marital  education default  balance housing  loan  \\\n",
      "0       59       admin.  married  secondary      no     2343     yes     0   \n",
      "1       56       admin.  married  secondary      no       45      no     0   \n",
      "2       41   technician  married  secondary      no     1270     yes     0   \n",
      "3       55     services  married  secondary      no     2476     yes     0   \n",
      "4       54       admin.  married   tertiary      no      184      no     0   \n",
      "...    ...          ...      ...        ...     ...      ...     ...   ...   \n",
      "11157   33  blue-collar   single    primary      no        1     yes     0   \n",
      "11158   39     services  married  secondary      no      733      no     0   \n",
      "11159   32   technician   single  secondary      no       29      no     0   \n",
      "11160   43   technician  married  secondary      no        0      no     1   \n",
      "11161   34   technician  married  secondary      no        0      no     0   \n",
      "\n",
      "        contact  day month  duration  campaign  pdays  previous poutcome  \\\n",
      "0       unknown    5   may      1042         1     -1         0  unknown   \n",
      "1       unknown    5   may      1467         1     -1         0  unknown   \n",
      "2       unknown    5   may      1389         1     -1         0  unknown   \n",
      "3       unknown    5   may       579         1     -1         0  unknown   \n",
      "4       unknown    5   may       673         2     -1         0  unknown   \n",
      "...         ...  ...   ...       ...       ...    ...       ...      ...   \n",
      "11157  cellular   20   apr       257         1     -1         0  unknown   \n",
      "11158   unknown   16   jun        83         4     -1         0  unknown   \n",
      "11159  cellular   19   aug       156         2     -1         0  unknown   \n",
      "11160  cellular    8   may         9         2    172         5  failure   \n",
      "11161  cellular    9   jul       628         1     -1         0  unknown   \n",
      "\n",
      "      deposit  \n",
      "0         yes  \n",
      "1         yes  \n",
      "2         yes  \n",
      "3         yes  \n",
      "4         yes  \n",
      "...       ...  \n",
      "11157      no  \n",
      "11158      no  \n",
      "11159      no  \n",
      "11160      no  \n",
      "11161      no  \n",
      "\n",
      "[11162 rows x 17 columns]\n"
     ]
    }
   ],
   "source": [
    "data.replace(cleanup_nums,inplace=True)\n",
    "print(data)"
   ]
  },
  {
   "cell_type": "code",
   "execution_count": 26,
   "metadata": {},
   "outputs": [],
   "source": [
    "cleanup_nums={\"deposit\":{\"yes\":1,\"no\":0}}"
   ]
  },
  {
   "cell_type": "code",
   "execution_count": 27,
   "metadata": {},
   "outputs": [
    {
     "name": "stdout",
     "output_type": "stream",
     "text": [
      "       age          job  marital  education default  balance housing  loan  \\\n",
      "0       59       admin.  married  secondary      no     2343     yes     0   \n",
      "1       56       admin.  married  secondary      no       45      no     0   \n",
      "2       41   technician  married  secondary      no     1270     yes     0   \n",
      "3       55     services  married  secondary      no     2476     yes     0   \n",
      "4       54       admin.  married   tertiary      no      184      no     0   \n",
      "...    ...          ...      ...        ...     ...      ...     ...   ...   \n",
      "11157   33  blue-collar   single    primary      no        1     yes     0   \n",
      "11158   39     services  married  secondary      no      733      no     0   \n",
      "11159   32   technician   single  secondary      no       29      no     0   \n",
      "11160   43   technician  married  secondary      no        0      no     1   \n",
      "11161   34   technician  married  secondary      no        0      no     0   \n",
      "\n",
      "        contact  day month  duration  campaign  pdays  previous poutcome  \\\n",
      "0       unknown    5   may      1042         1     -1         0  unknown   \n",
      "1       unknown    5   may      1467         1     -1         0  unknown   \n",
      "2       unknown    5   may      1389         1     -1         0  unknown   \n",
      "3       unknown    5   may       579         1     -1         0  unknown   \n",
      "4       unknown    5   may       673         2     -1         0  unknown   \n",
      "...         ...  ...   ...       ...       ...    ...       ...      ...   \n",
      "11157  cellular   20   apr       257         1     -1         0  unknown   \n",
      "11158   unknown   16   jun        83         4     -1         0  unknown   \n",
      "11159  cellular   19   aug       156         2     -1         0  unknown   \n",
      "11160  cellular    8   may         9         2    172         5  failure   \n",
      "11161  cellular    9   jul       628         1     -1         0  unknown   \n",
      "\n",
      "       deposit  \n",
      "0            1  \n",
      "1            1  \n",
      "2            1  \n",
      "3            1  \n",
      "4            1  \n",
      "...        ...  \n",
      "11157        0  \n",
      "11158        0  \n",
      "11159        0  \n",
      "11160        0  \n",
      "11161        0  \n",
      "\n",
      "[11162 rows x 17 columns]\n"
     ]
    }
   ],
   "source": [
    "data.replace(cleanup_nums,inplace=True)\n",
    "print(data)"
   ]
  },
  {
   "cell_type": "code",
   "execution_count": 3,
   "metadata": {},
   "outputs": [
    {
     "name": "stdout",
     "output_type": "stream",
     "text": [
      "       age          job  marital  education default  balance housing loan  \\\n",
      "0       59       admin.  married  secondary      no     2343     yes   no   \n",
      "1       56       admin.  married  secondary      no       45      no   no   \n",
      "2       41   technician  married  secondary      no     1270     yes   no   \n",
      "3       55     services  married  secondary      no     2476     yes   no   \n",
      "4       54       admin.  married   tertiary      no      184      no   no   \n",
      "...    ...          ...      ...        ...     ...      ...     ...  ...   \n",
      "11157   33  blue-collar   single    primary      no        1     yes   no   \n",
      "11158   39     services  married  secondary      no      733      no   no   \n",
      "11159   32   technician   single  secondary      no       29      no   no   \n",
      "11160   43   technician  married  secondary      no        0      no  yes   \n",
      "11161   34   technician  married  secondary      no        0      no   no   \n",
      "\n",
      "        contact  day month  duration  campaign  pdays  previous poutcome  \\\n",
      "0       unknown    5   may      1042         1     -1         0  unknown   \n",
      "1       unknown    5   may      1467         1     -1         0  unknown   \n",
      "2       unknown    5   may      1389         1     -1         0  unknown   \n",
      "3       unknown    5   may       579         1     -1         0  unknown   \n",
      "4       unknown    5   may       673         2     -1         0  unknown   \n",
      "...         ...  ...   ...       ...       ...    ...       ...      ...   \n",
      "11157  cellular   20   apr       257         1     -1         0  unknown   \n",
      "11158   unknown   16   jun        83         4     -1         0  unknown   \n",
      "11159  cellular   19   aug       156         2     -1         0  unknown   \n",
      "11160  cellular    8   may         9         2    172         5  failure   \n",
      "11161  cellular    9   jul       628         1     -1         0  unknown   \n",
      "\n",
      "      deposit  \n",
      "0         yes  \n",
      "1         yes  \n",
      "2         yes  \n",
      "3         yes  \n",
      "4         yes  \n",
      "...       ...  \n",
      "11157      no  \n",
      "11158      no  \n",
      "11159      no  \n",
      "11160      no  \n",
      "11161      no  \n",
      "\n",
      "[11162 rows x 17 columns]\n"
     ]
    }
   ],
   "source": [
    "import pandas as pd\n",
    "import matplotlib.pylab as plt\n",
    "data=pd.read_csv(\"bank.csv\")\n",
    "print(data)"
   ]
  },
  {
   "cell_type": "code",
   "execution_count": 38,
   "metadata": {},
   "outputs": [
    {
     "data": {
      "text/html": [
       "<div>\n",
       "<style scoped>\n",
       "    .dataframe tbody tr th:only-of-type {\n",
       "        vertical-align: middle;\n",
       "    }\n",
       "\n",
       "    .dataframe tbody tr th {\n",
       "        vertical-align: top;\n",
       "    }\n",
       "\n",
       "    .dataframe thead th {\n",
       "        text-align: right;\n",
       "    }\n",
       "</style>\n",
       "<table border=\"1\" class=\"dataframe\">\n",
       "  <thead>\n",
       "    <tr style=\"text-align: right;\">\n",
       "      <th></th>\n",
       "      <th>age</th>\n",
       "      <th>job</th>\n",
       "      <th>marital</th>\n",
       "      <th>education</th>\n",
       "      <th>default</th>\n",
       "      <th>balance</th>\n",
       "      <th>housing</th>\n",
       "      <th>loan</th>\n",
       "      <th>contact</th>\n",
       "      <th>day</th>\n",
       "      <th>month</th>\n",
       "      <th>duration</th>\n",
       "      <th>campaign</th>\n",
       "      <th>pdays</th>\n",
       "      <th>previous</th>\n",
       "      <th>poutcome</th>\n",
       "      <th>deposit</th>\n",
       "    </tr>\n",
       "  </thead>\n",
       "  <tbody>\n",
       "    <tr>\n",
       "      <td>890</td>\n",
       "      <td>False</td>\n",
       "      <td>False</td>\n",
       "      <td>False</td>\n",
       "      <td>False</td>\n",
       "      <td>False</td>\n",
       "      <td>False</td>\n",
       "      <td>False</td>\n",
       "      <td>False</td>\n",
       "      <td>False</td>\n",
       "      <td>False</td>\n",
       "      <td>False</td>\n",
       "      <td>False</td>\n",
       "      <td>False</td>\n",
       "      <td>False</td>\n",
       "      <td>False</td>\n",
       "      <td>False</td>\n",
       "      <td>False</td>\n",
       "    </tr>\n",
       "    <tr>\n",
       "      <td>1025</td>\n",
       "      <td>False</td>\n",
       "      <td>False</td>\n",
       "      <td>False</td>\n",
       "      <td>False</td>\n",
       "      <td>False</td>\n",
       "      <td>False</td>\n",
       "      <td>False</td>\n",
       "      <td>False</td>\n",
       "      <td>False</td>\n",
       "      <td>False</td>\n",
       "      <td>False</td>\n",
       "      <td>False</td>\n",
       "      <td>False</td>\n",
       "      <td>False</td>\n",
       "      <td>False</td>\n",
       "      <td>False</td>\n",
       "      <td>False</td>\n",
       "    </tr>\n",
       "    <tr>\n",
       "      <td>1133</td>\n",
       "      <td>False</td>\n",
       "      <td>False</td>\n",
       "      <td>False</td>\n",
       "      <td>False</td>\n",
       "      <td>False</td>\n",
       "      <td>False</td>\n",
       "      <td>False</td>\n",
       "      <td>False</td>\n",
       "      <td>False</td>\n",
       "      <td>False</td>\n",
       "      <td>False</td>\n",
       "      <td>False</td>\n",
       "      <td>False</td>\n",
       "      <td>False</td>\n",
       "      <td>False</td>\n",
       "      <td>False</td>\n",
       "      <td>False</td>\n",
       "    </tr>\n",
       "    <tr>\n",
       "      <td>1248</td>\n",
       "      <td>False</td>\n",
       "      <td>False</td>\n",
       "      <td>False</td>\n",
       "      <td>False</td>\n",
       "      <td>False</td>\n",
       "      <td>False</td>\n",
       "      <td>False</td>\n",
       "      <td>False</td>\n",
       "      <td>False</td>\n",
       "      <td>False</td>\n",
       "      <td>False</td>\n",
       "      <td>False</td>\n",
       "      <td>False</td>\n",
       "      <td>False</td>\n",
       "      <td>False</td>\n",
       "      <td>False</td>\n",
       "      <td>False</td>\n",
       "    </tr>\n",
       "    <tr>\n",
       "      <td>1687</td>\n",
       "      <td>False</td>\n",
       "      <td>False</td>\n",
       "      <td>False</td>\n",
       "      <td>False</td>\n",
       "      <td>False</td>\n",
       "      <td>False</td>\n",
       "      <td>False</td>\n",
       "      <td>False</td>\n",
       "      <td>False</td>\n",
       "      <td>False</td>\n",
       "      <td>False</td>\n",
       "      <td>False</td>\n",
       "      <td>False</td>\n",
       "      <td>False</td>\n",
       "      <td>False</td>\n",
       "      <td>False</td>\n",
       "      <td>False</td>\n",
       "    </tr>\n",
       "  </tbody>\n",
       "</table>\n",
       "</div>"
      ],
      "text/plain": [
       "        age    job  marital  education  default  balance  housing   loan  \\\n",
       "890   False  False    False      False    False    False    False  False   \n",
       "1025  False  False    False      False    False    False    False  False   \n",
       "1133  False  False    False      False    False    False    False  False   \n",
       "1248  False  False    False      False    False    False    False  False   \n",
       "1687  False  False    False      False    False    False    False  False   \n",
       "\n",
       "      contact    day  month  duration  campaign  pdays  previous  poutcome  \\\n",
       "890     False  False  False     False     False  False     False     False   \n",
       "1025    False  False  False     False     False  False     False     False   \n",
       "1133    False  False  False     False     False  False     False     False   \n",
       "1248    False  False  False     False     False  False     False     False   \n",
       "1687    False  False  False     False     False  False     False     False   \n",
       "\n",
       "      deposit  \n",
       "890     False  \n",
       "1025    False  \n",
       "1133    False  \n",
       "1248    False  \n",
       "1687    False  "
      ]
     },
     "execution_count": 38,
     "metadata": {},
     "output_type": "execute_result"
    }
   ],
   "source": [
    "missing_data=data.isnull()\n",
    "missing_data.head(5)"
   ]
  },
  {
   "cell_type": "code",
   "execution_count": null,
   "metadata": {},
   "outputs": [],
   "source": []
  },
  {
   "cell_type": "code",
   "execution_count": 4,
   "metadata": {},
   "outputs": [],
   "source": [
    "cleanup_nums={\"loan\":{\"yes\":1,\"no\":0}}"
   ]
  },
  {
   "cell_type": "code",
   "execution_count": 5,
   "metadata": {},
   "outputs": [
    {
     "name": "stdout",
     "output_type": "stream",
     "text": [
      "       age          job  marital  education default  balance housing  loan  \\\n",
      "0       59       admin.  married  secondary      no     2343     yes     0   \n",
      "1       56       admin.  married  secondary      no       45      no     0   \n",
      "2       41   technician  married  secondary      no     1270     yes     0   \n",
      "3       55     services  married  secondary      no     2476     yes     0   \n",
      "4       54       admin.  married   tertiary      no      184      no     0   \n",
      "...    ...          ...      ...        ...     ...      ...     ...   ...   \n",
      "11157   33  blue-collar   single    primary      no        1     yes     0   \n",
      "11158   39     services  married  secondary      no      733      no     0   \n",
      "11159   32   technician   single  secondary      no       29      no     0   \n",
      "11160   43   technician  married  secondary      no        0      no     1   \n",
      "11161   34   technician  married  secondary      no        0      no     0   \n",
      "\n",
      "        contact  day month  duration  campaign  pdays  previous poutcome  \\\n",
      "0       unknown    5   may      1042         1     -1         0  unknown   \n",
      "1       unknown    5   may      1467         1     -1         0  unknown   \n",
      "2       unknown    5   may      1389         1     -1         0  unknown   \n",
      "3       unknown    5   may       579         1     -1         0  unknown   \n",
      "4       unknown    5   may       673         2     -1         0  unknown   \n",
      "...         ...  ...   ...       ...       ...    ...       ...      ...   \n",
      "11157  cellular   20   apr       257         1     -1         0  unknown   \n",
      "11158   unknown   16   jun        83         4     -1         0  unknown   \n",
      "11159  cellular   19   aug       156         2     -1         0  unknown   \n",
      "11160  cellular    8   may         9         2    172         5  failure   \n",
      "11161  cellular    9   jul       628         1     -1         0  unknown   \n",
      "\n",
      "      deposit  \n",
      "0         yes  \n",
      "1         yes  \n",
      "2         yes  \n",
      "3         yes  \n",
      "4         yes  \n",
      "...       ...  \n",
      "11157      no  \n",
      "11158      no  \n",
      "11159      no  \n",
      "11160      no  \n",
      "11161      no  \n",
      "\n",
      "[11162 rows x 17 columns]\n"
     ]
    }
   ],
   "source": [
    "data.replace(cleanup_nums,inplace=True)\n",
    "print(data)"
   ]
  },
  {
   "cell_type": "code",
   "execution_count": 6,
   "metadata": {},
   "outputs": [],
   "source": [
    "cleanup_nums={\"marital\":{\"married\":0,\"single\":1,\"divorced\":2}}"
   ]
  },
  {
   "cell_type": "code",
   "execution_count": 7,
   "metadata": {},
   "outputs": [
    {
     "data": {
      "text/html": [
       "<div>\n",
       "<style scoped>\n",
       "    .dataframe tbody tr th:only-of-type {\n",
       "        vertical-align: middle;\n",
       "    }\n",
       "\n",
       "    .dataframe tbody tr th {\n",
       "        vertical-align: top;\n",
       "    }\n",
       "\n",
       "    .dataframe thead th {\n",
       "        text-align: right;\n",
       "    }\n",
       "</style>\n",
       "<table border=\"1\" class=\"dataframe\">\n",
       "  <thead>\n",
       "    <tr style=\"text-align: right;\">\n",
       "      <th></th>\n",
       "      <th>age</th>\n",
       "      <th>job</th>\n",
       "      <th>marital</th>\n",
       "      <th>education</th>\n",
       "      <th>default</th>\n",
       "      <th>balance</th>\n",
       "      <th>housing</th>\n",
       "      <th>loan</th>\n",
       "      <th>contact</th>\n",
       "      <th>day</th>\n",
       "      <th>month</th>\n",
       "      <th>duration</th>\n",
       "      <th>campaign</th>\n",
       "      <th>pdays</th>\n",
       "      <th>previous</th>\n",
       "      <th>poutcome</th>\n",
       "      <th>deposit</th>\n",
       "    </tr>\n",
       "  </thead>\n",
       "  <tbody>\n",
       "    <tr>\n",
       "      <td>0</td>\n",
       "      <td>59</td>\n",
       "      <td>admin.</td>\n",
       "      <td>0</td>\n",
       "      <td>secondary</td>\n",
       "      <td>no</td>\n",
       "      <td>2343</td>\n",
       "      <td>yes</td>\n",
       "      <td>0</td>\n",
       "      <td>unknown</td>\n",
       "      <td>5</td>\n",
       "      <td>may</td>\n",
       "      <td>1042</td>\n",
       "      <td>1</td>\n",
       "      <td>-1</td>\n",
       "      <td>0</td>\n",
       "      <td>unknown</td>\n",
       "      <td>yes</td>\n",
       "    </tr>\n",
       "    <tr>\n",
       "      <td>1</td>\n",
       "      <td>56</td>\n",
       "      <td>admin.</td>\n",
       "      <td>0</td>\n",
       "      <td>secondary</td>\n",
       "      <td>no</td>\n",
       "      <td>45</td>\n",
       "      <td>no</td>\n",
       "      <td>0</td>\n",
       "      <td>unknown</td>\n",
       "      <td>5</td>\n",
       "      <td>may</td>\n",
       "      <td>1467</td>\n",
       "      <td>1</td>\n",
       "      <td>-1</td>\n",
       "      <td>0</td>\n",
       "      <td>unknown</td>\n",
       "      <td>yes</td>\n",
       "    </tr>\n",
       "    <tr>\n",
       "      <td>2</td>\n",
       "      <td>41</td>\n",
       "      <td>technician</td>\n",
       "      <td>0</td>\n",
       "      <td>secondary</td>\n",
       "      <td>no</td>\n",
       "      <td>1270</td>\n",
       "      <td>yes</td>\n",
       "      <td>0</td>\n",
       "      <td>unknown</td>\n",
       "      <td>5</td>\n",
       "      <td>may</td>\n",
       "      <td>1389</td>\n",
       "      <td>1</td>\n",
       "      <td>-1</td>\n",
       "      <td>0</td>\n",
       "      <td>unknown</td>\n",
       "      <td>yes</td>\n",
       "    </tr>\n",
       "    <tr>\n",
       "      <td>3</td>\n",
       "      <td>55</td>\n",
       "      <td>services</td>\n",
       "      <td>0</td>\n",
       "      <td>secondary</td>\n",
       "      <td>no</td>\n",
       "      <td>2476</td>\n",
       "      <td>yes</td>\n",
       "      <td>0</td>\n",
       "      <td>unknown</td>\n",
       "      <td>5</td>\n",
       "      <td>may</td>\n",
       "      <td>579</td>\n",
       "      <td>1</td>\n",
       "      <td>-1</td>\n",
       "      <td>0</td>\n",
       "      <td>unknown</td>\n",
       "      <td>yes</td>\n",
       "    </tr>\n",
       "    <tr>\n",
       "      <td>4</td>\n",
       "      <td>54</td>\n",
       "      <td>admin.</td>\n",
       "      <td>0</td>\n",
       "      <td>tertiary</td>\n",
       "      <td>no</td>\n",
       "      <td>184</td>\n",
       "      <td>no</td>\n",
       "      <td>0</td>\n",
       "      <td>unknown</td>\n",
       "      <td>5</td>\n",
       "      <td>may</td>\n",
       "      <td>673</td>\n",
       "      <td>2</td>\n",
       "      <td>-1</td>\n",
       "      <td>0</td>\n",
       "      <td>unknown</td>\n",
       "      <td>yes</td>\n",
       "    </tr>\n",
       "    <tr>\n",
       "      <td>...</td>\n",
       "      <td>...</td>\n",
       "      <td>...</td>\n",
       "      <td>...</td>\n",
       "      <td>...</td>\n",
       "      <td>...</td>\n",
       "      <td>...</td>\n",
       "      <td>...</td>\n",
       "      <td>...</td>\n",
       "      <td>...</td>\n",
       "      <td>...</td>\n",
       "      <td>...</td>\n",
       "      <td>...</td>\n",
       "      <td>...</td>\n",
       "      <td>...</td>\n",
       "      <td>...</td>\n",
       "      <td>...</td>\n",
       "      <td>...</td>\n",
       "    </tr>\n",
       "    <tr>\n",
       "      <td>11157</td>\n",
       "      <td>33</td>\n",
       "      <td>blue-collar</td>\n",
       "      <td>1</td>\n",
       "      <td>primary</td>\n",
       "      <td>no</td>\n",
       "      <td>1</td>\n",
       "      <td>yes</td>\n",
       "      <td>0</td>\n",
       "      <td>cellular</td>\n",
       "      <td>20</td>\n",
       "      <td>apr</td>\n",
       "      <td>257</td>\n",
       "      <td>1</td>\n",
       "      <td>-1</td>\n",
       "      <td>0</td>\n",
       "      <td>unknown</td>\n",
       "      <td>no</td>\n",
       "    </tr>\n",
       "    <tr>\n",
       "      <td>11158</td>\n",
       "      <td>39</td>\n",
       "      <td>services</td>\n",
       "      <td>0</td>\n",
       "      <td>secondary</td>\n",
       "      <td>no</td>\n",
       "      <td>733</td>\n",
       "      <td>no</td>\n",
       "      <td>0</td>\n",
       "      <td>unknown</td>\n",
       "      <td>16</td>\n",
       "      <td>jun</td>\n",
       "      <td>83</td>\n",
       "      <td>4</td>\n",
       "      <td>-1</td>\n",
       "      <td>0</td>\n",
       "      <td>unknown</td>\n",
       "      <td>no</td>\n",
       "    </tr>\n",
       "    <tr>\n",
       "      <td>11159</td>\n",
       "      <td>32</td>\n",
       "      <td>technician</td>\n",
       "      <td>1</td>\n",
       "      <td>secondary</td>\n",
       "      <td>no</td>\n",
       "      <td>29</td>\n",
       "      <td>no</td>\n",
       "      <td>0</td>\n",
       "      <td>cellular</td>\n",
       "      <td>19</td>\n",
       "      <td>aug</td>\n",
       "      <td>156</td>\n",
       "      <td>2</td>\n",
       "      <td>-1</td>\n",
       "      <td>0</td>\n",
       "      <td>unknown</td>\n",
       "      <td>no</td>\n",
       "    </tr>\n",
       "    <tr>\n",
       "      <td>11160</td>\n",
       "      <td>43</td>\n",
       "      <td>technician</td>\n",
       "      <td>0</td>\n",
       "      <td>secondary</td>\n",
       "      <td>no</td>\n",
       "      <td>0</td>\n",
       "      <td>no</td>\n",
       "      <td>1</td>\n",
       "      <td>cellular</td>\n",
       "      <td>8</td>\n",
       "      <td>may</td>\n",
       "      <td>9</td>\n",
       "      <td>2</td>\n",
       "      <td>172</td>\n",
       "      <td>5</td>\n",
       "      <td>failure</td>\n",
       "      <td>no</td>\n",
       "    </tr>\n",
       "    <tr>\n",
       "      <td>11161</td>\n",
       "      <td>34</td>\n",
       "      <td>technician</td>\n",
       "      <td>0</td>\n",
       "      <td>secondary</td>\n",
       "      <td>no</td>\n",
       "      <td>0</td>\n",
       "      <td>no</td>\n",
       "      <td>0</td>\n",
       "      <td>cellular</td>\n",
       "      <td>9</td>\n",
       "      <td>jul</td>\n",
       "      <td>628</td>\n",
       "      <td>1</td>\n",
       "      <td>-1</td>\n",
       "      <td>0</td>\n",
       "      <td>unknown</td>\n",
       "      <td>no</td>\n",
       "    </tr>\n",
       "  </tbody>\n",
       "</table>\n",
       "<p>11162 rows × 17 columns</p>\n",
       "</div>"
      ],
      "text/plain": [
       "       age          job  marital  education default  balance housing  loan  \\\n",
       "0       59       admin.        0  secondary      no     2343     yes     0   \n",
       "1       56       admin.        0  secondary      no       45      no     0   \n",
       "2       41   technician        0  secondary      no     1270     yes     0   \n",
       "3       55     services        0  secondary      no     2476     yes     0   \n",
       "4       54       admin.        0   tertiary      no      184      no     0   \n",
       "...    ...          ...      ...        ...     ...      ...     ...   ...   \n",
       "11157   33  blue-collar        1    primary      no        1     yes     0   \n",
       "11158   39     services        0  secondary      no      733      no     0   \n",
       "11159   32   technician        1  secondary      no       29      no     0   \n",
       "11160   43   technician        0  secondary      no        0      no     1   \n",
       "11161   34   technician        0  secondary      no        0      no     0   \n",
       "\n",
       "        contact  day month  duration  campaign  pdays  previous poutcome  \\\n",
       "0       unknown    5   may      1042         1     -1         0  unknown   \n",
       "1       unknown    5   may      1467         1     -1         0  unknown   \n",
       "2       unknown    5   may      1389         1     -1         0  unknown   \n",
       "3       unknown    5   may       579         1     -1         0  unknown   \n",
       "4       unknown    5   may       673         2     -1         0  unknown   \n",
       "...         ...  ...   ...       ...       ...    ...       ...      ...   \n",
       "11157  cellular   20   apr       257         1     -1         0  unknown   \n",
       "11158   unknown   16   jun        83         4     -1         0  unknown   \n",
       "11159  cellular   19   aug       156         2     -1         0  unknown   \n",
       "11160  cellular    8   may         9         2    172         5  failure   \n",
       "11161  cellular    9   jul       628         1     -1         0  unknown   \n",
       "\n",
       "      deposit  \n",
       "0         yes  \n",
       "1         yes  \n",
       "2         yes  \n",
       "3         yes  \n",
       "4         yes  \n",
       "...       ...  \n",
       "11157      no  \n",
       "11158      no  \n",
       "11159      no  \n",
       "11160      no  \n",
       "11161      no  \n",
       "\n",
       "[11162 rows x 17 columns]"
      ]
     },
     "execution_count": 7,
     "metadata": {},
     "output_type": "execute_result"
    }
   ],
   "source": [
    "data.replace(cleanup_nums,inplace=True)\n",
    "data"
   ]
  },
  {
   "cell_type": "code",
   "execution_count": 35,
   "metadata": {},
   "outputs": [
    {
     "data": {
      "text/html": [
       "<div>\n",
       "<style scoped>\n",
       "    .dataframe tbody tr th:only-of-type {\n",
       "        vertical-align: middle;\n",
       "    }\n",
       "\n",
       "    .dataframe tbody tr th {\n",
       "        vertical-align: top;\n",
       "    }\n",
       "\n",
       "    .dataframe thead th {\n",
       "        text-align: right;\n",
       "    }\n",
       "</style>\n",
       "<table border=\"1\" class=\"dataframe\">\n",
       "  <thead>\n",
       "    <tr style=\"text-align: right;\">\n",
       "      <th></th>\n",
       "      <th>age</th>\n",
       "      <th>job</th>\n",
       "      <th>marital</th>\n",
       "      <th>education</th>\n",
       "      <th>default</th>\n",
       "      <th>balance</th>\n",
       "      <th>housing</th>\n",
       "      <th>loan</th>\n",
       "      <th>contact</th>\n",
       "      <th>day</th>\n",
       "      <th>month</th>\n",
       "      <th>duration</th>\n",
       "      <th>campaign</th>\n",
       "      <th>pdays</th>\n",
       "      <th>previous</th>\n",
       "      <th>poutcome</th>\n",
       "      <th>deposit</th>\n",
       "    </tr>\n",
       "  </thead>\n",
       "  <tbody>\n",
       "    <tr>\n",
       "      <td>890</td>\n",
       "      <td>42</td>\n",
       "      <td>admin.</td>\n",
       "      <td>1</td>\n",
       "      <td>secondary</td>\n",
       "      <td>no</td>\n",
       "      <td>-247</td>\n",
       "      <td>yes</td>\n",
       "      <td>1</td>\n",
       "      <td>telephone</td>\n",
       "      <td>21</td>\n",
       "      <td>oct</td>\n",
       "      <td>519</td>\n",
       "      <td>1</td>\n",
       "      <td>166</td>\n",
       "      <td>1</td>\n",
       "      <td>other</td>\n",
       "      <td>yes</td>\n",
       "    </tr>\n",
       "    <tr>\n",
       "      <td>1025</td>\n",
       "      <td>37</td>\n",
       "      <td>technician</td>\n",
       "      <td>2</td>\n",
       "      <td>secondary</td>\n",
       "      <td>no</td>\n",
       "      <td>3068</td>\n",
       "      <td>yes</td>\n",
       "      <td>1</td>\n",
       "      <td>cellular</td>\n",
       "      <td>20</td>\n",
       "      <td>nov</td>\n",
       "      <td>370</td>\n",
       "      <td>2</td>\n",
       "      <td>195</td>\n",
       "      <td>1</td>\n",
       "      <td>other</td>\n",
       "      <td>yes</td>\n",
       "    </tr>\n",
       "    <tr>\n",
       "      <td>1133</td>\n",
       "      <td>43</td>\n",
       "      <td>admin.</td>\n",
       "      <td>1</td>\n",
       "      <td>secondary</td>\n",
       "      <td>no</td>\n",
       "      <td>-247</td>\n",
       "      <td>yes</td>\n",
       "      <td>1</td>\n",
       "      <td>cellular</td>\n",
       "      <td>2</td>\n",
       "      <td>feb</td>\n",
       "      <td>751</td>\n",
       "      <td>2</td>\n",
       "      <td>76</td>\n",
       "      <td>4</td>\n",
       "      <td>failure</td>\n",
       "      <td>yes</td>\n",
       "    </tr>\n",
       "    <tr>\n",
       "      <td>1248</td>\n",
       "      <td>44</td>\n",
       "      <td>admin.</td>\n",
       "      <td>2</td>\n",
       "      <td>secondary</td>\n",
       "      <td>no</td>\n",
       "      <td>397</td>\n",
       "      <td>yes</td>\n",
       "      <td>1</td>\n",
       "      <td>cellular</td>\n",
       "      <td>16</td>\n",
       "      <td>feb</td>\n",
       "      <td>127</td>\n",
       "      <td>1</td>\n",
       "      <td>257</td>\n",
       "      <td>1</td>\n",
       "      <td>other</td>\n",
       "      <td>yes</td>\n",
       "    </tr>\n",
       "    <tr>\n",
       "      <td>1687</td>\n",
       "      <td>33</td>\n",
       "      <td>blue-collar</td>\n",
       "      <td>1</td>\n",
       "      <td>unknown</td>\n",
       "      <td>no</td>\n",
       "      <td>129</td>\n",
       "      <td>yes</td>\n",
       "      <td>1</td>\n",
       "      <td>cellular</td>\n",
       "      <td>30</td>\n",
       "      <td>apr</td>\n",
       "      <td>482</td>\n",
       "      <td>1</td>\n",
       "      <td>161</td>\n",
       "      <td>1</td>\n",
       "      <td>failure</td>\n",
       "      <td>yes</td>\n",
       "    </tr>\n",
       "    <tr>\n",
       "      <td>...</td>\n",
       "      <td>...</td>\n",
       "      <td>...</td>\n",
       "      <td>...</td>\n",
       "      <td>...</td>\n",
       "      <td>...</td>\n",
       "      <td>...</td>\n",
       "      <td>...</td>\n",
       "      <td>...</td>\n",
       "      <td>...</td>\n",
       "      <td>...</td>\n",
       "      <td>...</td>\n",
       "      <td>...</td>\n",
       "      <td>...</td>\n",
       "      <td>...</td>\n",
       "      <td>...</td>\n",
       "      <td>...</td>\n",
       "      <td>...</td>\n",
       "    </tr>\n",
       "    <tr>\n",
       "      <td>10485</td>\n",
       "      <td>35</td>\n",
       "      <td>technician</td>\n",
       "      <td>1</td>\n",
       "      <td>tertiary</td>\n",
       "      <td>no</td>\n",
       "      <td>144</td>\n",
       "      <td>yes</td>\n",
       "      <td>1</td>\n",
       "      <td>cellular</td>\n",
       "      <td>4</td>\n",
       "      <td>feb</td>\n",
       "      <td>202</td>\n",
       "      <td>4</td>\n",
       "      <td>113</td>\n",
       "      <td>20</td>\n",
       "      <td>failure</td>\n",
       "      <td>no</td>\n",
       "    </tr>\n",
       "    <tr>\n",
       "      <td>10491</td>\n",
       "      <td>46</td>\n",
       "      <td>admin.</td>\n",
       "      <td>2</td>\n",
       "      <td>secondary</td>\n",
       "      <td>no</td>\n",
       "      <td>1198</td>\n",
       "      <td>yes</td>\n",
       "      <td>1</td>\n",
       "      <td>cellular</td>\n",
       "      <td>7</td>\n",
       "      <td>apr</td>\n",
       "      <td>837</td>\n",
       "      <td>1</td>\n",
       "      <td>307</td>\n",
       "      <td>1</td>\n",
       "      <td>other</td>\n",
       "      <td>no</td>\n",
       "    </tr>\n",
       "    <tr>\n",
       "      <td>10573</td>\n",
       "      <td>44</td>\n",
       "      <td>admin.</td>\n",
       "      <td>1</td>\n",
       "      <td>secondary</td>\n",
       "      <td>no</td>\n",
       "      <td>985</td>\n",
       "      <td>yes</td>\n",
       "      <td>1</td>\n",
       "      <td>cellular</td>\n",
       "      <td>11</td>\n",
       "      <td>may</td>\n",
       "      <td>9</td>\n",
       "      <td>7</td>\n",
       "      <td>325</td>\n",
       "      <td>19</td>\n",
       "      <td>failure</td>\n",
       "      <td>no</td>\n",
       "    </tr>\n",
       "    <tr>\n",
       "      <td>10613</td>\n",
       "      <td>31</td>\n",
       "      <td>admin.</td>\n",
       "      <td>1</td>\n",
       "      <td>tertiary</td>\n",
       "      <td>no</td>\n",
       "      <td>383</td>\n",
       "      <td>no</td>\n",
       "      <td>1</td>\n",
       "      <td>cellular</td>\n",
       "      <td>6</td>\n",
       "      <td>feb</td>\n",
       "      <td>119</td>\n",
       "      <td>1</td>\n",
       "      <td>214</td>\n",
       "      <td>1</td>\n",
       "      <td>failure</td>\n",
       "      <td>no</td>\n",
       "    </tr>\n",
       "    <tr>\n",
       "      <td>10668</td>\n",
       "      <td>34</td>\n",
       "      <td>technician</td>\n",
       "      <td>1</td>\n",
       "      <td>secondary</td>\n",
       "      <td>no</td>\n",
       "      <td>664</td>\n",
       "      <td>yes</td>\n",
       "      <td>1</td>\n",
       "      <td>cellular</td>\n",
       "      <td>11</td>\n",
       "      <td>may</td>\n",
       "      <td>88</td>\n",
       "      <td>2</td>\n",
       "      <td>343</td>\n",
       "      <td>2</td>\n",
       "      <td>other</td>\n",
       "      <td>no</td>\n",
       "    </tr>\n",
       "  </tbody>\n",
       "</table>\n",
       "<p>85 rows × 17 columns</p>\n",
       "</div>"
      ],
      "text/plain": [
       "       age          job  marital  education default  balance housing  loan  \\\n",
       "890     42       admin.        1  secondary      no     -247     yes     1   \n",
       "1025    37   technician        2  secondary      no     3068     yes     1   \n",
       "1133    43       admin.        1  secondary      no     -247     yes     1   \n",
       "1248    44       admin.        2  secondary      no      397     yes     1   \n",
       "1687    33  blue-collar        1    unknown      no      129     yes     1   \n",
       "...    ...          ...      ...        ...     ...      ...     ...   ...   \n",
       "10485   35   technician        1   tertiary      no      144     yes     1   \n",
       "10491   46       admin.        2  secondary      no     1198     yes     1   \n",
       "10573   44       admin.        1  secondary      no      985     yes     1   \n",
       "10613   31       admin.        1   tertiary      no      383      no     1   \n",
       "10668   34   technician        1  secondary      no      664     yes     1   \n",
       "\n",
       "         contact  day month  duration  campaign  pdays  previous poutcome  \\\n",
       "890    telephone   21   oct       519         1    166         1    other   \n",
       "1025    cellular   20   nov       370         2    195         1    other   \n",
       "1133    cellular    2   feb       751         2     76         4  failure   \n",
       "1248    cellular   16   feb       127         1    257         1    other   \n",
       "1687    cellular   30   apr       482         1    161         1  failure   \n",
       "...          ...  ...   ...       ...       ...    ...       ...      ...   \n",
       "10485   cellular    4   feb       202         4    113        20  failure   \n",
       "10491   cellular    7   apr       837         1    307         1    other   \n",
       "10573   cellular   11   may         9         7    325        19  failure   \n",
       "10613   cellular    6   feb       119         1    214         1  failure   \n",
       "10668   cellular   11   may        88         2    343         2    other   \n",
       "\n",
       "      deposit  \n",
       "890       yes  \n",
       "1025      yes  \n",
       "1133      yes  \n",
       "1248      yes  \n",
       "1687      yes  \n",
       "...       ...  \n",
       "10485      no  \n",
       "10491      no  \n",
       "10573      no  \n",
       "10613      no  \n",
       "10668      no  \n",
       "\n",
       "[85 rows x 17 columns]"
      ]
     },
     "execution_count": 35,
     "metadata": {},
     "output_type": "execute_result"
    }
   ],
   "source": [
    "data.drop((data[data['marital']==0].index|data[data['loan']==0].index|data[data['previous']==0].index),inplace=True)\n",
    "data"
   ]
  },
  {
   "cell_type": "code",
   "execution_count": 36,
   "metadata": {},
   "outputs": [
    {
     "data": {
      "text/plain": [
       "<matplotlib.axes._subplots.AxesSubplot at 0x27355699f48>"
      ]
     },
     "execution_count": 36,
     "metadata": {},
     "output_type": "execute_result"
    },
    {
     "data": {
      "image/png": "[encoded data removed]",
      "text/plain": [
       "<Figure size 432x288 with 1 Axes>"
      ]
     },
     "metadata": {
      "needs_background": "light"
     },
     "output_type": "display_data"
    }
   ],
   "source": [
    "press=data['balance'].median()\n",
    "def pressure(val):\n",
    "    if val==0:\n",
    "        return val + press\n",
    "    else:\n",
    "        return val\n",
    "data['balance']=data.apply(lambda row:pressure(row['balance']),axis=1)\n",
    "data['balance'].hist()"
   ]
  },
  {
   "cell_type": "code",
   "execution_count": 15,
   "metadata": {},
   "outputs": [
    {
     "name": "stdout",
     "output_type": "stream",
     "text": [
      "       age          job  marital  education default  balance housing loan  \\\n",
      "0       59       admin.  married  secondary      no     2343     yes   no   \n",
      "1       56       admin.  married  secondary      no       45      no   no   \n",
      "2       41   technician  married  secondary      no     1270     yes   no   \n",
      "3       55     services  married  secondary      no     2476     yes   no   \n",
      "4       54       admin.  married   tertiary      no      184      no   no   \n",
      "...    ...          ...      ...        ...     ...      ...     ...  ...   \n",
      "11157   33  blue-collar   single    primary      no        1     yes   no   \n",
      "11158   39     services  married  secondary      no      733      no   no   \n",
      "11159   32   technician   single  secondary      no       29      no   no   \n",
      "11160   43   technician  married  secondary      no        0      no  yes   \n",
      "11161   34   technician  married  secondary      no        0      no   no   \n",
      "\n",
      "        contact  day month  duration  campaign  pdays  previous poutcome  \\\n",
      "0       unknown    5   may      1042         1     -1         0  unknown   \n",
      "1       unknown    5   may      1467         1     -1         0  unknown   \n",
      "2       unknown    5   may      1389         1     -1         0  unknown   \n",
      "3       unknown    5   may       579         1     -1         0  unknown   \n",
      "4       unknown    5   may       673         2     -1         0  unknown   \n",
      "...         ...  ...   ...       ...       ...    ...       ...      ...   \n",
      "11157  cellular   20   apr       257         1     -1         0  unknown   \n",
      "11158   unknown   16   jun        83         4     -1         0  unknown   \n",
      "11159  cellular   19   aug       156         2     -1         0  unknown   \n",
      "11160  cellular    8   may         9         2    172         5  failure   \n",
      "11161  cellular    9   jul       628         1     -1         0  unknown   \n",
      "\n",
      "      deposit  \n",
      "0         yes  \n",
      "1         yes  \n",
      "2         yes  \n",
      "3         yes  \n",
      "4         yes  \n",
      "...       ...  \n",
      "11157      no  \n",
      "11158      no  \n",
      "11159      no  \n",
      "11160      no  \n",
      "11161      no  \n",
      "\n",
      "[11162 rows x 17 columns]\n"
     ]
    }
   ],
   "source": [
    "#import numpy as np\n",
    "import pandas as pd\n",
    "#from sklearn.tree import DecisionTreeClassifier\n",
    "#from sklearn.model_selection import train_test_split\n",
    "#from sklearn import metrics\n",
    "#import matplotlib.pylab as plt\n",
    "data=pd.read_csv(\"bank.csv\")\n",
    "print(data)"
   ]
  },
  {
   "cell_type": "code",
   "execution_count": 16,
   "metadata": {},
   "outputs": [
    {
     "data": {
      "text/html": [
       "<div>\n",
       "<style scoped>\n",
       "    .dataframe tbody tr th:only-of-type {\n",
       "        vertical-align: middle;\n",
       "    }\n",
       "\n",
       "    .dataframe tbody tr th {\n",
       "        vertical-align: top;\n",
       "    }\n",
       "\n",
       "    .dataframe thead th {\n",
       "        text-align: right;\n",
       "    }\n",
       "</style>\n",
       "<table border=\"1\" class=\"dataframe\">\n",
       "  <thead>\n",
       "    <tr style=\"text-align: right;\">\n",
       "      <th></th>\n",
       "      <th>age</th>\n",
       "      <th>job</th>\n",
       "      <th>marital</th>\n",
       "      <th>education</th>\n",
       "      <th>default</th>\n",
       "      <th>balance</th>\n",
       "      <th>housing</th>\n",
       "      <th>loan</th>\n",
       "      <th>contact</th>\n",
       "      <th>day</th>\n",
       "      <th>month</th>\n",
       "      <th>duration</th>\n",
       "      <th>campaign</th>\n",
       "      <th>pdays</th>\n",
       "      <th>previous</th>\n",
       "      <th>poutcome</th>\n",
       "    </tr>\n",
       "  </thead>\n",
       "  <tbody>\n",
       "    <tr>\n",
       "      <td>0</td>\n",
       "      <td>59</td>\n",
       "      <td>admin.</td>\n",
       "      <td>married</td>\n",
       "      <td>secondary</td>\n",
       "      <td>no</td>\n",
       "      <td>2343</td>\n",
       "      <td>yes</td>\n",
       "      <td>no</td>\n",
       "      <td>unknown</td>\n",
       "      <td>5</td>\n",
       "      <td>may</td>\n",
       "      <td>1042</td>\n",
       "      <td>1</td>\n",
       "      <td>-1</td>\n",
       "      <td>0</td>\n",
       "      <td>unknown</td>\n",
       "    </tr>\n",
       "    <tr>\n",
       "      <td>1</td>\n",
       "      <td>56</td>\n",
       "      <td>admin.</td>\n",
       "      <td>married</td>\n",
       "      <td>secondary</td>\n",
       "      <td>no</td>\n",
       "      <td>45</td>\n",
       "      <td>no</td>\n",
       "      <td>no</td>\n",
       "      <td>unknown</td>\n",
       "      <td>5</td>\n",
       "      <td>may</td>\n",
       "      <td>1467</td>\n",
       "      <td>1</td>\n",
       "      <td>-1</td>\n",
       "      <td>0</td>\n",
       "      <td>unknown</td>\n",
       "    </tr>\n",
       "    <tr>\n",
       "      <td>2</td>\n",
       "      <td>41</td>\n",
       "      <td>technician</td>\n",
       "      <td>married</td>\n",
       "      <td>secondary</td>\n",
       "      <td>no</td>\n",
       "      <td>1270</td>\n",
       "      <td>yes</td>\n",
       "      <td>no</td>\n",
       "      <td>unknown</td>\n",
       "      <td>5</td>\n",
       "      <td>may</td>\n",
       "      <td>1389</td>\n",
       "      <td>1</td>\n",
       "      <td>-1</td>\n",
       "      <td>0</td>\n",
       "      <td>unknown</td>\n",
       "    </tr>\n",
       "    <tr>\n",
       "      <td>3</td>\n",
       "      <td>55</td>\n",
       "      <td>services</td>\n",
       "      <td>married</td>\n",
       "      <td>secondary</td>\n",
       "      <td>no</td>\n",
       "      <td>2476</td>\n",
       "      <td>yes</td>\n",
       "      <td>no</td>\n",
       "      <td>unknown</td>\n",
       "      <td>5</td>\n",
       "      <td>may</td>\n",
       "      <td>579</td>\n",
       "      <td>1</td>\n",
       "      <td>-1</td>\n",
       "      <td>0</td>\n",
       "      <td>unknown</td>\n",
       "    </tr>\n",
       "    <tr>\n",
       "      <td>4</td>\n",
       "      <td>54</td>\n",
       "      <td>admin.</td>\n",
       "      <td>married</td>\n",
       "      <td>tertiary</td>\n",
       "      <td>no</td>\n",
       "      <td>184</td>\n",
       "      <td>no</td>\n",
       "      <td>no</td>\n",
       "      <td>unknown</td>\n",
       "      <td>5</td>\n",
       "      <td>may</td>\n",
       "      <td>673</td>\n",
       "      <td>2</td>\n",
       "      <td>-1</td>\n",
       "      <td>0</td>\n",
       "      <td>unknown</td>\n",
       "    </tr>\n",
       "    <tr>\n",
       "      <td>...</td>\n",
       "      <td>...</td>\n",
       "      <td>...</td>\n",
       "      <td>...</td>\n",
       "      <td>...</td>\n",
       "      <td>...</td>\n",
       "      <td>...</td>\n",
       "      <td>...</td>\n",
       "      <td>...</td>\n",
       "      <td>...</td>\n",
       "      <td>...</td>\n",
       "      <td>...</td>\n",
       "      <td>...</td>\n",
       "      <td>...</td>\n",
       "      <td>...</td>\n",
       "      <td>...</td>\n",
       "      <td>...</td>\n",
       "    </tr>\n",
       "    <tr>\n",
       "      <td>11157</td>\n",
       "      <td>33</td>\n",
       "      <td>blue-collar</td>\n",
       "      <td>single</td>\n",
       "      <td>primary</td>\n",
       "      <td>no</td>\n",
       "      <td>1</td>\n",
       "      <td>yes</td>\n",
       "      <td>no</td>\n",
       "      <td>cellular</td>\n",
       "      <td>20</td>\n",
       "      <td>apr</td>\n",
       "      <td>257</td>\n",
       "      <td>1</td>\n",
       "      <td>-1</td>\n",
       "      <td>0</td>\n",
       "      <td>unknown</td>\n",
       "    </tr>\n",
       "    <tr>\n",
       "      <td>11158</td>\n",
       "      <td>39</td>\n",
       "      <td>services</td>\n",
       "      <td>married</td>\n",
       "      <td>secondary</td>\n",
       "      <td>no</td>\n",
       "      <td>733</td>\n",
       "      <td>no</td>\n",
       "      <td>no</td>\n",
       "      <td>unknown</td>\n",
       "      <td>16</td>\n",
       "      <td>jun</td>\n",
       "      <td>83</td>\n",
       "      <td>4</td>\n",
       "      <td>-1</td>\n",
       "      <td>0</td>\n",
       "      <td>unknown</td>\n",
       "    </tr>\n",
       "    <tr>\n",
       "      <td>11159</td>\n",
       "      <td>32</td>\n",
       "      <td>technician</td>\n",
       "      <td>single</td>\n",
       "      <td>secondary</td>\n",
       "      <td>no</td>\n",
       "      <td>29</td>\n",
       "      <td>no</td>\n",
       "      <td>no</td>\n",
       "      <td>cellular</td>\n",
       "      <td>19</td>\n",
       "      <td>aug</td>\n",
       "      <td>156</td>\n",
       "      <td>2</td>\n",
       "      <td>-1</td>\n",
       "      <td>0</td>\n",
       "      <td>unknown</td>\n",
       "    </tr>\n",
       "    <tr>\n",
       "      <td>11160</td>\n",
       "      <td>43</td>\n",
       "      <td>technician</td>\n",
       "      <td>married</td>\n",
       "      <td>secondary</td>\n",
       "      <td>no</td>\n",
       "      <td>0</td>\n",
       "      <td>no</td>\n",
       "      <td>yes</td>\n",
       "      <td>cellular</td>\n",
       "      <td>8</td>\n",
       "      <td>may</td>\n",
       "      <td>9</td>\n",
       "      <td>2</td>\n",
       "      <td>172</td>\n",
       "      <td>5</td>\n",
       "      <td>failure</td>\n",
       "    </tr>\n",
       "    <tr>\n",
       "      <td>11161</td>\n",
       "      <td>34</td>\n",
       "      <td>technician</td>\n",
       "      <td>married</td>\n",
       "      <td>secondary</td>\n",
       "      <td>no</td>\n",
       "      <td>0</td>\n",
       "      <td>no</td>\n",
       "      <td>no</td>\n",
       "      <td>cellular</td>\n",
       "      <td>9</td>\n",
       "      <td>jul</td>\n",
       "      <td>628</td>\n",
       "      <td>1</td>\n",
       "      <td>-1</td>\n",
       "      <td>0</td>\n",
       "      <td>unknown</td>\n",
       "    </tr>\n",
       "  </tbody>\n",
       "</table>\n",
       "<p>11162 rows × 16 columns</p>\n",
       "</div>"
      ],
      "text/plain": [
       "       age          job  marital  education default  balance housing loan  \\\n",
       "0       59       admin.  married  secondary      no     2343     yes   no   \n",
       "1       56       admin.  married  secondary      no       45      no   no   \n",
       "2       41   technician  married  secondary      no     1270     yes   no   \n",
       "3       55     services  married  secondary      no     2476     yes   no   \n",
       "4       54       admin.  married   tertiary      no      184      no   no   \n",
       "...    ...          ...      ...        ...     ...      ...     ...  ...   \n",
       "11157   33  blue-collar   single    primary      no        1     yes   no   \n",
       "11158   39     services  married  secondary      no      733      no   no   \n",
       "11159   32   technician   single  secondary      no       29      no   no   \n",
       "11160   43   technician  married  secondary      no        0      no  yes   \n",
       "11161   34   technician  married  secondary      no        0      no   no   \n",
       "\n",
       "        contact  day month  duration  campaign  pdays  previous poutcome  \n",
       "0       unknown    5   may      1042         1     -1         0  unknown  \n",
       "1       unknown    5   may      1467         1     -1         0  unknown  \n",
       "2       unknown    5   may      1389         1     -1         0  unknown  \n",
       "3       unknown    5   may       579         1     -1         0  unknown  \n",
       "4       unknown    5   may       673         2     -1         0  unknown  \n",
       "...         ...  ...   ...       ...       ...    ...       ...      ...  \n",
       "11157  cellular   20   apr       257         1     -1         0  unknown  \n",
       "11158   unknown   16   jun        83         4     -1         0  unknown  \n",
       "11159  cellular   19   aug       156         2     -1         0  unknown  \n",
       "11160  cellular    8   may         9         2    172         5  failure  \n",
       "11161  cellular    9   jul       628         1     -1         0  unknown  \n",
       "\n",
       "[11162 rows x 16 columns]"
      ]
     },
     "execution_count": 16,
     "metadata": {},
     "output_type": "execute_result"
    }
   ],
   "source": [
    "x=data.iloc[:,:-1]\n",
    "x"
   ]
  },
  {
   "cell_type": "code",
   "execution_count": 17,
   "metadata": {},
   "outputs": [
    {
     "data": {
      "text/plain": [
       "0        yes\n",
       "1        yes\n",
       "2        yes\n",
       "3        yes\n",
       "4        yes\n",
       "        ... \n",
       "11157     no\n",
       "11158     no\n",
       "11159     no\n",
       "11160     no\n",
       "11161     no\n",
       "Name: deposit, Length: 11162, dtype: object"
      ]
     },
     "execution_count": 17,
     "metadata": {},
     "output_type": "execute_result"
    }
   ],
   "source": [
    "y=data.iloc[:,16]\n",
    "y"
   ]
  },
  {
   "cell_type": "code",
   "execution_count": 18,
   "metadata": {},
   "outputs": [
    {
     "data": {
      "text/html": [
       "<div>\n",
       "<style scoped>\n",
       "    .dataframe tbody tr th:only-of-type {\n",
       "        vertical-align: middle;\n",
       "    }\n",
       "\n",
       "    .dataframe tbody tr th {\n",
       "        vertical-align: top;\n",
       "    }\n",
       "\n",
       "    .dataframe thead th {\n",
       "        text-align: right;\n",
       "    }\n",
       "</style>\n",
       "<table border=\"1\" class=\"dataframe\">\n",
       "  <thead>\n",
       "    <tr style=\"text-align: right;\">\n",
       "      <th></th>\n",
       "      <th>age</th>\n",
       "      <th>job</th>\n",
       "      <th>marital</th>\n",
       "      <th>education</th>\n",
       "      <th>default</th>\n",
       "      <th>balance</th>\n",
       "      <th>housing</th>\n",
       "      <th>loan</th>\n",
       "      <th>contact</th>\n",
       "      <th>day</th>\n",
       "      <th>month</th>\n",
       "      <th>duration</th>\n",
       "      <th>campaign</th>\n",
       "      <th>pdays</th>\n",
       "      <th>previous</th>\n",
       "      <th>poutcome</th>\n",
       "    </tr>\n",
       "  </thead>\n",
       "  <tbody>\n",
       "    <tr>\n",
       "      <td>0</td>\n",
       "      <td>41</td>\n",
       "      <td>0</td>\n",
       "      <td>1</td>\n",
       "      <td>1</td>\n",
       "      <td>0</td>\n",
       "      <td>2288</td>\n",
       "      <td>1</td>\n",
       "      <td>0</td>\n",
       "      <td>2</td>\n",
       "      <td>4</td>\n",
       "      <td>8</td>\n",
       "      <td>1021</td>\n",
       "      <td>0</td>\n",
       "      <td>0</td>\n",
       "      <td>0</td>\n",
       "      <td>3</td>\n",
       "    </tr>\n",
       "    <tr>\n",
       "      <td>1</td>\n",
       "      <td>38</td>\n",
       "      <td>0</td>\n",
       "      <td>1</td>\n",
       "      <td>1</td>\n",
       "      <td>0</td>\n",
       "      <td>469</td>\n",
       "      <td>0</td>\n",
       "      <td>0</td>\n",
       "      <td>2</td>\n",
       "      <td>4</td>\n",
       "      <td>8</td>\n",
       "      <td>1283</td>\n",
       "      <td>0</td>\n",
       "      <td>0</td>\n",
       "      <td>0</td>\n",
       "      <td>3</td>\n",
       "    </tr>\n",
       "    <tr>\n",
       "      <td>2</td>\n",
       "      <td>23</td>\n",
       "      <td>9</td>\n",
       "      <td>1</td>\n",
       "      <td>1</td>\n",
       "      <td>0</td>\n",
       "      <td>1618</td>\n",
       "      <td>1</td>\n",
       "      <td>0</td>\n",
       "      <td>2</td>\n",
       "      <td>4</td>\n",
       "      <td>8</td>\n",
       "      <td>1246</td>\n",
       "      <td>0</td>\n",
       "      <td>0</td>\n",
       "      <td>0</td>\n",
       "      <td>3</td>\n",
       "    </tr>\n",
       "    <tr>\n",
       "      <td>3</td>\n",
       "      <td>37</td>\n",
       "      <td>7</td>\n",
       "      <td>1</td>\n",
       "      <td>1</td>\n",
       "      <td>0</td>\n",
       "      <td>2356</td>\n",
       "      <td>1</td>\n",
       "      <td>0</td>\n",
       "      <td>2</td>\n",
       "      <td>4</td>\n",
       "      <td>8</td>\n",
       "      <td>577</td>\n",
       "      <td>0</td>\n",
       "      <td>0</td>\n",
       "      <td>0</td>\n",
       "      <td>3</td>\n",
       "    </tr>\n",
       "    <tr>\n",
       "      <td>4</td>\n",
       "      <td>36</td>\n",
       "      <td>0</td>\n",
       "      <td>1</td>\n",
       "      <td>2</td>\n",
       "      <td>0</td>\n",
       "      <td>608</td>\n",
       "      <td>0</td>\n",
       "      <td>0</td>\n",
       "      <td>2</td>\n",
       "      <td>4</td>\n",
       "      <td>8</td>\n",
       "      <td>671</td>\n",
       "      <td>1</td>\n",
       "      <td>0</td>\n",
       "      <td>0</td>\n",
       "      <td>3</td>\n",
       "    </tr>\n",
       "    <tr>\n",
       "      <td>...</td>\n",
       "      <td>...</td>\n",
       "      <td>...</td>\n",
       "      <td>...</td>\n",
       "      <td>...</td>\n",
       "      <td>...</td>\n",
       "      <td>...</td>\n",
       "      <td>...</td>\n",
       "      <td>...</td>\n",
       "      <td>...</td>\n",
       "      <td>...</td>\n",
       "      <td>...</td>\n",
       "      <td>...</td>\n",
       "      <td>...</td>\n",
       "      <td>...</td>\n",
       "      <td>...</td>\n",
       "      <td>...</td>\n",
       "    </tr>\n",
       "    <tr>\n",
       "      <td>11157</td>\n",
       "      <td>15</td>\n",
       "      <td>1</td>\n",
       "      <td>2</td>\n",
       "      <td>0</td>\n",
       "      <td>0</td>\n",
       "      <td>425</td>\n",
       "      <td>1</td>\n",
       "      <td>0</td>\n",
       "      <td>0</td>\n",
       "      <td>19</td>\n",
       "      <td>0</td>\n",
       "      <td>255</td>\n",
       "      <td>0</td>\n",
       "      <td>0</td>\n",
       "      <td>0</td>\n",
       "      <td>3</td>\n",
       "    </tr>\n",
       "    <tr>\n",
       "      <td>11158</td>\n",
       "      <td>21</td>\n",
       "      <td>7</td>\n",
       "      <td>1</td>\n",
       "      <td>1</td>\n",
       "      <td>0</td>\n",
       "      <td>1149</td>\n",
       "      <td>0</td>\n",
       "      <td>0</td>\n",
       "      <td>2</td>\n",
       "      <td>15</td>\n",
       "      <td>6</td>\n",
       "      <td>81</td>\n",
       "      <td>3</td>\n",
       "      <td>0</td>\n",
       "      <td>0</td>\n",
       "      <td>3</td>\n",
       "    </tr>\n",
       "    <tr>\n",
       "      <td>11159</td>\n",
       "      <td>14</td>\n",
       "      <td>9</td>\n",
       "      <td>2</td>\n",
       "      <td>1</td>\n",
       "      <td>0</td>\n",
       "      <td>453</td>\n",
       "      <td>0</td>\n",
       "      <td>0</td>\n",
       "      <td>0</td>\n",
       "      <td>18</td>\n",
       "      <td>1</td>\n",
       "      <td>154</td>\n",
       "      <td>1</td>\n",
       "      <td>0</td>\n",
       "      <td>0</td>\n",
       "      <td>3</td>\n",
       "    </tr>\n",
       "    <tr>\n",
       "      <td>11160</td>\n",
       "      <td>25</td>\n",
       "      <td>9</td>\n",
       "      <td>1</td>\n",
       "      <td>1</td>\n",
       "      <td>0</td>\n",
       "      <td>424</td>\n",
       "      <td>0</td>\n",
       "      <td>1</td>\n",
       "      <td>0</td>\n",
       "      <td>7</td>\n",
       "      <td>8</td>\n",
       "      <td>7</td>\n",
       "      <td>1</td>\n",
       "      <td>155</td>\n",
       "      <td>5</td>\n",
       "      <td>0</td>\n",
       "    </tr>\n",
       "    <tr>\n",
       "      <td>11161</td>\n",
       "      <td>16</td>\n",
       "      <td>9</td>\n",
       "      <td>1</td>\n",
       "      <td>1</td>\n",
       "      <td>0</td>\n",
       "      <td>424</td>\n",
       "      <td>0</td>\n",
       "      <td>0</td>\n",
       "      <td>0</td>\n",
       "      <td>8</td>\n",
       "      <td>5</td>\n",
       "      <td>626</td>\n",
       "      <td>0</td>\n",
       "      <td>0</td>\n",
       "      <td>0</td>\n",
       "      <td>3</td>\n",
       "    </tr>\n",
       "  </tbody>\n",
       "</table>\n",
       "<p>11162 rows × 16 columns</p>\n",
       "</div>"
      ],
      "text/plain": [
       "       age  job  marital  education  default  balance  housing  loan  contact  \\\n",
       "0       41    0        1          1        0     2288        1     0        2   \n",
       "1       38    0        1          1        0      469        0     0        2   \n",
       "2       23    9        1          1        0     1618        1     0        2   \n",
       "3       37    7        1          1        0     2356        1     0        2   \n",
       "4       36    0        1          2        0      608        0     0        2   \n",
       "...    ...  ...      ...        ...      ...      ...      ...   ...      ...   \n",
       "11157   15    1        2          0        0      425        1     0        0   \n",
       "11158   21    7        1          1        0     1149        0     0        2   \n",
       "11159   14    9        2          1        0      453        0     0        0   \n",
       "11160   25    9        1          1        0      424        0     1        0   \n",
       "11161   16    9        1          1        0      424        0     0        0   \n",
       "\n",
       "       day  month  duration  campaign  pdays  previous  poutcome  \n",
       "0        4      8      1021         0      0         0         3  \n",
       "1        4      8      1283         0      0         0         3  \n",
       "2        4      8      1246         0      0         0         3  \n",
       "3        4      8       577         0      0         0         3  \n",
       "4        4      8       671         1      0         0         3  \n",
       "...    ...    ...       ...       ...    ...       ...       ...  \n",
       "11157   19      0       255         0      0         0         3  \n",
       "11158   15      6        81         3      0         0         3  \n",
       "11159   18      1       154         1      0         0         3  \n",
       "11160    7      8         7         1    155         5         0  \n",
       "11161    8      5       626         0      0         0         3  \n",
       "\n",
       "[11162 rows x 16 columns]"
      ]
     },
     "execution_count": 18,
     "metadata": {},
     "output_type": "execute_result"
    }
   ],
   "source": [
    "from sklearn.preprocessing import LabelEncoder\n",
    "labelencoder_x=LabelEncoder()\n",
    "x=x.apply(LabelEncoder().fit_transform)\n",
    "x"
   ]
  },
  {
   "cell_type": "code",
   "execution_count": 19,
   "metadata": {},
   "outputs": [
    {
     "data": {
      "text/plain": [
       "DecisionTreeClassifier(class_weight=None, criterion='gini', max_depth=None,\n",
       "                       max_features=None, max_leaf_nodes=None,\n",
       "                       min_impurity_decrease=0.0, min_impurity_split=None,\n",
       "                       min_samples_leaf=1, min_samples_split=2,\n",
       "                       min_weight_fraction_leaf=0.0, presort=False,\n",
       "                       random_state=None, splitter='best')"
      ]
     },
     "execution_count": 19,
     "metadata": {},
     "output_type": "execute_result"
    }
   ],
   "source": [
    "from sklearn.tree import DecisionTreeClassifier\n",
    "regressor=DecisionTreeClassifier()\n",
    "regressor.fit(x.iloc[:,1:16],y)"
   ]
  },
  {
   "cell_type": "raw",
   "metadata": {},
   "source": []
  },
  {
   "cell_type": "code",
   "execution_count": 22,
   "metadata": {},
   "outputs": [
    {
     "data": {
      "text/plain": [
       "True"
      ]
     },
     "execution_count": 22,
     "metadata": {},
     "output_type": "execute_result"
    }
   ],
   "source": [
    "from sklearn.externals.six import StringIO\n",
    "from IPython.display import Image\n",
    "from sklearn.tree import export_graphviz\n",
    "import pydotplus\n",
    "from sklearn import tree\n",
    "import graphviz\n",
    "\n",
    "\n",
    "dot_data=StringIO()\n",
    "export_graphviz(regressor,out_file=dot_data,filled=True,rounded=True,special_characters=True)\n",
    "graph=pydotplus.graph_from_dot_data(dot_data.getvalue())\n",
    "graph.write_pdf('tree.pdf')"
   ]
  },
  {
   "cell_type": "code",
   "execution_count": null,
   "metadata": {},
   "outputs": [],
   "source": []
  },
  {
   "cell_type": "code",
   "execution_count": null,
   "metadata": {},
   "outputs": [],
   "source": []
  },
  {
   "cell_type": "code",
   "execution_count": null,
   "metadata": {},
   "outputs": [],
   "source": []
  },
  {
   "cell_type": "code",
   "execution_count": null,
   "metadata": {},
   "outputs": [],
   "source": []
  },
  {
   "cell_type": "code",
   "execution_count": null,
   "metadata": {},
   "outputs": [],
   "source": []
  },
  {
   "cell_type": "code",
   "execution_count": null,
   "metadata": {},
   "outputs": [],
   "source": []
  },
  {
   "cell_type": "code",
   "execution_count": null,
   "metadata": {},
   "outputs": [],
   "source": []
  },
  {
   "cell_type": "code",
   "execution_count": null,
   "metadata": {},
   "outputs": [],
   "source": []
  },
  {
   "cell_type": "code",
   "execution_count": null,
   "metadata": {},
   "outputs": [],
   "source": []
  },
  {
   "cell_type": "code",
   "execution_count": null,
   "metadata": {},
   "outputs": [],
   "source": []
  },
  {
   "cell_type": "code",
   "execution_count": null,
   "metadata": {},
   "outputs": [],
   "source": []
  },
  {
   "cell_type": "code",
   "execution_count": null,
   "metadata": {},
   "outputs": [],
   "source": []
  },
  {
   "cell_type": "code",
   "execution_count": null,
   "metadata": {},
   "outputs": [],
   "source": []
  },
  {
   "cell_type": "code",
   "execution_count": null,
   "metadata": {},
   "outputs": [],
   "source": []
  },
  {
   "cell_type": "code",
   "execution_count": null,
   "metadata": {},
   "outputs": [],
   "source": []
  },
  {
   "cell_type": "code",
   "execution_count": null,
   "metadata": {},
   "outputs": [],
   "source": []
  }
 ],
 "metadata": {
  "kernelspec": {
   "display_name": "Python 3 (ipykernel)",
   "language": "python",
   "name": "python3"
  },
  "language_info": {
   "codemirror_mode": {
    "name": "ipython",
    "version": 3
   },
   "file_extension": ".py",
   "mimetype": "text/x-python",
   "name": "python",
   "nbconvert_exporter": "python",
   "pygments_lexer": "ipython3",
   "version": "3.9.13"
  }
 },
 "nbformat": 4,
 "nbformat_minor": 2
}
